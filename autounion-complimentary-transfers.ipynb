{
 "cells": [
  {
   "cell_type": "code",
   "execution_count": 1,
   "id": "db44e121",
   "metadata": {},
   "outputs": [],
   "source": [
    "import pandas as pd\n",
    "import plotly.express as px\n",
    "import plotly.graph_objects as go\n",
    "import folium\n",
    "import seaborn as sns"
   ]
  },
  {
   "cell_type": "code",
   "execution_count": 2,
   "id": "6ca6d9b3",
   "metadata": {},
   "outputs": [
    {
     "data": {
      "text/html": [
       "<div>\n",
       "<style scoped>\n",
       "    .dataframe tbody tr th:only-of-type {\n",
       "        vertical-align: middle;\n",
       "    }\n",
       "\n",
       "    .dataframe tbody tr th {\n",
       "        vertical-align: top;\n",
       "    }\n",
       "\n",
       "    .dataframe thead th {\n",
       "        text-align: right;\n",
       "    }\n",
       "</style>\n",
       "<table border=\"1\" class=\"dataframe\">\n",
       "  <thead>\n",
       "    <tr style=\"text-align: right;\">\n",
       "      <th></th>\n",
       "      <th>Ημερομηνία</th>\n",
       "      <th>Day</th>\n",
       "      <th>Month</th>\n",
       "      <th>Year</th>\n",
       "      <th>Ωρα</th>\n",
       "      <th>Ωρα.1</th>\n",
       "      <th>Διαδρομή</th>\n",
       "      <th>From</th>\n",
       "      <th>From .1</th>\n",
       "      <th>To</th>\n",
       "      <th>To.1</th>\n",
       "      <th>Transfer Type</th>\n",
       "      <th>Σχόλια/Πελάτης</th>\n",
       "      <th>Σχόλια/Πελάτης.1</th>\n",
       "      <th>Εν-Πδ-Νπ / Ημερομηνία</th>\n",
       "      <th>RsvNo/Διαδρομή</th>\n",
       "      <th>Τύπος Αυτοκινήτου</th>\n",
       "      <th>Τύπος Αυτοκινήτου.1</th>\n",
       "      <th>Πληρωμή</th>\n",
       "    </tr>\n",
       "  </thead>\n",
       "  <tbody>\n",
       "    <tr>\n",
       "      <th>0</th>\n",
       "      <td>2022-02-21 07:00:00</td>\n",
       "      <td>21.0</td>\n",
       "      <td>2</td>\n",
       "      <td>2022</td>\n",
       "      <td>NaN</td>\n",
       "      <td>AM</td>\n",
       "      <td>Transfers - Μεταφορά 1. Costa Navarino Dunes, ...</td>\n",
       "      <td>The Dunes Club</td>\n",
       "      <td>The Dunes Club</td>\n",
       "      <td>The Bay Course</td>\n",
       "      <td>The Bay Course</td>\n",
       "      <td>Golf Transfers</td>\n",
       "      <td>GOLF SHUTTLE ΤΕΜΕΣ Α.Ε.</td>\n",
       "      <td>GOLF SHUTTLE ΤΕΜΕΣ Α.Ε.</td>\n",
       "      <td>19-0-0</td>\n",
       "      <td>4279</td>\n",
       "      <td>Mercedes Sprinter 19seater</td>\n",
       "      <td>Mercedes Sprinter 19seater</td>\n",
       "      <td>361.6</td>\n",
       "    </tr>\n",
       "    <tr>\n",
       "      <th>1</th>\n",
       "      <td>2022-02-21 07:00:00</td>\n",
       "      <td>21.0</td>\n",
       "      <td>2</td>\n",
       "      <td>2022</td>\n",
       "      <td>NaN</td>\n",
       "      <td>AM</td>\n",
       "      <td>Transfers - Μεταφορά 1. Costa Navarino Dunes, ...</td>\n",
       "      <td>The Dunes Club</td>\n",
       "      <td>The Dunes Club</td>\n",
       "      <td>The Bay Course</td>\n",
       "      <td>The Bay Course</td>\n",
       "      <td>Golf Transfers</td>\n",
       "      <td>GOLF SHUTTLE ΤΕΜΕΣ Α.Ε.</td>\n",
       "      <td>GOLF SHUTTLE ΤΕΜΕΣ Α.Ε.</td>\n",
       "      <td>19-0-0</td>\n",
       "      <td>4280</td>\n",
       "      <td>Mercedes Sprinter 19seater</td>\n",
       "      <td>Mercedes Sprinter 19seater</td>\n",
       "      <td>361.6</td>\n",
       "    </tr>\n",
       "    <tr>\n",
       "      <th>2</th>\n",
       "      <td>2022-02-22 07:00:00</td>\n",
       "      <td>22.0</td>\n",
       "      <td>2</td>\n",
       "      <td>2022</td>\n",
       "      <td>NaN</td>\n",
       "      <td>AM</td>\n",
       "      <td>Transfers - Μεταφορά 1. Costa Navarino Dunes, ...</td>\n",
       "      <td>The Dunes Club</td>\n",
       "      <td>The Dunes Club</td>\n",
       "      <td>The Bay Course</td>\n",
       "      <td>The Bay Course</td>\n",
       "      <td>Golf Transfers</td>\n",
       "      <td>GOLF SHUTTLE ΤΕΜΕΣ Α.Ε.</td>\n",
       "      <td>GOLF SHUTTLE ΤΕΜΕΣ Α.Ε.</td>\n",
       "      <td>19-0-0</td>\n",
       "      <td>4281</td>\n",
       "      <td>Mercedes Sprinter 19seater</td>\n",
       "      <td>Mercedes Sprinter 19seater</td>\n",
       "      <td>361.6</td>\n",
       "    </tr>\n",
       "    <tr>\n",
       "      <th>3</th>\n",
       "      <td>2022-02-22 07:00:00</td>\n",
       "      <td>22.0</td>\n",
       "      <td>2</td>\n",
       "      <td>2022</td>\n",
       "      <td>NaN</td>\n",
       "      <td>AM</td>\n",
       "      <td>Transfers - Μεταφορά 1. Costa Navarino Dunes, ...</td>\n",
       "      <td>The Dunes Club</td>\n",
       "      <td>The Dunes Club</td>\n",
       "      <td>The Bay Course</td>\n",
       "      <td>The Bay Course</td>\n",
       "      <td>Golf Transfers</td>\n",
       "      <td>GOLF SHUTTLE ΤΕΜΕΣ Α.Ε.</td>\n",
       "      <td>GOLF SHUTTLE ΤΕΜΕΣ Α.Ε.</td>\n",
       "      <td>19-0-0</td>\n",
       "      <td>4288</td>\n",
       "      <td>Mercedes Sprinter 19seater</td>\n",
       "      <td>Mercedes Sprinter 19seater</td>\n",
       "      <td>361.6</td>\n",
       "    </tr>\n",
       "    <tr>\n",
       "      <th>4</th>\n",
       "      <td>2022-02-22 17:00:00</td>\n",
       "      <td>22.0</td>\n",
       "      <td>2</td>\n",
       "      <td>2022</td>\n",
       "      <td>NaN</td>\n",
       "      <td>AM</td>\n",
       "      <td>Transfers - Μεταφορά 1. Costa Navarino Dunes, ...</td>\n",
       "      <td>Costa Navarino Dunes/Westin</td>\n",
       "      <td>Costa Navarino Dunes</td>\n",
       "      <td>Pylos</td>\n",
       "      <td>Pylos</td>\n",
       "      <td>Local Routes</td>\n",
       "      <td>NAVARINO COLLECTIONS PETRINO ΤΕΜΕΣ Α.Ε.</td>\n",
       "      <td>Hotel Guest Transfer</td>\n",
       "      <td>4-0-0</td>\n",
       "      <td>4171</td>\n",
       "      <td>Minivan</td>\n",
       "      <td>Mercedes Vito/Viano/Minivan</td>\n",
       "      <td>50</td>\n",
       "    </tr>\n",
       "  </tbody>\n",
       "</table>\n",
       "</div>"
      ],
      "text/plain": [
       "           Ημερομηνία  Day   Month  Year  Ωρα Ωρα.1  \\\n",
       "0 2022-02-21 07:00:00  21.0      2  2022  NaN    AM   \n",
       "1 2022-02-21 07:00:00  21.0      2  2022  NaN    AM   \n",
       "2 2022-02-22 07:00:00  22.0      2  2022  NaN    AM   \n",
       "3 2022-02-22 07:00:00  22.0      2  2022  NaN    AM   \n",
       "4 2022-02-22 17:00:00  22.0      2  2022  NaN    AM   \n",
       "\n",
       "                                            Διαδρομή  \\\n",
       "0  Transfers - Μεταφορά 1. Costa Navarino Dunes, ...   \n",
       "1  Transfers - Μεταφορά 1. Costa Navarino Dunes, ...   \n",
       "2  Transfers - Μεταφορά 1. Costa Navarino Dunes, ...   \n",
       "3  Transfers - Μεταφορά 1. Costa Navarino Dunes, ...   \n",
       "4  Transfers - Μεταφορά 1. Costa Navarino Dunes, ...   \n",
       "\n",
       "                         From                From .1              To  \\\n",
       "0               The Dunes Club        The Dunes Club  The Bay Course   \n",
       "1               The Dunes Club        The Dunes Club  The Bay Course   \n",
       "2               The Dunes Club        The Dunes Club  The Bay Course   \n",
       "3               The Dunes Club        The Dunes Club  The Bay Course   \n",
       "4  Costa Navarino Dunes/Westin  Costa Navarino Dunes           Pylos   \n",
       "\n",
       "             To.1   Transfer Type                           Σχόλια/Πελάτης  \\\n",
       "0  The Bay Course  Golf Transfers                  GOLF SHUTTLE ΤΕΜΕΣ Α.Ε.   \n",
       "1  The Bay Course  Golf Transfers                  GOLF SHUTTLE ΤΕΜΕΣ Α.Ε.   \n",
       "2  The Bay Course  Golf Transfers                  GOLF SHUTTLE ΤΕΜΕΣ Α.Ε.   \n",
       "3  The Bay Course  Golf Transfers                  GOLF SHUTTLE ΤΕΜΕΣ Α.Ε.   \n",
       "4           Pylos    Local Routes  NAVARINO COLLECTIONS PETRINO ΤΕΜΕΣ Α.Ε.   \n",
       "\n",
       "          Σχόλια/Πελάτης.1 Εν-Πδ-Νπ / Ημερομηνία RsvNo/Διαδρομή  \\\n",
       "0  GOLF SHUTTLE ΤΕΜΕΣ Α.Ε.                19-0-0           4279   \n",
       "1  GOLF SHUTTLE ΤΕΜΕΣ Α.Ε.                19-0-0           4280   \n",
       "2  GOLF SHUTTLE ΤΕΜΕΣ Α.Ε.                19-0-0           4281   \n",
       "3  GOLF SHUTTLE ΤΕΜΕΣ Α.Ε.                19-0-0           4288   \n",
       "4     Hotel Guest Transfer                 4-0-0           4171   \n",
       "\n",
       "            Τύπος Αυτοκινήτου          Τύπος Αυτοκινήτου.1 Πληρωμή  \n",
       "0  Mercedes Sprinter 19seater   Mercedes Sprinter 19seater   361.6  \n",
       "1  Mercedes Sprinter 19seater   Mercedes Sprinter 19seater   361.6  \n",
       "2  Mercedes Sprinter 19seater   Mercedes Sprinter 19seater   361.6  \n",
       "3  Mercedes Sprinter 19seater   Mercedes Sprinter 19seater   361.6  \n",
       "4                     Minivan  Mercedes Vito/Viano/Minivan      50  "
      ]
     },
     "execution_count": 2,
     "metadata": {},
     "output_type": "execute_result"
    }
   ],
   "source": [
    "# read the Autounion company free (complimentary transfers for 2022)\n",
    "df = pd.read_excel(\n",
    "    r\"C:\\Users\\ioannis.maragkakis\\OneDrive - Accenture\\Desktop\\TEMES-COSTA-NAVARINO\\data\\4. Autounion  complimentary Transfers details temes 2022.xlsx\", \n",
    "    sheet_name='working sheet')\n",
    "df.head()"
   ]
  },
  {
   "cell_type": "code",
   "execution_count": 3,
   "id": "e8b54b73",
   "metadata": {},
   "outputs": [],
   "source": [
    "# change the column names\n",
    "df.columns = ['date', 'day', 'month', 'year', 'hour', 'am/pm', 'transfer', 'from', 'from1', 'to', 'to1', 'transfer_type', 'comments', 'comments1', 'date_enpdnp', 'rsv_no', 'car_type', 'car_type1', 'payment']"
   ]
  },
  {
   "cell_type": "code",
   "execution_count": 4,
   "id": "975a491d",
   "metadata": {},
   "outputs": [
    {
     "name": "stdout",
     "output_type": "stream",
     "text": [
      "<class 'pandas.core.frame.DataFrame'>\n",
      "RangeIndex: 1873 entries, 0 to 1872\n",
      "Data columns (total 19 columns):\n",
      " #   Column         Non-Null Count  Dtype         \n",
      "---  ------         --------------  -----         \n",
      " 0   date           1872 non-null   datetime64[ns]\n",
      " 1   day            1872 non-null   float64       \n",
      " 2   month          1873 non-null   int64         \n",
      " 3   year           1873 non-null   int64         \n",
      " 4   hour           0 non-null      float64       \n",
      " 5   am/pm          1873 non-null   object        \n",
      " 6   transfer       1872 non-null   object        \n",
      " 7   from           1873 non-null   object        \n",
      " 8   from1          1873 non-null   object        \n",
      " 9   to             1873 non-null   object        \n",
      " 10  to1            1873 non-null   object        \n",
      " 11  transfer_type  1873 non-null   object        \n",
      " 12  comments       1872 non-null   object        \n",
      " 13  comments1      1873 non-null   object        \n",
      " 14  date_enpdnp    1872 non-null   object        \n",
      " 15  rsv_no         1872 non-null   object        \n",
      " 16  car_type       1872 non-null   object        \n",
      " 17  car_type1      1873 non-null   object        \n",
      " 18  payment        1873 non-null   object        \n",
      "dtypes: datetime64[ns](1), float64(2), int64(2), object(14)\n",
      "memory usage: 278.1+ KB\n"
     ]
    }
   ],
   "source": [
    "df.info()"
   ]
  },
  {
   "cell_type": "code",
   "execution_count": 5,
   "id": "2d3bd5db",
   "metadata": {},
   "outputs": [
    {
     "data": {
      "text/html": [
       "<div>\n",
       "<style scoped>\n",
       "    .dataframe tbody tr th:only-of-type {\n",
       "        vertical-align: middle;\n",
       "    }\n",
       "\n",
       "    .dataframe tbody tr th {\n",
       "        vertical-align: top;\n",
       "    }\n",
       "\n",
       "    .dataframe thead th {\n",
       "        text-align: right;\n",
       "    }\n",
       "</style>\n",
       "<table border=\"1\" class=\"dataframe\">\n",
       "  <thead>\n",
       "    <tr style=\"text-align: right;\">\n",
       "      <th></th>\n",
       "      <th>date</th>\n",
       "      <th>day</th>\n",
       "      <th>month</th>\n",
       "      <th>year</th>\n",
       "      <th>hour</th>\n",
       "      <th>am/pm</th>\n",
       "      <th>transfer</th>\n",
       "      <th>from</th>\n",
       "      <th>from1</th>\n",
       "      <th>to</th>\n",
       "      <th>to1</th>\n",
       "      <th>transfer_type</th>\n",
       "      <th>comments</th>\n",
       "      <th>comments1</th>\n",
       "      <th>date_enpdnp</th>\n",
       "      <th>rsv_no</th>\n",
       "      <th>car_type</th>\n",
       "      <th>car_type1</th>\n",
       "      <th>payment</th>\n",
       "    </tr>\n",
       "  </thead>\n",
       "  <tbody>\n",
       "    <tr>\n",
       "      <th>0</th>\n",
       "      <td>2022-02-21 07:00:00</td>\n",
       "      <td>21.0</td>\n",
       "      <td>2</td>\n",
       "      <td>2022</td>\n",
       "      <td>NaN</td>\n",
       "      <td>AM</td>\n",
       "      <td>Transfers - Μεταφορά 1. Costa Navarino Dunes, ...</td>\n",
       "      <td>The Dunes Club</td>\n",
       "      <td>The Dunes Club</td>\n",
       "      <td>The Bay Course</td>\n",
       "      <td>The Bay Course</td>\n",
       "      <td>Golf Transfers</td>\n",
       "      <td>GOLF SHUTTLE ΤΕΜΕΣ Α.Ε.</td>\n",
       "      <td>GOLF SHUTTLE ΤΕΜΕΣ Α.Ε.</td>\n",
       "      <td>19-0-0</td>\n",
       "      <td>4279</td>\n",
       "      <td>Mercedes Sprinter 19seater</td>\n",
       "      <td>Mercedes Sprinter 19seater</td>\n",
       "      <td>361.6</td>\n",
       "    </tr>\n",
       "    <tr>\n",
       "      <th>1</th>\n",
       "      <td>2022-02-21 07:00:00</td>\n",
       "      <td>21.0</td>\n",
       "      <td>2</td>\n",
       "      <td>2022</td>\n",
       "      <td>NaN</td>\n",
       "      <td>AM</td>\n",
       "      <td>Transfers - Μεταφορά 1. Costa Navarino Dunes, ...</td>\n",
       "      <td>The Dunes Club</td>\n",
       "      <td>The Dunes Club</td>\n",
       "      <td>The Bay Course</td>\n",
       "      <td>The Bay Course</td>\n",
       "      <td>Golf Transfers</td>\n",
       "      <td>GOLF SHUTTLE ΤΕΜΕΣ Α.Ε.</td>\n",
       "      <td>GOLF SHUTTLE ΤΕΜΕΣ Α.Ε.</td>\n",
       "      <td>19-0-0</td>\n",
       "      <td>4280</td>\n",
       "      <td>Mercedes Sprinter 19seater</td>\n",
       "      <td>Mercedes Sprinter 19seater</td>\n",
       "      <td>361.6</td>\n",
       "    </tr>\n",
       "    <tr>\n",
       "      <th>2</th>\n",
       "      <td>2022-02-22 07:00:00</td>\n",
       "      <td>22.0</td>\n",
       "      <td>2</td>\n",
       "      <td>2022</td>\n",
       "      <td>NaN</td>\n",
       "      <td>AM</td>\n",
       "      <td>Transfers - Μεταφορά 1. Costa Navarino Dunes, ...</td>\n",
       "      <td>The Dunes Club</td>\n",
       "      <td>The Dunes Club</td>\n",
       "      <td>The Bay Course</td>\n",
       "      <td>The Bay Course</td>\n",
       "      <td>Golf Transfers</td>\n",
       "      <td>GOLF SHUTTLE ΤΕΜΕΣ Α.Ε.</td>\n",
       "      <td>GOLF SHUTTLE ΤΕΜΕΣ Α.Ε.</td>\n",
       "      <td>19-0-0</td>\n",
       "      <td>4281</td>\n",
       "      <td>Mercedes Sprinter 19seater</td>\n",
       "      <td>Mercedes Sprinter 19seater</td>\n",
       "      <td>361.6</td>\n",
       "    </tr>\n",
       "    <tr>\n",
       "      <th>3</th>\n",
       "      <td>2022-02-22 07:00:00</td>\n",
       "      <td>22.0</td>\n",
       "      <td>2</td>\n",
       "      <td>2022</td>\n",
       "      <td>NaN</td>\n",
       "      <td>AM</td>\n",
       "      <td>Transfers - Μεταφορά 1. Costa Navarino Dunes, ...</td>\n",
       "      <td>The Dunes Club</td>\n",
       "      <td>The Dunes Club</td>\n",
       "      <td>The Bay Course</td>\n",
       "      <td>The Bay Course</td>\n",
       "      <td>Golf Transfers</td>\n",
       "      <td>GOLF SHUTTLE ΤΕΜΕΣ Α.Ε.</td>\n",
       "      <td>GOLF SHUTTLE ΤΕΜΕΣ Α.Ε.</td>\n",
       "      <td>19-0-0</td>\n",
       "      <td>4288</td>\n",
       "      <td>Mercedes Sprinter 19seater</td>\n",
       "      <td>Mercedes Sprinter 19seater</td>\n",
       "      <td>361.6</td>\n",
       "    </tr>\n",
       "    <tr>\n",
       "      <th>5</th>\n",
       "      <td>2022-02-23 07:00:00</td>\n",
       "      <td>23.0</td>\n",
       "      <td>2</td>\n",
       "      <td>2022</td>\n",
       "      <td>NaN</td>\n",
       "      <td>AM</td>\n",
       "      <td>Transfers - Μεταφορά 1. Costa Navarino Dunes, ...</td>\n",
       "      <td>The Dunes Club</td>\n",
       "      <td>The Dunes Club</td>\n",
       "      <td>The Bay Course</td>\n",
       "      <td>The Bay Course</td>\n",
       "      <td>Golf Transfers</td>\n",
       "      <td>GOLF SHUTTLE ΤΕΜΕΣ Α.Ε.</td>\n",
       "      <td>GOLF SHUTTLE ΤΕΜΕΣ Α.Ε.</td>\n",
       "      <td>19-0-0</td>\n",
       "      <td>4282</td>\n",
       "      <td>Mercedes Sprinter 19seater</td>\n",
       "      <td>Mercedes Sprinter 19seater</td>\n",
       "      <td>361.6</td>\n",
       "    </tr>\n",
       "    <tr>\n",
       "      <th>...</th>\n",
       "      <td>...</td>\n",
       "      <td>...</td>\n",
       "      <td>...</td>\n",
       "      <td>...</td>\n",
       "      <td>...</td>\n",
       "      <td>...</td>\n",
       "      <td>...</td>\n",
       "      <td>...</td>\n",
       "      <td>...</td>\n",
       "      <td>...</td>\n",
       "      <td>...</td>\n",
       "      <td>...</td>\n",
       "      <td>...</td>\n",
       "      <td>...</td>\n",
       "      <td>...</td>\n",
       "      <td>...</td>\n",
       "      <td>...</td>\n",
       "      <td>...</td>\n",
       "      <td>...</td>\n",
       "    </tr>\n",
       "    <tr>\n",
       "      <th>1844</th>\n",
       "      <td>2022-11-25 07:00:00</td>\n",
       "      <td>25.0</td>\n",
       "      <td>11</td>\n",
       "      <td>2022</td>\n",
       "      <td>NaN</td>\n",
       "      <td>AM</td>\n",
       "      <td>Transfers - Μεταφορά 1. Costa Navarino Dunes, ...</td>\n",
       "      <td>The Dunes Club</td>\n",
       "      <td>The Dunes Club</td>\n",
       "      <td>The Bay Course</td>\n",
       "      <td>The Bay Course</td>\n",
       "      <td>Golf Transfers</td>\n",
       "      <td>GOLF SHUTTLE ΤΕΜΕΣ Α.Ε.</td>\n",
       "      <td>GOLF SHUTTLE ΤΕΜΕΣ Α.Ε.</td>\n",
       "      <td>19-0-0</td>\n",
       "      <td>12271</td>\n",
       "      <td>Mercedes Sprinter 19seater</td>\n",
       "      <td>Mercedes Sprinter 19seater</td>\n",
       "      <td>361.6</td>\n",
       "    </tr>\n",
       "    <tr>\n",
       "      <th>1849</th>\n",
       "      <td>2022-11-26 07:00:00</td>\n",
       "      <td>26.0</td>\n",
       "      <td>11</td>\n",
       "      <td>2022</td>\n",
       "      <td>NaN</td>\n",
       "      <td>AM</td>\n",
       "      <td>Transfers - Μεταφορά 1. Costa Navarino Dunes, ...</td>\n",
       "      <td>The Dunes Club</td>\n",
       "      <td>The Dunes Club</td>\n",
       "      <td>The Bay Course</td>\n",
       "      <td>The Bay Course</td>\n",
       "      <td>Golf Transfers</td>\n",
       "      <td>GOLF SHUTTLE ΤΕΜΕΣ Α.Ε.</td>\n",
       "      <td>GOLF SHUTTLE ΤΕΜΕΣ Α.Ε.</td>\n",
       "      <td>19-0-0</td>\n",
       "      <td>11930</td>\n",
       "      <td>Bus 50seater</td>\n",
       "      <td>Bus 50seater</td>\n",
       "      <td>485.9</td>\n",
       "    </tr>\n",
       "    <tr>\n",
       "      <th>1850</th>\n",
       "      <td>2022-11-26 07:00:00</td>\n",
       "      <td>26.0</td>\n",
       "      <td>11</td>\n",
       "      <td>2022</td>\n",
       "      <td>NaN</td>\n",
       "      <td>AM</td>\n",
       "      <td>Transfers - Μεταφορά 1. Costa Navarino Dunes, ...</td>\n",
       "      <td>The Dunes Club</td>\n",
       "      <td>The Dunes Club</td>\n",
       "      <td>The Bay Course</td>\n",
       "      <td>The Bay Course</td>\n",
       "      <td>Golf Transfers</td>\n",
       "      <td>GOLF SHUTTLE ΤΕΜΕΣ Α.Ε.</td>\n",
       "      <td>GOLF SHUTTLE ΤΕΜΕΣ Α.Ε.</td>\n",
       "      <td>19-0-0</td>\n",
       "      <td>12039</td>\n",
       "      <td>Bus 50seater</td>\n",
       "      <td>Bus 50seater</td>\n",
       "      <td>485.9</td>\n",
       "    </tr>\n",
       "    <tr>\n",
       "      <th>1851</th>\n",
       "      <td>2022-11-26 07:00:00</td>\n",
       "      <td>26.0</td>\n",
       "      <td>11</td>\n",
       "      <td>2022</td>\n",
       "      <td>NaN</td>\n",
       "      <td>AM</td>\n",
       "      <td>Transfers - Μεταφορά 1. Costa Navarino Dunes, ...</td>\n",
       "      <td>The Dunes Club</td>\n",
       "      <td>The Dunes Club</td>\n",
       "      <td>The Bay Course</td>\n",
       "      <td>The Bay Course</td>\n",
       "      <td>Golf Transfers</td>\n",
       "      <td>GOLF SHUTTLE ΤΕΜΕΣ Α.Ε.</td>\n",
       "      <td>GOLF SHUTTLE ΤΕΜΕΣ Α.Ε.</td>\n",
       "      <td>19-0-0</td>\n",
       "      <td>12275</td>\n",
       "      <td>Mercedes Sprinter 19seater</td>\n",
       "      <td>Mercedes Sprinter 19seater</td>\n",
       "      <td>361.6</td>\n",
       "    </tr>\n",
       "    <tr>\n",
       "      <th>1859</th>\n",
       "      <td>2022-11-27 09:00:00</td>\n",
       "      <td>27.0</td>\n",
       "      <td>11</td>\n",
       "      <td>2022</td>\n",
       "      <td>NaN</td>\n",
       "      <td>AM</td>\n",
       "      <td>Transfers - Μεταφορά 1. Costa Navarino Dunes, ...</td>\n",
       "      <td>The Dunes Club</td>\n",
       "      <td>The Dunes Club</td>\n",
       "      <td>The Bay Course</td>\n",
       "      <td>The Bay Course</td>\n",
       "      <td>Golf Transfers</td>\n",
       "      <td>Extra Golf Shuttle ΤΕΜΕΣ Α.Ε.</td>\n",
       "      <td>GOLF SHUTTLE ΤΕΜΕΣ Α.Ε.</td>\n",
       "      <td>8-0-0</td>\n",
       "      <td>12300</td>\n",
       "      <td>Minivan</td>\n",
       "      <td>Mercedes Vito/Viano/Minivan</td>\n",
       "      <td>40</td>\n",
       "    </tr>\n",
       "  </tbody>\n",
       "</table>\n",
       "<p>1012 rows × 19 columns</p>\n",
       "</div>"
      ],
      "text/plain": [
       "                    date   day  month  year  hour am/pm  \\\n",
       "0    2022-02-21 07:00:00  21.0      2  2022   NaN    AM   \n",
       "1    2022-02-21 07:00:00  21.0      2  2022   NaN    AM   \n",
       "2    2022-02-22 07:00:00  22.0      2  2022   NaN    AM   \n",
       "3    2022-02-22 07:00:00  22.0      2  2022   NaN    AM   \n",
       "5    2022-02-23 07:00:00  23.0      2  2022   NaN    AM   \n",
       "...                  ...   ...    ...   ...   ...   ...   \n",
       "1844 2022-11-25 07:00:00  25.0     11  2022   NaN    AM   \n",
       "1849 2022-11-26 07:00:00  26.0     11  2022   NaN    AM   \n",
       "1850 2022-11-26 07:00:00  26.0     11  2022   NaN    AM   \n",
       "1851 2022-11-26 07:00:00  26.0     11  2022   NaN    AM   \n",
       "1859 2022-11-27 09:00:00  27.0     11  2022   NaN    AM   \n",
       "\n",
       "                                               transfer            from  \\\n",
       "0     Transfers - Μεταφορά 1. Costa Navarino Dunes, ...  The Dunes Club   \n",
       "1     Transfers - Μεταφορά 1. Costa Navarino Dunes, ...  The Dunes Club   \n",
       "2     Transfers - Μεταφορά 1. Costa Navarino Dunes, ...  The Dunes Club   \n",
       "3     Transfers - Μεταφορά 1. Costa Navarino Dunes, ...  The Dunes Club   \n",
       "5     Transfers - Μεταφορά 1. Costa Navarino Dunes, ...  The Dunes Club   \n",
       "...                                                 ...             ...   \n",
       "1844  Transfers - Μεταφορά 1. Costa Navarino Dunes, ...  The Dunes Club   \n",
       "1849  Transfers - Μεταφορά 1. Costa Navarino Dunes, ...  The Dunes Club   \n",
       "1850  Transfers - Μεταφορά 1. Costa Navarino Dunes, ...  The Dunes Club   \n",
       "1851  Transfers - Μεταφορά 1. Costa Navarino Dunes, ...  The Dunes Club   \n",
       "1859  Transfers - Μεταφορά 1. Costa Navarino Dunes, ...  The Dunes Club   \n",
       "\n",
       "               from1              to             to1   transfer_type  \\\n",
       "0     The Dunes Club  The Bay Course  The Bay Course  Golf Transfers   \n",
       "1     The Dunes Club  The Bay Course  The Bay Course  Golf Transfers   \n",
       "2     The Dunes Club  The Bay Course  The Bay Course  Golf Transfers   \n",
       "3     The Dunes Club  The Bay Course  The Bay Course  Golf Transfers   \n",
       "5     The Dunes Club  The Bay Course  The Bay Course  Golf Transfers   \n",
       "...              ...             ...             ...             ...   \n",
       "1844  The Dunes Club  The Bay Course  The Bay Course  Golf Transfers   \n",
       "1849  The Dunes Club  The Bay Course  The Bay Course  Golf Transfers   \n",
       "1850  The Dunes Club  The Bay Course  The Bay Course  Golf Transfers   \n",
       "1851  The Dunes Club  The Bay Course  The Bay Course  Golf Transfers   \n",
       "1859  The Dunes Club  The Bay Course  The Bay Course  Golf Transfers   \n",
       "\n",
       "                           comments                comments1 date_enpdnp  \\\n",
       "0           GOLF SHUTTLE ΤΕΜΕΣ Α.Ε.  GOLF SHUTTLE ΤΕΜΕΣ Α.Ε.      19-0-0   \n",
       "1           GOLF SHUTTLE ΤΕΜΕΣ Α.Ε.  GOLF SHUTTLE ΤΕΜΕΣ Α.Ε.      19-0-0   \n",
       "2           GOLF SHUTTLE ΤΕΜΕΣ Α.Ε.  GOLF SHUTTLE ΤΕΜΕΣ Α.Ε.      19-0-0   \n",
       "3           GOLF SHUTTLE ΤΕΜΕΣ Α.Ε.  GOLF SHUTTLE ΤΕΜΕΣ Α.Ε.      19-0-0   \n",
       "5           GOLF SHUTTLE ΤΕΜΕΣ Α.Ε.  GOLF SHUTTLE ΤΕΜΕΣ Α.Ε.      19-0-0   \n",
       "...                             ...                      ...         ...   \n",
       "1844        GOLF SHUTTLE ΤΕΜΕΣ Α.Ε.  GOLF SHUTTLE ΤΕΜΕΣ Α.Ε.      19-0-0   \n",
       "1849        GOLF SHUTTLE ΤΕΜΕΣ Α.Ε.  GOLF SHUTTLE ΤΕΜΕΣ Α.Ε.      19-0-0   \n",
       "1850        GOLF SHUTTLE ΤΕΜΕΣ Α.Ε.  GOLF SHUTTLE ΤΕΜΕΣ Α.Ε.      19-0-0   \n",
       "1851        GOLF SHUTTLE ΤΕΜΕΣ Α.Ε.  GOLF SHUTTLE ΤΕΜΕΣ Α.Ε.      19-0-0   \n",
       "1859  Extra Golf Shuttle ΤΕΜΕΣ Α.Ε.  GOLF SHUTTLE ΤΕΜΕΣ Α.Ε.       8-0-0   \n",
       "\n",
       "     rsv_no                    car_type                    car_type1 payment  \n",
       "0      4279  Mercedes Sprinter 19seater   Mercedes Sprinter 19seater   361.6  \n",
       "1      4280  Mercedes Sprinter 19seater   Mercedes Sprinter 19seater   361.6  \n",
       "2      4281  Mercedes Sprinter 19seater   Mercedes Sprinter 19seater   361.6  \n",
       "3      4288  Mercedes Sprinter 19seater   Mercedes Sprinter 19seater   361.6  \n",
       "5      4282  Mercedes Sprinter 19seater   Mercedes Sprinter 19seater   361.6  \n",
       "...     ...                         ...                          ...     ...  \n",
       "1844  12271  Mercedes Sprinter 19seater   Mercedes Sprinter 19seater   361.6  \n",
       "1849  11930                Bus 50seater                 Bus 50seater   485.9  \n",
       "1850  12039                Bus 50seater                 Bus 50seater   485.9  \n",
       "1851  12275  Mercedes Sprinter 19seater   Mercedes Sprinter 19seater   361.6  \n",
       "1859  12300                     Minivan  Mercedes Vito/Viano/Minivan      40  \n",
       "\n",
       "[1012 rows x 19 columns]"
      ]
     },
     "execution_count": 5,
     "metadata": {},
     "output_type": "execute_result"
    }
   ],
   "source": [
    "golf_transfers = df.loc[df['transfer_type'] == 'Golf Transfers']\n",
    "golf_transfers"
   ]
  },
  {
   "cell_type": "code",
   "execution_count": 6,
   "id": "23bf077a",
   "metadata": {},
   "outputs": [],
   "source": [
    "golf_transfers = golf_transfers.drop(index=[256])"
   ]
  },
  {
   "cell_type": "code",
   "execution_count": 7,
   "id": "bbc008a4",
   "metadata": {},
   "outputs": [],
   "source": [
    "golf_transfers['payment'] = golf_transfers['payment'].astype(float)"
   ]
  },
  {
   "cell_type": "code",
   "execution_count": 8,
   "id": "35640bba",
   "metadata": {},
   "outputs": [
    {
     "name": "stdout",
     "output_type": "stream",
     "text": [
      "The column \"date\" containers 0 NaNs that is 0.00% of the total\n",
      "The column \"day\" containers 0 NaNs that is 0.00% of the total\n",
      "The column \"month\" containers 0 NaNs that is 0.00% of the total\n",
      "The column \"year\" containers 0 NaNs that is 0.00% of the total\n",
      "The column \"hour\" containers 1011 NaNs that is 100.00% of the total\n",
      "The column \"am/pm\" containers 0 NaNs that is 0.00% of the total\n",
      "The column \"transfer\" containers 0 NaNs that is 0.00% of the total\n",
      "The column \"from\" containers 0 NaNs that is 0.00% of the total\n",
      "The column \"from1\" containers 0 NaNs that is 0.00% of the total\n",
      "The column \"to\" containers 0 NaNs that is 0.00% of the total\n",
      "The column \"to1\" containers 0 NaNs that is 0.00% of the total\n",
      "The column \"transfer_type\" containers 0 NaNs that is 0.00% of the total\n",
      "The column \"comments\" containers 0 NaNs that is 0.00% of the total\n",
      "The column \"comments1\" containers 0 NaNs that is 0.00% of the total\n",
      "The column \"date_enpdnp\" containers 0 NaNs that is 0.00% of the total\n",
      "The column \"rsv_no\" containers 0 NaNs that is 0.00% of the total\n",
      "The column \"car_type\" containers 0 NaNs that is 0.00% of the total\n",
      "The column \"car_type1\" containers 0 NaNs that is 0.00% of the total\n",
      "The column \"payment\" containers 0 NaNs that is 0.00% of the total\n"
     ]
    }
   ],
   "source": [
    "# check for nans\n",
    "total_count = len(golf_transfers)\n",
    "for c in golf_transfers.columns:\n",
    "    nan_count = golf_transfers[c].isna().sum()\n",
    "    nan_pct = 100*(nan_count / total_count)\n",
    "    print(f'The column \"{c}\" containers {nan_count} NaNs that is {nan_pct:.2f}% of the total')"
   ]
  },
  {
   "cell_type": "code",
   "execution_count": 9,
   "id": "764dec0b",
   "metadata": {},
   "outputs": [],
   "source": [
    "del golf_transfers['day'], golf_transfers['month'], golf_transfers['year'], golf_transfers['hour'], golf_transfers['am/pm']"
   ]
  },
  {
   "cell_type": "code",
   "execution_count": 10,
   "id": "030f2bb7",
   "metadata": {},
   "outputs": [
    {
     "data": {
      "text/html": [
       "<div>\n",
       "<style scoped>\n",
       "    .dataframe tbody tr th:only-of-type {\n",
       "        vertical-align: middle;\n",
       "    }\n",
       "\n",
       "    .dataframe tbody tr th {\n",
       "        vertical-align: top;\n",
       "    }\n",
       "\n",
       "    .dataframe thead th {\n",
       "        text-align: right;\n",
       "    }\n",
       "</style>\n",
       "<table border=\"1\" class=\"dataframe\">\n",
       "  <thead>\n",
       "    <tr style=\"text-align: right;\">\n",
       "      <th></th>\n",
       "      <th>date</th>\n",
       "      <th>transfer</th>\n",
       "      <th>from</th>\n",
       "      <th>from1</th>\n",
       "      <th>to</th>\n",
       "      <th>to1</th>\n",
       "      <th>transfer_type</th>\n",
       "      <th>comments</th>\n",
       "      <th>comments1</th>\n",
       "      <th>date_enpdnp</th>\n",
       "      <th>rsv_no</th>\n",
       "      <th>car_type</th>\n",
       "      <th>car_type1</th>\n",
       "      <th>payment</th>\n",
       "    </tr>\n",
       "  </thead>\n",
       "  <tbody>\n",
       "    <tr>\n",
       "      <th>0</th>\n",
       "      <td>2022-02-21 07:00:00</td>\n",
       "      <td>Transfers - Μεταφορά 1. Costa Navarino Dunes, ...</td>\n",
       "      <td>The Dunes Club</td>\n",
       "      <td>The Dunes Club</td>\n",
       "      <td>The Bay Course</td>\n",
       "      <td>The Bay Course</td>\n",
       "      <td>Golf Transfers</td>\n",
       "      <td>GOLF SHUTTLE ΤΕΜΕΣ Α.Ε.</td>\n",
       "      <td>GOLF SHUTTLE ΤΕΜΕΣ Α.Ε.</td>\n",
       "      <td>19-0-0</td>\n",
       "      <td>4279</td>\n",
       "      <td>Mercedes Sprinter 19seater</td>\n",
       "      <td>Mercedes Sprinter 19seater</td>\n",
       "      <td>361.6</td>\n",
       "    </tr>\n",
       "    <tr>\n",
       "      <th>1</th>\n",
       "      <td>2022-02-21 07:00:00</td>\n",
       "      <td>Transfers - Μεταφορά 1. Costa Navarino Dunes, ...</td>\n",
       "      <td>The Dunes Club</td>\n",
       "      <td>The Dunes Club</td>\n",
       "      <td>The Bay Course</td>\n",
       "      <td>The Bay Course</td>\n",
       "      <td>Golf Transfers</td>\n",
       "      <td>GOLF SHUTTLE ΤΕΜΕΣ Α.Ε.</td>\n",
       "      <td>GOLF SHUTTLE ΤΕΜΕΣ Α.Ε.</td>\n",
       "      <td>19-0-0</td>\n",
       "      <td>4280</td>\n",
       "      <td>Mercedes Sprinter 19seater</td>\n",
       "      <td>Mercedes Sprinter 19seater</td>\n",
       "      <td>361.6</td>\n",
       "    </tr>\n",
       "    <tr>\n",
       "      <th>2</th>\n",
       "      <td>2022-02-22 07:00:00</td>\n",
       "      <td>Transfers - Μεταφορά 1. Costa Navarino Dunes, ...</td>\n",
       "      <td>The Dunes Club</td>\n",
       "      <td>The Dunes Club</td>\n",
       "      <td>The Bay Course</td>\n",
       "      <td>The Bay Course</td>\n",
       "      <td>Golf Transfers</td>\n",
       "      <td>GOLF SHUTTLE ΤΕΜΕΣ Α.Ε.</td>\n",
       "      <td>GOLF SHUTTLE ΤΕΜΕΣ Α.Ε.</td>\n",
       "      <td>19-0-0</td>\n",
       "      <td>4281</td>\n",
       "      <td>Mercedes Sprinter 19seater</td>\n",
       "      <td>Mercedes Sprinter 19seater</td>\n",
       "      <td>361.6</td>\n",
       "    </tr>\n",
       "    <tr>\n",
       "      <th>3</th>\n",
       "      <td>2022-02-22 07:00:00</td>\n",
       "      <td>Transfers - Μεταφορά 1. Costa Navarino Dunes, ...</td>\n",
       "      <td>The Dunes Club</td>\n",
       "      <td>The Dunes Club</td>\n",
       "      <td>The Bay Course</td>\n",
       "      <td>The Bay Course</td>\n",
       "      <td>Golf Transfers</td>\n",
       "      <td>GOLF SHUTTLE ΤΕΜΕΣ Α.Ε.</td>\n",
       "      <td>GOLF SHUTTLE ΤΕΜΕΣ Α.Ε.</td>\n",
       "      <td>19-0-0</td>\n",
       "      <td>4288</td>\n",
       "      <td>Mercedes Sprinter 19seater</td>\n",
       "      <td>Mercedes Sprinter 19seater</td>\n",
       "      <td>361.6</td>\n",
       "    </tr>\n",
       "    <tr>\n",
       "      <th>5</th>\n",
       "      <td>2022-02-23 07:00:00</td>\n",
       "      <td>Transfers - Μεταφορά 1. Costa Navarino Dunes, ...</td>\n",
       "      <td>The Dunes Club</td>\n",
       "      <td>The Dunes Club</td>\n",
       "      <td>The Bay Course</td>\n",
       "      <td>The Bay Course</td>\n",
       "      <td>Golf Transfers</td>\n",
       "      <td>GOLF SHUTTLE ΤΕΜΕΣ Α.Ε.</td>\n",
       "      <td>GOLF SHUTTLE ΤΕΜΕΣ Α.Ε.</td>\n",
       "      <td>19-0-0</td>\n",
       "      <td>4282</td>\n",
       "      <td>Mercedes Sprinter 19seater</td>\n",
       "      <td>Mercedes Sprinter 19seater</td>\n",
       "      <td>361.6</td>\n",
       "    </tr>\n",
       "  </tbody>\n",
       "</table>\n",
       "</div>"
      ],
      "text/plain": [
       "                 date                                           transfer  \\\n",
       "0 2022-02-21 07:00:00  Transfers - Μεταφορά 1. Costa Navarino Dunes, ...   \n",
       "1 2022-02-21 07:00:00  Transfers - Μεταφορά 1. Costa Navarino Dunes, ...   \n",
       "2 2022-02-22 07:00:00  Transfers - Μεταφορά 1. Costa Navarino Dunes, ...   \n",
       "3 2022-02-22 07:00:00  Transfers - Μεταφορά 1. Costa Navarino Dunes, ...   \n",
       "5 2022-02-23 07:00:00  Transfers - Μεταφορά 1. Costa Navarino Dunes, ...   \n",
       "\n",
       "             from           from1              to             to1  \\\n",
       "0  The Dunes Club  The Dunes Club  The Bay Course  The Bay Course   \n",
       "1  The Dunes Club  The Dunes Club  The Bay Course  The Bay Course   \n",
       "2  The Dunes Club  The Dunes Club  The Bay Course  The Bay Course   \n",
       "3  The Dunes Club  The Dunes Club  The Bay Course  The Bay Course   \n",
       "5  The Dunes Club  The Dunes Club  The Bay Course  The Bay Course   \n",
       "\n",
       "    transfer_type                 comments                comments1  \\\n",
       "0  Golf Transfers  GOLF SHUTTLE ΤΕΜΕΣ Α.Ε.  GOLF SHUTTLE ΤΕΜΕΣ Α.Ε.   \n",
       "1  Golf Transfers  GOLF SHUTTLE ΤΕΜΕΣ Α.Ε.  GOLF SHUTTLE ΤΕΜΕΣ Α.Ε.   \n",
       "2  Golf Transfers  GOLF SHUTTLE ΤΕΜΕΣ Α.Ε.  GOLF SHUTTLE ΤΕΜΕΣ Α.Ε.   \n",
       "3  Golf Transfers  GOLF SHUTTLE ΤΕΜΕΣ Α.Ε.  GOLF SHUTTLE ΤΕΜΕΣ Α.Ε.   \n",
       "5  Golf Transfers  GOLF SHUTTLE ΤΕΜΕΣ Α.Ε.  GOLF SHUTTLE ΤΕΜΕΣ Α.Ε.   \n",
       "\n",
       "  date_enpdnp rsv_no                    car_type                   car_type1  \\\n",
       "0      19-0-0   4279  Mercedes Sprinter 19seater  Mercedes Sprinter 19seater   \n",
       "1      19-0-0   4280  Mercedes Sprinter 19seater  Mercedes Sprinter 19seater   \n",
       "2      19-0-0   4281  Mercedes Sprinter 19seater  Mercedes Sprinter 19seater   \n",
       "3      19-0-0   4288  Mercedes Sprinter 19seater  Mercedes Sprinter 19seater   \n",
       "5      19-0-0   4282  Mercedes Sprinter 19seater  Mercedes Sprinter 19seater   \n",
       "\n",
       "   payment  \n",
       "0    361.6  \n",
       "1    361.6  \n",
       "2    361.6  \n",
       "3    361.6  \n",
       "5    361.6  "
      ]
     },
     "execution_count": 10,
     "metadata": {},
     "output_type": "execute_result"
    }
   ],
   "source": [
    "golf_transfers.head()"
   ]
  },
  {
   "cell_type": "code",
   "execution_count": 11,
   "id": "ae930dca",
   "metadata": {},
   "outputs": [
    {
     "name": "stdout",
     "output_type": "stream",
     "text": [
      "<class 'pandas.core.frame.DataFrame'>\n",
      "Int64Index: 1011 entries, 0 to 1859\n",
      "Data columns (total 14 columns):\n",
      " #   Column         Non-Null Count  Dtype         \n",
      "---  ------         --------------  -----         \n",
      " 0   date           1011 non-null   datetime64[ns]\n",
      " 1   transfer       1011 non-null   object        \n",
      " 2   from           1011 non-null   object        \n",
      " 3   from1          1011 non-null   object        \n",
      " 4   to             1011 non-null   object        \n",
      " 5   to1            1011 non-null   object        \n",
      " 6   transfer_type  1011 non-null   object        \n",
      " 7   comments       1011 non-null   object        \n",
      " 8   comments1      1011 non-null   object        \n",
      " 9   date_enpdnp    1011 non-null   object        \n",
      " 10  rsv_no         1011 non-null   object        \n",
      " 11  car_type       1011 non-null   object        \n",
      " 12  car_type1      1011 non-null   object        \n",
      " 13  payment        1011 non-null   float64       \n",
      "dtypes: datetime64[ns](1), float64(1), object(12)\n",
      "memory usage: 118.5+ KB\n"
     ]
    }
   ],
   "source": [
    "golf_transfers.info()"
   ]
  },
  {
   "cell_type": "code",
   "execution_count": 12,
   "id": "09baaf5f",
   "metadata": {},
   "outputs": [],
   "source": [
    "golf_transfers['month'] = golf_transfers['date'].dt.month\n",
    "golf_transfers['day'] =  golf_transfers['date'].dt.day\n",
    "golf_transfers['hour'] = golf_transfers['date'].dt.hour\n",
    "golf_transfers['minute'] = golf_transfers['date'].dt.minute"
   ]
  },
  {
   "cell_type": "code",
   "execution_count": 13,
   "id": "7c73dffa",
   "metadata": {},
   "outputs": [
    {
     "data": {
      "text/html": [
       "<div>\n",
       "<style scoped>\n",
       "    .dataframe tbody tr th:only-of-type {\n",
       "        vertical-align: middle;\n",
       "    }\n",
       "\n",
       "    .dataframe tbody tr th {\n",
       "        vertical-align: top;\n",
       "    }\n",
       "\n",
       "    .dataframe thead th {\n",
       "        text-align: right;\n",
       "    }\n",
       "</style>\n",
       "<table border=\"1\" class=\"dataframe\">\n",
       "  <thead>\n",
       "    <tr style=\"text-align: right;\">\n",
       "      <th></th>\n",
       "      <th>date</th>\n",
       "      <th>transfer</th>\n",
       "      <th>from</th>\n",
       "      <th>from1</th>\n",
       "      <th>to</th>\n",
       "      <th>to1</th>\n",
       "      <th>transfer_type</th>\n",
       "      <th>comments</th>\n",
       "      <th>comments1</th>\n",
       "      <th>date_enpdnp</th>\n",
       "      <th>rsv_no</th>\n",
       "      <th>car_type</th>\n",
       "      <th>car_type1</th>\n",
       "      <th>payment</th>\n",
       "      <th>month</th>\n",
       "      <th>day</th>\n",
       "      <th>hour</th>\n",
       "      <th>minute</th>\n",
       "    </tr>\n",
       "  </thead>\n",
       "  <tbody>\n",
       "    <tr>\n",
       "      <th>0</th>\n",
       "      <td>2022-02-21 07:00:00</td>\n",
       "      <td>Transfers - Μεταφορά 1. Costa Navarino Dunes, ...</td>\n",
       "      <td>The Dunes Club</td>\n",
       "      <td>The Dunes Club</td>\n",
       "      <td>The Bay Course</td>\n",
       "      <td>The Bay Course</td>\n",
       "      <td>Golf Transfers</td>\n",
       "      <td>GOLF SHUTTLE ΤΕΜΕΣ Α.Ε.</td>\n",
       "      <td>GOLF SHUTTLE ΤΕΜΕΣ Α.Ε.</td>\n",
       "      <td>19-0-0</td>\n",
       "      <td>4279</td>\n",
       "      <td>Mercedes Sprinter 19seater</td>\n",
       "      <td>Mercedes Sprinter 19seater</td>\n",
       "      <td>361.6</td>\n",
       "      <td>2</td>\n",
       "      <td>21</td>\n",
       "      <td>7</td>\n",
       "      <td>0</td>\n",
       "    </tr>\n",
       "    <tr>\n",
       "      <th>1</th>\n",
       "      <td>2022-02-21 07:00:00</td>\n",
       "      <td>Transfers - Μεταφορά 1. Costa Navarino Dunes, ...</td>\n",
       "      <td>The Dunes Club</td>\n",
       "      <td>The Dunes Club</td>\n",
       "      <td>The Bay Course</td>\n",
       "      <td>The Bay Course</td>\n",
       "      <td>Golf Transfers</td>\n",
       "      <td>GOLF SHUTTLE ΤΕΜΕΣ Α.Ε.</td>\n",
       "      <td>GOLF SHUTTLE ΤΕΜΕΣ Α.Ε.</td>\n",
       "      <td>19-0-0</td>\n",
       "      <td>4280</td>\n",
       "      <td>Mercedes Sprinter 19seater</td>\n",
       "      <td>Mercedes Sprinter 19seater</td>\n",
       "      <td>361.6</td>\n",
       "      <td>2</td>\n",
       "      <td>21</td>\n",
       "      <td>7</td>\n",
       "      <td>0</td>\n",
       "    </tr>\n",
       "    <tr>\n",
       "      <th>2</th>\n",
       "      <td>2022-02-22 07:00:00</td>\n",
       "      <td>Transfers - Μεταφορά 1. Costa Navarino Dunes, ...</td>\n",
       "      <td>The Dunes Club</td>\n",
       "      <td>The Dunes Club</td>\n",
       "      <td>The Bay Course</td>\n",
       "      <td>The Bay Course</td>\n",
       "      <td>Golf Transfers</td>\n",
       "      <td>GOLF SHUTTLE ΤΕΜΕΣ Α.Ε.</td>\n",
       "      <td>GOLF SHUTTLE ΤΕΜΕΣ Α.Ε.</td>\n",
       "      <td>19-0-0</td>\n",
       "      <td>4281</td>\n",
       "      <td>Mercedes Sprinter 19seater</td>\n",
       "      <td>Mercedes Sprinter 19seater</td>\n",
       "      <td>361.6</td>\n",
       "      <td>2</td>\n",
       "      <td>22</td>\n",
       "      <td>7</td>\n",
       "      <td>0</td>\n",
       "    </tr>\n",
       "    <tr>\n",
       "      <th>3</th>\n",
       "      <td>2022-02-22 07:00:00</td>\n",
       "      <td>Transfers - Μεταφορά 1. Costa Navarino Dunes, ...</td>\n",
       "      <td>The Dunes Club</td>\n",
       "      <td>The Dunes Club</td>\n",
       "      <td>The Bay Course</td>\n",
       "      <td>The Bay Course</td>\n",
       "      <td>Golf Transfers</td>\n",
       "      <td>GOLF SHUTTLE ΤΕΜΕΣ Α.Ε.</td>\n",
       "      <td>GOLF SHUTTLE ΤΕΜΕΣ Α.Ε.</td>\n",
       "      <td>19-0-0</td>\n",
       "      <td>4288</td>\n",
       "      <td>Mercedes Sprinter 19seater</td>\n",
       "      <td>Mercedes Sprinter 19seater</td>\n",
       "      <td>361.6</td>\n",
       "      <td>2</td>\n",
       "      <td>22</td>\n",
       "      <td>7</td>\n",
       "      <td>0</td>\n",
       "    </tr>\n",
       "    <tr>\n",
       "      <th>5</th>\n",
       "      <td>2022-02-23 07:00:00</td>\n",
       "      <td>Transfers - Μεταφορά 1. Costa Navarino Dunes, ...</td>\n",
       "      <td>The Dunes Club</td>\n",
       "      <td>The Dunes Club</td>\n",
       "      <td>The Bay Course</td>\n",
       "      <td>The Bay Course</td>\n",
       "      <td>Golf Transfers</td>\n",
       "      <td>GOLF SHUTTLE ΤΕΜΕΣ Α.Ε.</td>\n",
       "      <td>GOLF SHUTTLE ΤΕΜΕΣ Α.Ε.</td>\n",
       "      <td>19-0-0</td>\n",
       "      <td>4282</td>\n",
       "      <td>Mercedes Sprinter 19seater</td>\n",
       "      <td>Mercedes Sprinter 19seater</td>\n",
       "      <td>361.6</td>\n",
       "      <td>2</td>\n",
       "      <td>23</td>\n",
       "      <td>7</td>\n",
       "      <td>0</td>\n",
       "    </tr>\n",
       "  </tbody>\n",
       "</table>\n",
       "</div>"
      ],
      "text/plain": [
       "                 date                                           transfer  \\\n",
       "0 2022-02-21 07:00:00  Transfers - Μεταφορά 1. Costa Navarino Dunes, ...   \n",
       "1 2022-02-21 07:00:00  Transfers - Μεταφορά 1. Costa Navarino Dunes, ...   \n",
       "2 2022-02-22 07:00:00  Transfers - Μεταφορά 1. Costa Navarino Dunes, ...   \n",
       "3 2022-02-22 07:00:00  Transfers - Μεταφορά 1. Costa Navarino Dunes, ...   \n",
       "5 2022-02-23 07:00:00  Transfers - Μεταφορά 1. Costa Navarino Dunes, ...   \n",
       "\n",
       "             from           from1              to             to1  \\\n",
       "0  The Dunes Club  The Dunes Club  The Bay Course  The Bay Course   \n",
       "1  The Dunes Club  The Dunes Club  The Bay Course  The Bay Course   \n",
       "2  The Dunes Club  The Dunes Club  The Bay Course  The Bay Course   \n",
       "3  The Dunes Club  The Dunes Club  The Bay Course  The Bay Course   \n",
       "5  The Dunes Club  The Dunes Club  The Bay Course  The Bay Course   \n",
       "\n",
       "    transfer_type                 comments                comments1  \\\n",
       "0  Golf Transfers  GOLF SHUTTLE ΤΕΜΕΣ Α.Ε.  GOLF SHUTTLE ΤΕΜΕΣ Α.Ε.   \n",
       "1  Golf Transfers  GOLF SHUTTLE ΤΕΜΕΣ Α.Ε.  GOLF SHUTTLE ΤΕΜΕΣ Α.Ε.   \n",
       "2  Golf Transfers  GOLF SHUTTLE ΤΕΜΕΣ Α.Ε.  GOLF SHUTTLE ΤΕΜΕΣ Α.Ε.   \n",
       "3  Golf Transfers  GOLF SHUTTLE ΤΕΜΕΣ Α.Ε.  GOLF SHUTTLE ΤΕΜΕΣ Α.Ε.   \n",
       "5  Golf Transfers  GOLF SHUTTLE ΤΕΜΕΣ Α.Ε.  GOLF SHUTTLE ΤΕΜΕΣ Α.Ε.   \n",
       "\n",
       "  date_enpdnp rsv_no                    car_type                   car_type1  \\\n",
       "0      19-0-0   4279  Mercedes Sprinter 19seater  Mercedes Sprinter 19seater   \n",
       "1      19-0-0   4280  Mercedes Sprinter 19seater  Mercedes Sprinter 19seater   \n",
       "2      19-0-0   4281  Mercedes Sprinter 19seater  Mercedes Sprinter 19seater   \n",
       "3      19-0-0   4288  Mercedes Sprinter 19seater  Mercedes Sprinter 19seater   \n",
       "5      19-0-0   4282  Mercedes Sprinter 19seater  Mercedes Sprinter 19seater   \n",
       "\n",
       "   payment  month  day  hour  minute  \n",
       "0    361.6      2   21     7       0  \n",
       "1    361.6      2   21     7       0  \n",
       "2    361.6      2   22     7       0  \n",
       "3    361.6      2   22     7       0  \n",
       "5    361.6      2   23     7       0  "
      ]
     },
     "execution_count": 13,
     "metadata": {},
     "output_type": "execute_result"
    }
   ],
   "source": [
    "golf_transfers.head()"
   ]
  },
  {
   "cell_type": "code",
   "execution_count": 14,
   "id": "be031f28",
   "metadata": {},
   "outputs": [],
   "source": [
    "del golf_transfers['from'], golf_transfers['from1'], golf_transfers['to'], golf_transfers['to1']"
   ]
  },
  {
   "cell_type": "code",
   "execution_count": 15,
   "id": "07465cbf",
   "metadata": {},
   "outputs": [
    {
     "data": {
      "text/html": [
       "<div>\n",
       "<style scoped>\n",
       "    .dataframe tbody tr th:only-of-type {\n",
       "        vertical-align: middle;\n",
       "    }\n",
       "\n",
       "    .dataframe tbody tr th {\n",
       "        vertical-align: top;\n",
       "    }\n",
       "\n",
       "    .dataframe thead th {\n",
       "        text-align: right;\n",
       "    }\n",
       "</style>\n",
       "<table border=\"1\" class=\"dataframe\">\n",
       "  <thead>\n",
       "    <tr style=\"text-align: right;\">\n",
       "      <th></th>\n",
       "      <th>date</th>\n",
       "      <th>transfer</th>\n",
       "      <th>transfer_type</th>\n",
       "      <th>comments</th>\n",
       "      <th>comments1</th>\n",
       "      <th>date_enpdnp</th>\n",
       "      <th>rsv_no</th>\n",
       "      <th>car_type</th>\n",
       "      <th>car_type1</th>\n",
       "      <th>payment</th>\n",
       "      <th>month</th>\n",
       "      <th>day</th>\n",
       "      <th>hour</th>\n",
       "      <th>minute</th>\n",
       "    </tr>\n",
       "  </thead>\n",
       "  <tbody>\n",
       "    <tr>\n",
       "      <th>0</th>\n",
       "      <td>2022-02-21 07:00:00</td>\n",
       "      <td>Transfers - Μεταφορά 1. Costa Navarino Dunes, ...</td>\n",
       "      <td>Golf Transfers</td>\n",
       "      <td>GOLF SHUTTLE ΤΕΜΕΣ Α.Ε.</td>\n",
       "      <td>GOLF SHUTTLE ΤΕΜΕΣ Α.Ε.</td>\n",
       "      <td>19-0-0</td>\n",
       "      <td>4279</td>\n",
       "      <td>Mercedes Sprinter 19seater</td>\n",
       "      <td>Mercedes Sprinter 19seater</td>\n",
       "      <td>361.6</td>\n",
       "      <td>2</td>\n",
       "      <td>21</td>\n",
       "      <td>7</td>\n",
       "      <td>0</td>\n",
       "    </tr>\n",
       "    <tr>\n",
       "      <th>1</th>\n",
       "      <td>2022-02-21 07:00:00</td>\n",
       "      <td>Transfers - Μεταφορά 1. Costa Navarino Dunes, ...</td>\n",
       "      <td>Golf Transfers</td>\n",
       "      <td>GOLF SHUTTLE ΤΕΜΕΣ Α.Ε.</td>\n",
       "      <td>GOLF SHUTTLE ΤΕΜΕΣ Α.Ε.</td>\n",
       "      <td>19-0-0</td>\n",
       "      <td>4280</td>\n",
       "      <td>Mercedes Sprinter 19seater</td>\n",
       "      <td>Mercedes Sprinter 19seater</td>\n",
       "      <td>361.6</td>\n",
       "      <td>2</td>\n",
       "      <td>21</td>\n",
       "      <td>7</td>\n",
       "      <td>0</td>\n",
       "    </tr>\n",
       "    <tr>\n",
       "      <th>2</th>\n",
       "      <td>2022-02-22 07:00:00</td>\n",
       "      <td>Transfers - Μεταφορά 1. Costa Navarino Dunes, ...</td>\n",
       "      <td>Golf Transfers</td>\n",
       "      <td>GOLF SHUTTLE ΤΕΜΕΣ Α.Ε.</td>\n",
       "      <td>GOLF SHUTTLE ΤΕΜΕΣ Α.Ε.</td>\n",
       "      <td>19-0-0</td>\n",
       "      <td>4281</td>\n",
       "      <td>Mercedes Sprinter 19seater</td>\n",
       "      <td>Mercedes Sprinter 19seater</td>\n",
       "      <td>361.6</td>\n",
       "      <td>2</td>\n",
       "      <td>22</td>\n",
       "      <td>7</td>\n",
       "      <td>0</td>\n",
       "    </tr>\n",
       "    <tr>\n",
       "      <th>3</th>\n",
       "      <td>2022-02-22 07:00:00</td>\n",
       "      <td>Transfers - Μεταφορά 1. Costa Navarino Dunes, ...</td>\n",
       "      <td>Golf Transfers</td>\n",
       "      <td>GOLF SHUTTLE ΤΕΜΕΣ Α.Ε.</td>\n",
       "      <td>GOLF SHUTTLE ΤΕΜΕΣ Α.Ε.</td>\n",
       "      <td>19-0-0</td>\n",
       "      <td>4288</td>\n",
       "      <td>Mercedes Sprinter 19seater</td>\n",
       "      <td>Mercedes Sprinter 19seater</td>\n",
       "      <td>361.6</td>\n",
       "      <td>2</td>\n",
       "      <td>22</td>\n",
       "      <td>7</td>\n",
       "      <td>0</td>\n",
       "    </tr>\n",
       "    <tr>\n",
       "      <th>5</th>\n",
       "      <td>2022-02-23 07:00:00</td>\n",
       "      <td>Transfers - Μεταφορά 1. Costa Navarino Dunes, ...</td>\n",
       "      <td>Golf Transfers</td>\n",
       "      <td>GOLF SHUTTLE ΤΕΜΕΣ Α.Ε.</td>\n",
       "      <td>GOLF SHUTTLE ΤΕΜΕΣ Α.Ε.</td>\n",
       "      <td>19-0-0</td>\n",
       "      <td>4282</td>\n",
       "      <td>Mercedes Sprinter 19seater</td>\n",
       "      <td>Mercedes Sprinter 19seater</td>\n",
       "      <td>361.6</td>\n",
       "      <td>2</td>\n",
       "      <td>23</td>\n",
       "      <td>7</td>\n",
       "      <td>0</td>\n",
       "    </tr>\n",
       "  </tbody>\n",
       "</table>\n",
       "</div>"
      ],
      "text/plain": [
       "                 date                                           transfer  \\\n",
       "0 2022-02-21 07:00:00  Transfers - Μεταφορά 1. Costa Navarino Dunes, ...   \n",
       "1 2022-02-21 07:00:00  Transfers - Μεταφορά 1. Costa Navarino Dunes, ...   \n",
       "2 2022-02-22 07:00:00  Transfers - Μεταφορά 1. Costa Navarino Dunes, ...   \n",
       "3 2022-02-22 07:00:00  Transfers - Μεταφορά 1. Costa Navarino Dunes, ...   \n",
       "5 2022-02-23 07:00:00  Transfers - Μεταφορά 1. Costa Navarino Dunes, ...   \n",
       "\n",
       "    transfer_type                 comments                comments1  \\\n",
       "0  Golf Transfers  GOLF SHUTTLE ΤΕΜΕΣ Α.Ε.  GOLF SHUTTLE ΤΕΜΕΣ Α.Ε.   \n",
       "1  Golf Transfers  GOLF SHUTTLE ΤΕΜΕΣ Α.Ε.  GOLF SHUTTLE ΤΕΜΕΣ Α.Ε.   \n",
       "2  Golf Transfers  GOLF SHUTTLE ΤΕΜΕΣ Α.Ε.  GOLF SHUTTLE ΤΕΜΕΣ Α.Ε.   \n",
       "3  Golf Transfers  GOLF SHUTTLE ΤΕΜΕΣ Α.Ε.  GOLF SHUTTLE ΤΕΜΕΣ Α.Ε.   \n",
       "5  Golf Transfers  GOLF SHUTTLE ΤΕΜΕΣ Α.Ε.  GOLF SHUTTLE ΤΕΜΕΣ Α.Ε.   \n",
       "\n",
       "  date_enpdnp rsv_no                    car_type                   car_type1  \\\n",
       "0      19-0-0   4279  Mercedes Sprinter 19seater  Mercedes Sprinter 19seater   \n",
       "1      19-0-0   4280  Mercedes Sprinter 19seater  Mercedes Sprinter 19seater   \n",
       "2      19-0-0   4281  Mercedes Sprinter 19seater  Mercedes Sprinter 19seater   \n",
       "3      19-0-0   4288  Mercedes Sprinter 19seater  Mercedes Sprinter 19seater   \n",
       "5      19-0-0   4282  Mercedes Sprinter 19seater  Mercedes Sprinter 19seater   \n",
       "\n",
       "   payment  month  day  hour  minute  \n",
       "0    361.6      2   21     7       0  \n",
       "1    361.6      2   21     7       0  \n",
       "2    361.6      2   22     7       0  \n",
       "3    361.6      2   22     7       0  \n",
       "5    361.6      2   23     7       0  "
      ]
     },
     "execution_count": 15,
     "metadata": {},
     "output_type": "execute_result"
    }
   ],
   "source": [
    "golf_transfers.head()"
   ]
  },
  {
   "cell_type": "code",
   "execution_count": 16,
   "id": "78be79a8",
   "metadata": {},
   "outputs": [],
   "source": [
    "del golf_transfers['transfer_type']"
   ]
  },
  {
   "cell_type": "code",
   "execution_count": 17,
   "id": "63632fa9",
   "metadata": {},
   "outputs": [
    {
     "data": {
      "text/html": [
       "<div>\n",
       "<style scoped>\n",
       "    .dataframe tbody tr th:only-of-type {\n",
       "        vertical-align: middle;\n",
       "    }\n",
       "\n",
       "    .dataframe tbody tr th {\n",
       "        vertical-align: top;\n",
       "    }\n",
       "\n",
       "    .dataframe thead th {\n",
       "        text-align: right;\n",
       "    }\n",
       "</style>\n",
       "<table border=\"1\" class=\"dataframe\">\n",
       "  <thead>\n",
       "    <tr style=\"text-align: right;\">\n",
       "      <th></th>\n",
       "      <th>date</th>\n",
       "      <th>transfer</th>\n",
       "      <th>comments</th>\n",
       "      <th>comments1</th>\n",
       "      <th>date_enpdnp</th>\n",
       "      <th>rsv_no</th>\n",
       "      <th>car_type</th>\n",
       "      <th>car_type1</th>\n",
       "      <th>payment</th>\n",
       "      <th>month</th>\n",
       "      <th>day</th>\n",
       "      <th>hour</th>\n",
       "      <th>minute</th>\n",
       "    </tr>\n",
       "  </thead>\n",
       "  <tbody>\n",
       "    <tr>\n",
       "      <th>0</th>\n",
       "      <td>2022-02-21 07:00:00</td>\n",
       "      <td>Transfers - Μεταφορά 1. Costa Navarino Dunes, ...</td>\n",
       "      <td>GOLF SHUTTLE ΤΕΜΕΣ Α.Ε.</td>\n",
       "      <td>GOLF SHUTTLE ΤΕΜΕΣ Α.Ε.</td>\n",
       "      <td>19-0-0</td>\n",
       "      <td>4279</td>\n",
       "      <td>Mercedes Sprinter 19seater</td>\n",
       "      <td>Mercedes Sprinter 19seater</td>\n",
       "      <td>361.6</td>\n",
       "      <td>2</td>\n",
       "      <td>21</td>\n",
       "      <td>7</td>\n",
       "      <td>0</td>\n",
       "    </tr>\n",
       "    <tr>\n",
       "      <th>1</th>\n",
       "      <td>2022-02-21 07:00:00</td>\n",
       "      <td>Transfers - Μεταφορά 1. Costa Navarino Dunes, ...</td>\n",
       "      <td>GOLF SHUTTLE ΤΕΜΕΣ Α.Ε.</td>\n",
       "      <td>GOLF SHUTTLE ΤΕΜΕΣ Α.Ε.</td>\n",
       "      <td>19-0-0</td>\n",
       "      <td>4280</td>\n",
       "      <td>Mercedes Sprinter 19seater</td>\n",
       "      <td>Mercedes Sprinter 19seater</td>\n",
       "      <td>361.6</td>\n",
       "      <td>2</td>\n",
       "      <td>21</td>\n",
       "      <td>7</td>\n",
       "      <td>0</td>\n",
       "    </tr>\n",
       "    <tr>\n",
       "      <th>2</th>\n",
       "      <td>2022-02-22 07:00:00</td>\n",
       "      <td>Transfers - Μεταφορά 1. Costa Navarino Dunes, ...</td>\n",
       "      <td>GOLF SHUTTLE ΤΕΜΕΣ Α.Ε.</td>\n",
       "      <td>GOLF SHUTTLE ΤΕΜΕΣ Α.Ε.</td>\n",
       "      <td>19-0-0</td>\n",
       "      <td>4281</td>\n",
       "      <td>Mercedes Sprinter 19seater</td>\n",
       "      <td>Mercedes Sprinter 19seater</td>\n",
       "      <td>361.6</td>\n",
       "      <td>2</td>\n",
       "      <td>22</td>\n",
       "      <td>7</td>\n",
       "      <td>0</td>\n",
       "    </tr>\n",
       "    <tr>\n",
       "      <th>3</th>\n",
       "      <td>2022-02-22 07:00:00</td>\n",
       "      <td>Transfers - Μεταφορά 1. Costa Navarino Dunes, ...</td>\n",
       "      <td>GOLF SHUTTLE ΤΕΜΕΣ Α.Ε.</td>\n",
       "      <td>GOLF SHUTTLE ΤΕΜΕΣ Α.Ε.</td>\n",
       "      <td>19-0-0</td>\n",
       "      <td>4288</td>\n",
       "      <td>Mercedes Sprinter 19seater</td>\n",
       "      <td>Mercedes Sprinter 19seater</td>\n",
       "      <td>361.6</td>\n",
       "      <td>2</td>\n",
       "      <td>22</td>\n",
       "      <td>7</td>\n",
       "      <td>0</td>\n",
       "    </tr>\n",
       "    <tr>\n",
       "      <th>5</th>\n",
       "      <td>2022-02-23 07:00:00</td>\n",
       "      <td>Transfers - Μεταφορά 1. Costa Navarino Dunes, ...</td>\n",
       "      <td>GOLF SHUTTLE ΤΕΜΕΣ Α.Ε.</td>\n",
       "      <td>GOLF SHUTTLE ΤΕΜΕΣ Α.Ε.</td>\n",
       "      <td>19-0-0</td>\n",
       "      <td>4282</td>\n",
       "      <td>Mercedes Sprinter 19seater</td>\n",
       "      <td>Mercedes Sprinter 19seater</td>\n",
       "      <td>361.6</td>\n",
       "      <td>2</td>\n",
       "      <td>23</td>\n",
       "      <td>7</td>\n",
       "      <td>0</td>\n",
       "    </tr>\n",
       "  </tbody>\n",
       "</table>\n",
       "</div>"
      ],
      "text/plain": [
       "                 date                                           transfer  \\\n",
       "0 2022-02-21 07:00:00  Transfers - Μεταφορά 1. Costa Navarino Dunes, ...   \n",
       "1 2022-02-21 07:00:00  Transfers - Μεταφορά 1. Costa Navarino Dunes, ...   \n",
       "2 2022-02-22 07:00:00  Transfers - Μεταφορά 1. Costa Navarino Dunes, ...   \n",
       "3 2022-02-22 07:00:00  Transfers - Μεταφορά 1. Costa Navarino Dunes, ...   \n",
       "5 2022-02-23 07:00:00  Transfers - Μεταφορά 1. Costa Navarino Dunes, ...   \n",
       "\n",
       "                  comments                comments1 date_enpdnp rsv_no  \\\n",
       "0  GOLF SHUTTLE ΤΕΜΕΣ Α.Ε.  GOLF SHUTTLE ΤΕΜΕΣ Α.Ε.      19-0-0   4279   \n",
       "1  GOLF SHUTTLE ΤΕΜΕΣ Α.Ε.  GOLF SHUTTLE ΤΕΜΕΣ Α.Ε.      19-0-0   4280   \n",
       "2  GOLF SHUTTLE ΤΕΜΕΣ Α.Ε.  GOLF SHUTTLE ΤΕΜΕΣ Α.Ε.      19-0-0   4281   \n",
       "3  GOLF SHUTTLE ΤΕΜΕΣ Α.Ε.  GOLF SHUTTLE ΤΕΜΕΣ Α.Ε.      19-0-0   4288   \n",
       "5  GOLF SHUTTLE ΤΕΜΕΣ Α.Ε.  GOLF SHUTTLE ΤΕΜΕΣ Α.Ε.      19-0-0   4282   \n",
       "\n",
       "                     car_type                   car_type1  payment  month  \\\n",
       "0  Mercedes Sprinter 19seater  Mercedes Sprinter 19seater    361.6      2   \n",
       "1  Mercedes Sprinter 19seater  Mercedes Sprinter 19seater    361.6      2   \n",
       "2  Mercedes Sprinter 19seater  Mercedes Sprinter 19seater    361.6      2   \n",
       "3  Mercedes Sprinter 19seater  Mercedes Sprinter 19seater    361.6      2   \n",
       "5  Mercedes Sprinter 19seater  Mercedes Sprinter 19seater    361.6      2   \n",
       "\n",
       "   day  hour  minute  \n",
       "0   21     7       0  \n",
       "1   21     7       0  \n",
       "2   22     7       0  \n",
       "3   22     7       0  \n",
       "5   23     7       0  "
      ]
     },
     "execution_count": 17,
     "metadata": {},
     "output_type": "execute_result"
    }
   ],
   "source": [
    "golf_transfers.head()"
   ]
  },
  {
   "cell_type": "markdown",
   "id": "fae18e69",
   "metadata": {},
   "source": [
    "# total sum of cost per month\n"
   ]
  },
  {
   "cell_type": "code",
   "execution_count": 18,
   "id": "b3183fe5",
   "metadata": {},
   "outputs": [
    {
     "data": {
      "text/html": [
       "<div>\n",
       "<style scoped>\n",
       "    .dataframe tbody tr th:only-of-type {\n",
       "        vertical-align: middle;\n",
       "    }\n",
       "\n",
       "    .dataframe tbody tr th {\n",
       "        vertical-align: top;\n",
       "    }\n",
       "\n",
       "    .dataframe thead th {\n",
       "        text-align: right;\n",
       "    }\n",
       "</style>\n",
       "<table border=\"1\" class=\"dataframe\">\n",
       "  <thead>\n",
       "    <tr style=\"text-align: right;\">\n",
       "      <th></th>\n",
       "      <th>month</th>\n",
       "      <th>payment</th>\n",
       "    </tr>\n",
       "  </thead>\n",
       "  <tbody>\n",
       "    <tr>\n",
       "      <th>0</th>\n",
       "      <td>2</td>\n",
       "      <td>7684.0</td>\n",
       "    </tr>\n",
       "    <tr>\n",
       "      <th>1</th>\n",
       "      <td>3</td>\n",
       "      <td>59066.5</td>\n",
       "    </tr>\n",
       "    <tr>\n",
       "      <th>2</th>\n",
       "      <td>4</td>\n",
       "      <td>57519.5</td>\n",
       "    </tr>\n",
       "    <tr>\n",
       "      <th>3</th>\n",
       "      <td>5</td>\n",
       "      <td>33497.2</td>\n",
       "    </tr>\n",
       "    <tr>\n",
       "      <th>4</th>\n",
       "      <td>6</td>\n",
       "      <td>23142.4</td>\n",
       "    </tr>\n",
       "    <tr>\n",
       "      <th>5</th>\n",
       "      <td>7</td>\n",
       "      <td>16995.2</td>\n",
       "    </tr>\n",
       "    <tr>\n",
       "      <th>6</th>\n",
       "      <td>8</td>\n",
       "      <td>16633.6</td>\n",
       "    </tr>\n",
       "    <tr>\n",
       "      <th>7</th>\n",
       "      <td>9</td>\n",
       "      <td>46646.4</td>\n",
       "    </tr>\n",
       "    <tr>\n",
       "      <th>8</th>\n",
       "      <td>10</td>\n",
       "      <td>54109.8</td>\n",
       "    </tr>\n",
       "    <tr>\n",
       "      <th>9</th>\n",
       "      <td>11</td>\n",
       "      <td>38616.6</td>\n",
       "    </tr>\n",
       "  </tbody>\n",
       "</table>\n",
       "</div>"
      ],
      "text/plain": [
       "   month  payment\n",
       "0      2   7684.0\n",
       "1      3  59066.5\n",
       "2      4  57519.5\n",
       "3      5  33497.2\n",
       "4      6  23142.4\n",
       "5      7  16995.2\n",
       "6      8  16633.6\n",
       "7      9  46646.4\n",
       "8     10  54109.8\n",
       "9     11  38616.6"
      ]
     },
     "execution_count": 18,
     "metadata": {},
     "output_type": "execute_result"
    }
   ],
   "source": [
    "cost_per_month = golf_transfers.groupby('month')['payment'].sum().reset_index(drop=False)\n",
    "cost_per_month"
   ]
  },
  {
   "cell_type": "code",
   "execution_count": 19,
   "id": "abc0b545",
   "metadata": {},
   "outputs": [
    {
     "data": {
      "text/plain": [
       "<AxesSubplot:xlabel='month', ylabel='payment'>"
      ]
     },
     "execution_count": 19,
     "metadata": {},
     "output_type": "execute_result"
    },
    {
     "data": {
      "image/png": "[encoded data removed]",
      "text/plain": [
       "<Figure size 640x480 with 1 Axes>"
      ]
     },
     "metadata": {},
     "output_type": "display_data"
    }
   ],
   "source": [
    "sns.barplot(data=cost_per_month, x='month', y='payment')"
   ]
  },
  {
   "cell_type": "markdown",
   "id": "e53646a0",
   "metadata": {},
   "source": [
    "# Average payment per route per month"
   ]
  },
  {
   "cell_type": "code",
   "execution_count": 20,
   "id": "f80cadde",
   "metadata": {},
   "outputs": [
    {
     "data": {
      "text/html": [
       "<div>\n",
       "<style scoped>\n",
       "    .dataframe tbody tr th:only-of-type {\n",
       "        vertical-align: middle;\n",
       "    }\n",
       "\n",
       "    .dataframe tbody tr th {\n",
       "        vertical-align: top;\n",
       "    }\n",
       "\n",
       "    .dataframe thead th {\n",
       "        text-align: right;\n",
       "    }\n",
       "</style>\n",
       "<table border=\"1\" class=\"dataframe\">\n",
       "  <thead>\n",
       "    <tr style=\"text-align: right;\">\n",
       "      <th></th>\n",
       "      <th>month</th>\n",
       "      <th>payment</th>\n",
       "    </tr>\n",
       "  </thead>\n",
       "  <tbody>\n",
       "    <tr>\n",
       "      <th>0</th>\n",
       "      <td>2</td>\n",
       "      <td>384.200000</td>\n",
       "    </tr>\n",
       "    <tr>\n",
       "      <th>1</th>\n",
       "      <td>3</td>\n",
       "      <td>371.487421</td>\n",
       "    </tr>\n",
       "    <tr>\n",
       "      <th>2</th>\n",
       "      <td>4</td>\n",
       "      <td>357.263975</td>\n",
       "    </tr>\n",
       "    <tr>\n",
       "      <th>3</th>\n",
       "      <td>5</td>\n",
       "      <td>345.331959</td>\n",
       "    </tr>\n",
       "    <tr>\n",
       "      <th>4</th>\n",
       "      <td>6</td>\n",
       "      <td>361.600000</td>\n",
       "    </tr>\n",
       "    <tr>\n",
       "      <th>5</th>\n",
       "      <td>7</td>\n",
       "      <td>361.600000</td>\n",
       "    </tr>\n",
       "    <tr>\n",
       "      <th>6</th>\n",
       "      <td>8</td>\n",
       "      <td>361.600000</td>\n",
       "    </tr>\n",
       "    <tr>\n",
       "      <th>7</th>\n",
       "      <td>9</td>\n",
       "      <td>361.600000</td>\n",
       "    </tr>\n",
       "    <tr>\n",
       "      <th>8</th>\n",
       "      <td>10</td>\n",
       "      <td>322.082143</td>\n",
       "    </tr>\n",
       "    <tr>\n",
       "      <th>9</th>\n",
       "      <td>11</td>\n",
       "      <td>321.805000</td>\n",
       "    </tr>\n",
       "  </tbody>\n",
       "</table>\n",
       "</div>"
      ],
      "text/plain": [
       "   month     payment\n",
       "0      2  384.200000\n",
       "1      3  371.487421\n",
       "2      4  357.263975\n",
       "3      5  345.331959\n",
       "4      6  361.600000\n",
       "5      7  361.600000\n",
       "6      8  361.600000\n",
       "7      9  361.600000\n",
       "8     10  322.082143\n",
       "9     11  321.805000"
      ]
     },
     "execution_count": 20,
     "metadata": {},
     "output_type": "execute_result"
    }
   ],
   "source": [
    "cost_per_month_avg = golf_transfers.groupby('month')['payment'].mean().reset_index(drop=False)\n",
    "cost_per_month_avg"
   ]
  },
  {
   "cell_type": "code",
   "execution_count": 21,
   "id": "2021105b",
   "metadata": {},
   "outputs": [
    {
     "data": {
      "text/plain": [
       "<AxesSubplot:xlabel='month', ylabel='payment'>"
      ]
     },
     "execution_count": 21,
     "metadata": {},
     "output_type": "execute_result"
    },
    {
     "data": {
      "image/png": "[encoded data removed]",
      "text/plain": [
       "<Figure size 640x480 with 1 Axes>"
      ]
     },
     "metadata": {},
     "output_type": "display_data"
    }
   ],
   "source": [
    "sns.barplot(data=cost_per_month_avg, x='month', y='payment')"
   ]
  },
  {
   "cell_type": "markdown",
   "id": "93469df0",
   "metadata": {},
   "source": [
    "# Median payment per route per month"
   ]
  },
  {
   "cell_type": "code",
   "execution_count": 22,
   "id": "f4c2a313",
   "metadata": {},
   "outputs": [
    {
     "data": {
      "text/html": [
       "<div>\n",
       "<style scoped>\n",
       "    .dataframe tbody tr th:only-of-type {\n",
       "        vertical-align: middle;\n",
       "    }\n",
       "\n",
       "    .dataframe tbody tr th {\n",
       "        vertical-align: top;\n",
       "    }\n",
       "\n",
       "    .dataframe thead th {\n",
       "        text-align: right;\n",
       "    }\n",
       "</style>\n",
       "<table border=\"1\" class=\"dataframe\">\n",
       "  <thead>\n",
       "    <tr style=\"text-align: right;\">\n",
       "      <th></th>\n",
       "      <th>month</th>\n",
       "      <th>payment</th>\n",
       "    </tr>\n",
       "  </thead>\n",
       "  <tbody>\n",
       "    <tr>\n",
       "      <th>0</th>\n",
       "      <td>2</td>\n",
       "      <td>361.6</td>\n",
       "    </tr>\n",
       "    <tr>\n",
       "      <th>1</th>\n",
       "      <td>3</td>\n",
       "      <td>361.6</td>\n",
       "    </tr>\n",
       "    <tr>\n",
       "      <th>2</th>\n",
       "      <td>4</td>\n",
       "      <td>361.6</td>\n",
       "    </tr>\n",
       "    <tr>\n",
       "      <th>3</th>\n",
       "      <td>5</td>\n",
       "      <td>361.6</td>\n",
       "    </tr>\n",
       "    <tr>\n",
       "      <th>4</th>\n",
       "      <td>6</td>\n",
       "      <td>361.6</td>\n",
       "    </tr>\n",
       "    <tr>\n",
       "      <th>5</th>\n",
       "      <td>7</td>\n",
       "      <td>361.6</td>\n",
       "    </tr>\n",
       "    <tr>\n",
       "      <th>6</th>\n",
       "      <td>8</td>\n",
       "      <td>361.6</td>\n",
       "    </tr>\n",
       "    <tr>\n",
       "      <th>7</th>\n",
       "      <td>9</td>\n",
       "      <td>361.6</td>\n",
       "    </tr>\n",
       "    <tr>\n",
       "      <th>8</th>\n",
       "      <td>10</td>\n",
       "      <td>361.6</td>\n",
       "    </tr>\n",
       "    <tr>\n",
       "      <th>9</th>\n",
       "      <td>11</td>\n",
       "      <td>361.6</td>\n",
       "    </tr>\n",
       "  </tbody>\n",
       "</table>\n",
       "</div>"
      ],
      "text/plain": [
       "   month  payment\n",
       "0      2    361.6\n",
       "1      3    361.6\n",
       "2      4    361.6\n",
       "3      5    361.6\n",
       "4      6    361.6\n",
       "5      7    361.6\n",
       "6      8    361.6\n",
       "7      9    361.6\n",
       "8     10    361.6\n",
       "9     11    361.6"
      ]
     },
     "execution_count": 22,
     "metadata": {},
     "output_type": "execute_result"
    }
   ],
   "source": [
    "cost_per_month_median = golf_transfers.groupby('month')['payment'].median().reset_index(drop=False)\n",
    "cost_per_month_median"
   ]
  },
  {
   "cell_type": "code",
   "execution_count": 23,
   "id": "beb0723d",
   "metadata": {},
   "outputs": [
    {
     "data": {
      "text/plain": [
       "<AxesSubplot:xlabel='month', ylabel='payment'>"
      ]
     },
     "execution_count": 23,
     "metadata": {},
     "output_type": "execute_result"
    },
    {
     "data": {
      "image/png": "[encoded data removed]",
      "text/plain": [
       "<Figure size 640x480 with 1 Axes>"
      ]
     },
     "metadata": {},
     "output_type": "display_data"
    }
   ],
   "source": [
    "sns.barplot(data=cost_per_month_median, x='month', y='payment')"
   ]
  },
  {
   "cell_type": "markdown",
   "id": "0eeabcd9",
   "metadata": {},
   "source": [
    "# total number of routes per month"
   ]
  },
  {
   "cell_type": "code",
   "execution_count": 24,
   "id": "a1cd50b5",
   "metadata": {},
   "outputs": [
    {
     "data": {
      "text/html": [
       "<div>\n",
       "<style scoped>\n",
       "    .dataframe tbody tr th:only-of-type {\n",
       "        vertical-align: middle;\n",
       "    }\n",
       "\n",
       "    .dataframe tbody tr th {\n",
       "        vertical-align: top;\n",
       "    }\n",
       "\n",
       "    .dataframe thead th {\n",
       "        text-align: right;\n",
       "    }\n",
       "</style>\n",
       "<table border=\"1\" class=\"dataframe\">\n",
       "  <thead>\n",
       "    <tr style=\"text-align: right;\">\n",
       "      <th></th>\n",
       "      <th>month</th>\n",
       "      <th>total routes</th>\n",
       "    </tr>\n",
       "  </thead>\n",
       "  <tbody>\n",
       "    <tr>\n",
       "      <th>0</th>\n",
       "      <td>2</td>\n",
       "      <td>20</td>\n",
       "    </tr>\n",
       "    <tr>\n",
       "      <th>1</th>\n",
       "      <td>3</td>\n",
       "      <td>159</td>\n",
       "    </tr>\n",
       "    <tr>\n",
       "      <th>2</th>\n",
       "      <td>4</td>\n",
       "      <td>161</td>\n",
       "    </tr>\n",
       "    <tr>\n",
       "      <th>3</th>\n",
       "      <td>5</td>\n",
       "      <td>97</td>\n",
       "    </tr>\n",
       "    <tr>\n",
       "      <th>4</th>\n",
       "      <td>6</td>\n",
       "      <td>64</td>\n",
       "    </tr>\n",
       "    <tr>\n",
       "      <th>5</th>\n",
       "      <td>7</td>\n",
       "      <td>47</td>\n",
       "    </tr>\n",
       "    <tr>\n",
       "      <th>6</th>\n",
       "      <td>8</td>\n",
       "      <td>46</td>\n",
       "    </tr>\n",
       "    <tr>\n",
       "      <th>7</th>\n",
       "      <td>9</td>\n",
       "      <td>129</td>\n",
       "    </tr>\n",
       "    <tr>\n",
       "      <th>8</th>\n",
       "      <td>10</td>\n",
       "      <td>168</td>\n",
       "    </tr>\n",
       "    <tr>\n",
       "      <th>9</th>\n",
       "      <td>11</td>\n",
       "      <td>120</td>\n",
       "    </tr>\n",
       "  </tbody>\n",
       "</table>\n",
       "</div>"
      ],
      "text/plain": [
       "   month  total routes\n",
       "0      2            20\n",
       "1      3           159\n",
       "2      4           161\n",
       "3      5            97\n",
       "4      6            64\n",
       "5      7            47\n",
       "6      8            46\n",
       "7      9           129\n",
       "8     10           168\n",
       "9     11           120"
      ]
     },
     "execution_count": 24,
     "metadata": {},
     "output_type": "execute_result"
    }
   ],
   "source": [
    "number_of_routes_per_month = golf_transfers.groupby('month')['payment'].count().reset_index()\n",
    "number_of_routes_per_month = number_of_routes_per_month.rename(columns={'payment': 'total routes'})\n",
    "number_of_routes_per_month"
   ]
  },
  {
   "cell_type": "code",
   "execution_count": 25,
   "id": "7fd3eb9d",
   "metadata": {},
   "outputs": [
    {
     "data": {
      "text/plain": [
       "<AxesSubplot:xlabel='month', ylabel='total routes'>"
      ]
     },
     "execution_count": 25,
     "metadata": {},
     "output_type": "execute_result"
    },
    {
     "data": {
      "image/png": "[encoded data removed]",
      "text/plain": [
       "<Figure size 640x480 with 1 Axes>"
      ]
     },
     "metadata": {},
     "output_type": "display_data"
    }
   ],
   "source": [
    "sns.barplot(data=number_of_routes_per_month, x='month', y='total routes')"
   ]
  },
  {
   "cell_type": "code",
   "execution_count": null,
   "id": "90f012d8",
   "metadata": {},
   "outputs": [],
   "source": []
  },
  {
   "cell_type": "code",
   "execution_count": 80,
   "id": "4f402c39",
   "metadata": {
    "scrolled": true
   },
   "outputs": [
    {
     "data": {
      "text/html": [
       "<div>\n",
       "<style scoped>\n",
       "    .dataframe tbody tr th:only-of-type {\n",
       "        vertical-align: middle;\n",
       "    }\n",
       "\n",
       "    .dataframe tbody tr th {\n",
       "        vertical-align: top;\n",
       "    }\n",
       "\n",
       "    .dataframe thead th {\n",
       "        text-align: right;\n",
       "    }\n",
       "</style>\n",
       "<table border=\"1\" class=\"dataframe\">\n",
       "  <thead>\n",
       "    <tr style=\"text-align: right;\">\n",
       "      <th></th>\n",
       "      <th>2023-09-01</th>\n",
       "      <th>2023-09-02</th>\n",
       "      <th>2023-09-03</th>\n",
       "      <th>2023-09-04</th>\n",
       "      <th>2023-09-05</th>\n",
       "      <th>2023-09-06</th>\n",
       "      <th>2023-09-07</th>\n",
       "      <th>2023-09-08</th>\n",
       "      <th>2023-09-09</th>\n",
       "      <th>2023-09-10</th>\n",
       "      <th>...</th>\n",
       "      <th>2023-11-16</th>\n",
       "      <th>2023-11-17</th>\n",
       "      <th>2023-11-18</th>\n",
       "      <th>2023-11-19</th>\n",
       "      <th>2023-11-20</th>\n",
       "      <th>2023-11-21</th>\n",
       "      <th>2023-11-22</th>\n",
       "      <th>2023-11-23</th>\n",
       "      <th>2023-11-24</th>\n",
       "      <th>2023-11-25</th>\n",
       "    </tr>\n",
       "    <tr>\n",
       "      <th>Hour</th>\n",
       "      <th></th>\n",
       "      <th></th>\n",
       "      <th></th>\n",
       "      <th></th>\n",
       "      <th></th>\n",
       "      <th></th>\n",
       "      <th></th>\n",
       "      <th></th>\n",
       "      <th></th>\n",
       "      <th></th>\n",
       "      <th></th>\n",
       "      <th></th>\n",
       "      <th></th>\n",
       "      <th></th>\n",
       "      <th></th>\n",
       "      <th></th>\n",
       "      <th></th>\n",
       "      <th></th>\n",
       "      <th></th>\n",
       "      <th></th>\n",
       "      <th></th>\n",
       "    </tr>\n",
       "  </thead>\n",
       "  <tbody>\n",
       "    <tr>\n",
       "      <th>6:00-6:20</th>\n",
       "      <td>0</td>\n",
       "      <td>0</td>\n",
       "      <td>0</td>\n",
       "      <td>0</td>\n",
       "      <td>0</td>\n",
       "      <td>0</td>\n",
       "      <td>0</td>\n",
       "      <td>0</td>\n",
       "      <td>3</td>\n",
       "      <td>0</td>\n",
       "      <td>...</td>\n",
       "      <td>0</td>\n",
       "      <td>2</td>\n",
       "      <td>0</td>\n",
       "      <td>0</td>\n",
       "      <td>0</td>\n",
       "      <td>0</td>\n",
       "      <td>0</td>\n",
       "      <td>0</td>\n",
       "      <td>0</td>\n",
       "      <td>4</td>\n",
       "    </tr>\n",
       "    <tr>\n",
       "      <th>6:20-6:40</th>\n",
       "      <td>0</td>\n",
       "      <td>0</td>\n",
       "      <td>0</td>\n",
       "      <td>0</td>\n",
       "      <td>0</td>\n",
       "      <td>0</td>\n",
       "      <td>0</td>\n",
       "      <td>0</td>\n",
       "      <td>0</td>\n",
       "      <td>0</td>\n",
       "      <td>...</td>\n",
       "      <td>0</td>\n",
       "      <td>0</td>\n",
       "      <td>0</td>\n",
       "      <td>0</td>\n",
       "      <td>0</td>\n",
       "      <td>0</td>\n",
       "      <td>0</td>\n",
       "      <td>0</td>\n",
       "      <td>0</td>\n",
       "      <td>6</td>\n",
       "    </tr>\n",
       "    <tr>\n",
       "      <th>6:40-7:00</th>\n",
       "      <td>0</td>\n",
       "      <td>0</td>\n",
       "      <td>0</td>\n",
       "      <td>0</td>\n",
       "      <td>0</td>\n",
       "      <td>0</td>\n",
       "      <td>0</td>\n",
       "      <td>0</td>\n",
       "      <td>0</td>\n",
       "      <td>0</td>\n",
       "      <td>...</td>\n",
       "      <td>0</td>\n",
       "      <td>0</td>\n",
       "      <td>0</td>\n",
       "      <td>0</td>\n",
       "      <td>0</td>\n",
       "      <td>0</td>\n",
       "      <td>0</td>\n",
       "      <td>0</td>\n",
       "      <td>0</td>\n",
       "      <td>0</td>\n",
       "    </tr>\n",
       "    <tr>\n",
       "      <th>7:00-7:20</th>\n",
       "      <td>0</td>\n",
       "      <td>0</td>\n",
       "      <td>0</td>\n",
       "      <td>0</td>\n",
       "      <td>0</td>\n",
       "      <td>0</td>\n",
       "      <td>5</td>\n",
       "      <td>0</td>\n",
       "      <td>0</td>\n",
       "      <td>0</td>\n",
       "      <td>...</td>\n",
       "      <td>0</td>\n",
       "      <td>0</td>\n",
       "      <td>0</td>\n",
       "      <td>2</td>\n",
       "      <td>1</td>\n",
       "      <td>0</td>\n",
       "      <td>0</td>\n",
       "      <td>0</td>\n",
       "      <td>0</td>\n",
       "      <td>0</td>\n",
       "    </tr>\n",
       "    <tr>\n",
       "      <th>7:20-7:40</th>\n",
       "      <td>4</td>\n",
       "      <td>3</td>\n",
       "      <td>6</td>\n",
       "      <td>2</td>\n",
       "      <td>0</td>\n",
       "      <td>6</td>\n",
       "      <td>5</td>\n",
       "      <td>7</td>\n",
       "      <td>1</td>\n",
       "      <td>4</td>\n",
       "      <td>...</td>\n",
       "      <td>0</td>\n",
       "      <td>6</td>\n",
       "      <td>0</td>\n",
       "      <td>0</td>\n",
       "      <td>15</td>\n",
       "      <td>0</td>\n",
       "      <td>0</td>\n",
       "      <td>0</td>\n",
       "      <td>0</td>\n",
       "      <td>0</td>\n",
       "    </tr>\n",
       "    <tr>\n",
       "      <th>7:40-8:00</th>\n",
       "      <td>2</td>\n",
       "      <td>0</td>\n",
       "      <td>2</td>\n",
       "      <td>0</td>\n",
       "      <td>0</td>\n",
       "      <td>0</td>\n",
       "      <td>0</td>\n",
       "      <td>0</td>\n",
       "      <td>0</td>\n",
       "      <td>0</td>\n",
       "      <td>...</td>\n",
       "      <td>0</td>\n",
       "      <td>0</td>\n",
       "      <td>0</td>\n",
       "      <td>0</td>\n",
       "      <td>1</td>\n",
       "      <td>0</td>\n",
       "      <td>0</td>\n",
       "      <td>0</td>\n",
       "      <td>0</td>\n",
       "      <td>0</td>\n",
       "    </tr>\n",
       "    <tr>\n",
       "      <th>8:00-8:20</th>\n",
       "      <td>0</td>\n",
       "      <td>7</td>\n",
       "      <td>0</td>\n",
       "      <td>0</td>\n",
       "      <td>2</td>\n",
       "      <td>5</td>\n",
       "      <td>3</td>\n",
       "      <td>8</td>\n",
       "      <td>6</td>\n",
       "      <td>3</td>\n",
       "      <td>...</td>\n",
       "      <td>1</td>\n",
       "      <td>20</td>\n",
       "      <td>0</td>\n",
       "      <td>0</td>\n",
       "      <td>0</td>\n",
       "      <td>0</td>\n",
       "      <td>0</td>\n",
       "      <td>3</td>\n",
       "      <td>7</td>\n",
       "      <td>8</td>\n",
       "    </tr>\n",
       "    <tr>\n",
       "      <th>8:20-8:40</th>\n",
       "      <td>0</td>\n",
       "      <td>2</td>\n",
       "      <td>8</td>\n",
       "      <td>4</td>\n",
       "      <td>3</td>\n",
       "      <td>9</td>\n",
       "      <td>7</td>\n",
       "      <td>0</td>\n",
       "      <td>9</td>\n",
       "      <td>8</td>\n",
       "      <td>...</td>\n",
       "      <td>16</td>\n",
       "      <td>21</td>\n",
       "      <td>14</td>\n",
       "      <td>0</td>\n",
       "      <td>0</td>\n",
       "      <td>0</td>\n",
       "      <td>0</td>\n",
       "      <td>0</td>\n",
       "      <td>7</td>\n",
       "      <td>8</td>\n",
       "    </tr>\n",
       "    <tr>\n",
       "      <th>8:40-9:00</th>\n",
       "      <td>0</td>\n",
       "      <td>2</td>\n",
       "      <td>0</td>\n",
       "      <td>0</td>\n",
       "      <td>0</td>\n",
       "      <td>0</td>\n",
       "      <td>0</td>\n",
       "      <td>0</td>\n",
       "      <td>0</td>\n",
       "      <td>0</td>\n",
       "      <td>...</td>\n",
       "      <td>18</td>\n",
       "      <td>0</td>\n",
       "      <td>8</td>\n",
       "      <td>0</td>\n",
       "      <td>0</td>\n",
       "      <td>0</td>\n",
       "      <td>50</td>\n",
       "      <td>0</td>\n",
       "      <td>0</td>\n",
       "      <td>6</td>\n",
       "    </tr>\n",
       "    <tr>\n",
       "      <th>9:00-9:20</th>\n",
       "      <td>3</td>\n",
       "      <td>2</td>\n",
       "      <td>8</td>\n",
       "      <td>3</td>\n",
       "      <td>8</td>\n",
       "      <td>11</td>\n",
       "      <td>8</td>\n",
       "      <td>2</td>\n",
       "      <td>6</td>\n",
       "      <td>2</td>\n",
       "      <td>...</td>\n",
       "      <td>1</td>\n",
       "      <td>8</td>\n",
       "      <td>18</td>\n",
       "      <td>16</td>\n",
       "      <td>0</td>\n",
       "      <td>12</td>\n",
       "      <td>0</td>\n",
       "      <td>0</td>\n",
       "      <td>0</td>\n",
       "      <td>8</td>\n",
       "    </tr>\n",
       "    <tr>\n",
       "      <th>9:20-9:40</th>\n",
       "      <td>0</td>\n",
       "      <td>2</td>\n",
       "      <td>0</td>\n",
       "      <td>0</td>\n",
       "      <td>0</td>\n",
       "      <td>10</td>\n",
       "      <td>14</td>\n",
       "      <td>12</td>\n",
       "      <td>10</td>\n",
       "      <td>4</td>\n",
       "      <td>...</td>\n",
       "      <td>0</td>\n",
       "      <td>12</td>\n",
       "      <td>14</td>\n",
       "      <td>0</td>\n",
       "      <td>0</td>\n",
       "      <td>18</td>\n",
       "      <td>8</td>\n",
       "      <td>0</td>\n",
       "      <td>14</td>\n",
       "      <td>8</td>\n",
       "    </tr>\n",
       "    <tr>\n",
       "      <th>9:40-10:00</th>\n",
       "      <td>0</td>\n",
       "      <td>0</td>\n",
       "      <td>0</td>\n",
       "      <td>2</td>\n",
       "      <td>0</td>\n",
       "      <td>0</td>\n",
       "      <td>0</td>\n",
       "      <td>0</td>\n",
       "      <td>0</td>\n",
       "      <td>0</td>\n",
       "      <td>...</td>\n",
       "      <td>0</td>\n",
       "      <td>6</td>\n",
       "      <td>18</td>\n",
       "      <td>2</td>\n",
       "      <td>0</td>\n",
       "      <td>0</td>\n",
       "      <td>1</td>\n",
       "      <td>8</td>\n",
       "      <td>0</td>\n",
       "      <td>8</td>\n",
       "    </tr>\n",
       "    <tr>\n",
       "      <th>10:00-10:20</th>\n",
       "      <td>2</td>\n",
       "      <td>0</td>\n",
       "      <td>0</td>\n",
       "      <td>15</td>\n",
       "      <td>6</td>\n",
       "      <td>3</td>\n",
       "      <td>20</td>\n",
       "      <td>14</td>\n",
       "      <td>10</td>\n",
       "      <td>0</td>\n",
       "      <td>...</td>\n",
       "      <td>17</td>\n",
       "      <td>2</td>\n",
       "      <td>10</td>\n",
       "      <td>8</td>\n",
       "      <td>0</td>\n",
       "      <td>0</td>\n",
       "      <td>0</td>\n",
       "      <td>11</td>\n",
       "      <td>0</td>\n",
       "      <td>8</td>\n",
       "    </tr>\n",
       "    <tr>\n",
       "      <th>10:20-10:40</th>\n",
       "      <td>4</td>\n",
       "      <td>2</td>\n",
       "      <td>2</td>\n",
       "      <td>0</td>\n",
       "      <td>4</td>\n",
       "      <td>11</td>\n",
       "      <td>6</td>\n",
       "      <td>0</td>\n",
       "      <td>0</td>\n",
       "      <td>8</td>\n",
       "      <td>...</td>\n",
       "      <td>0</td>\n",
       "      <td>2</td>\n",
       "      <td>15</td>\n",
       "      <td>3</td>\n",
       "      <td>0</td>\n",
       "      <td>0</td>\n",
       "      <td>2</td>\n",
       "      <td>0</td>\n",
       "      <td>0</td>\n",
       "      <td>8</td>\n",
       "    </tr>\n",
       "    <tr>\n",
       "      <th>10:40-11:00</th>\n",
       "      <td>0</td>\n",
       "      <td>0</td>\n",
       "      <td>0</td>\n",
       "      <td>0</td>\n",
       "      <td>0</td>\n",
       "      <td>0</td>\n",
       "      <td>0</td>\n",
       "      <td>0</td>\n",
       "      <td>0</td>\n",
       "      <td>0</td>\n",
       "      <td>...</td>\n",
       "      <td>0</td>\n",
       "      <td>0</td>\n",
       "      <td>0</td>\n",
       "      <td>0</td>\n",
       "      <td>0</td>\n",
       "      <td>0</td>\n",
       "      <td>0</td>\n",
       "      <td>0</td>\n",
       "      <td>6</td>\n",
       "      <td>7</td>\n",
       "    </tr>\n",
       "    <tr>\n",
       "      <th>11:00-11:20</th>\n",
       "      <td>0</td>\n",
       "      <td>0</td>\n",
       "      <td>0</td>\n",
       "      <td>3</td>\n",
       "      <td>0</td>\n",
       "      <td>2</td>\n",
       "      <td>0</td>\n",
       "      <td>1</td>\n",
       "      <td>2</td>\n",
       "      <td>0</td>\n",
       "      <td>...</td>\n",
       "      <td>0</td>\n",
       "      <td>0</td>\n",
       "      <td>0</td>\n",
       "      <td>0</td>\n",
       "      <td>0</td>\n",
       "      <td>1</td>\n",
       "      <td>0</td>\n",
       "      <td>4</td>\n",
       "      <td>3</td>\n",
       "      <td>0</td>\n",
       "    </tr>\n",
       "    <tr>\n",
       "      <th>11:20-11:40</th>\n",
       "      <td>0</td>\n",
       "      <td>2</td>\n",
       "      <td>0</td>\n",
       "      <td>0</td>\n",
       "      <td>0</td>\n",
       "      <td>0</td>\n",
       "      <td>0</td>\n",
       "      <td>0</td>\n",
       "      <td>2</td>\n",
       "      <td>0</td>\n",
       "      <td>...</td>\n",
       "      <td>0</td>\n",
       "      <td>6</td>\n",
       "      <td>4</td>\n",
       "      <td>0</td>\n",
       "      <td>0</td>\n",
       "      <td>2</td>\n",
       "      <td>0</td>\n",
       "      <td>0</td>\n",
       "      <td>8</td>\n",
       "      <td>0</td>\n",
       "    </tr>\n",
       "    <tr>\n",
       "      <th>11:40-12:00</th>\n",
       "      <td>0</td>\n",
       "      <td>0</td>\n",
       "      <td>0</td>\n",
       "      <td>0</td>\n",
       "      <td>0</td>\n",
       "      <td>0</td>\n",
       "      <td>0</td>\n",
       "      <td>0</td>\n",
       "      <td>0</td>\n",
       "      <td>0</td>\n",
       "      <td>...</td>\n",
       "      <td>0</td>\n",
       "      <td>0</td>\n",
       "      <td>0</td>\n",
       "      <td>0</td>\n",
       "      <td>0</td>\n",
       "      <td>0</td>\n",
       "      <td>0</td>\n",
       "      <td>0</td>\n",
       "      <td>3</td>\n",
       "      <td>0</td>\n",
       "    </tr>\n",
       "    <tr>\n",
       "      <th>12:00-12:20</th>\n",
       "      <td>2</td>\n",
       "      <td>0</td>\n",
       "      <td>6</td>\n",
       "      <td>0</td>\n",
       "      <td>0</td>\n",
       "      <td>2</td>\n",
       "      <td>2</td>\n",
       "      <td>2</td>\n",
       "      <td>0</td>\n",
       "      <td>0</td>\n",
       "      <td>...</td>\n",
       "      <td>0</td>\n",
       "      <td>0</td>\n",
       "      <td>0</td>\n",
       "      <td>0</td>\n",
       "      <td>0</td>\n",
       "      <td>1</td>\n",
       "      <td>0</td>\n",
       "      <td>0</td>\n",
       "      <td>4</td>\n",
       "      <td>0</td>\n",
       "    </tr>\n",
       "    <tr>\n",
       "      <th>12:20-12:40</th>\n",
       "      <td>0</td>\n",
       "      <td>0</td>\n",
       "      <td>0</td>\n",
       "      <td>0</td>\n",
       "      <td>0</td>\n",
       "      <td>4</td>\n",
       "      <td>0</td>\n",
       "      <td>0</td>\n",
       "      <td>0</td>\n",
       "      <td>0</td>\n",
       "      <td>...</td>\n",
       "      <td>0</td>\n",
       "      <td>0</td>\n",
       "      <td>0</td>\n",
       "      <td>0</td>\n",
       "      <td>0</td>\n",
       "      <td>0</td>\n",
       "      <td>0</td>\n",
       "      <td>0</td>\n",
       "      <td>0</td>\n",
       "      <td>0</td>\n",
       "    </tr>\n",
       "    <tr>\n",
       "      <th>12:40-13:00</th>\n",
       "      <td>0</td>\n",
       "      <td>0</td>\n",
       "      <td>0</td>\n",
       "      <td>0</td>\n",
       "      <td>0</td>\n",
       "      <td>0</td>\n",
       "      <td>0</td>\n",
       "      <td>0</td>\n",
       "      <td>0</td>\n",
       "      <td>0</td>\n",
       "      <td>...</td>\n",
       "      <td>0</td>\n",
       "      <td>0</td>\n",
       "      <td>0</td>\n",
       "      <td>0</td>\n",
       "      <td>0</td>\n",
       "      <td>0</td>\n",
       "      <td>0</td>\n",
       "      <td>0</td>\n",
       "      <td>0</td>\n",
       "      <td>0</td>\n",
       "    </tr>\n",
       "    <tr>\n",
       "      <th>13:00-13:20</th>\n",
       "      <td>0</td>\n",
       "      <td>0</td>\n",
       "      <td>0</td>\n",
       "      <td>2</td>\n",
       "      <td>0</td>\n",
       "      <td>2</td>\n",
       "      <td>0</td>\n",
       "      <td>0</td>\n",
       "      <td>0</td>\n",
       "      <td>0</td>\n",
       "      <td>...</td>\n",
       "      <td>0</td>\n",
       "      <td>0</td>\n",
       "      <td>0</td>\n",
       "      <td>0</td>\n",
       "      <td>0</td>\n",
       "      <td>2</td>\n",
       "      <td>0</td>\n",
       "      <td>0</td>\n",
       "      <td>0</td>\n",
       "      <td>0</td>\n",
       "    </tr>\n",
       "    <tr>\n",
       "      <th>13:20-13:40</th>\n",
       "      <td>2</td>\n",
       "      <td>0</td>\n",
       "      <td>0</td>\n",
       "      <td>0</td>\n",
       "      <td>0</td>\n",
       "      <td>2</td>\n",
       "      <td>2</td>\n",
       "      <td>0</td>\n",
       "      <td>0</td>\n",
       "      <td>0</td>\n",
       "      <td>...</td>\n",
       "      <td>1</td>\n",
       "      <td>4</td>\n",
       "      <td>0</td>\n",
       "      <td>0</td>\n",
       "      <td>0</td>\n",
       "      <td>0</td>\n",
       "      <td>0</td>\n",
       "      <td>0</td>\n",
       "      <td>0</td>\n",
       "      <td>0</td>\n",
       "    </tr>\n",
       "    <tr>\n",
       "      <th>13:40-14:00</th>\n",
       "      <td>0</td>\n",
       "      <td>0</td>\n",
       "      <td>0</td>\n",
       "      <td>0</td>\n",
       "      <td>0</td>\n",
       "      <td>0</td>\n",
       "      <td>0</td>\n",
       "      <td>0</td>\n",
       "      <td>0</td>\n",
       "      <td>0</td>\n",
       "      <td>...</td>\n",
       "      <td>0</td>\n",
       "      <td>0</td>\n",
       "      <td>0</td>\n",
       "      <td>0</td>\n",
       "      <td>0</td>\n",
       "      <td>0</td>\n",
       "      <td>0</td>\n",
       "      <td>0</td>\n",
       "      <td>2</td>\n",
       "      <td>0</td>\n",
       "    </tr>\n",
       "    <tr>\n",
       "      <th>14:00-14:20</th>\n",
       "      <td>0</td>\n",
       "      <td>0</td>\n",
       "      <td>0</td>\n",
       "      <td>0</td>\n",
       "      <td>2</td>\n",
       "      <td>0</td>\n",
       "      <td>0</td>\n",
       "      <td>0</td>\n",
       "      <td>0</td>\n",
       "      <td>0</td>\n",
       "      <td>...</td>\n",
       "      <td>0</td>\n",
       "      <td>0</td>\n",
       "      <td>0</td>\n",
       "      <td>0</td>\n",
       "      <td>0</td>\n",
       "      <td>0</td>\n",
       "      <td>0</td>\n",
       "      <td>0</td>\n",
       "      <td>0</td>\n",
       "      <td>0</td>\n",
       "    </tr>\n",
       "    <tr>\n",
       "      <th>14:20-14:40</th>\n",
       "      <td>1</td>\n",
       "      <td>2</td>\n",
       "      <td>0</td>\n",
       "      <td>0</td>\n",
       "      <td>0</td>\n",
       "      <td>0</td>\n",
       "      <td>0</td>\n",
       "      <td>6</td>\n",
       "      <td>2</td>\n",
       "      <td>0</td>\n",
       "      <td>...</td>\n",
       "      <td>0</td>\n",
       "      <td>0</td>\n",
       "      <td>0</td>\n",
       "      <td>0</td>\n",
       "      <td>0</td>\n",
       "      <td>0</td>\n",
       "      <td>0</td>\n",
       "      <td>0</td>\n",
       "      <td>0</td>\n",
       "      <td>0</td>\n",
       "    </tr>\n",
       "    <tr>\n",
       "      <th>14:40-15:00</th>\n",
       "      <td>0</td>\n",
       "      <td>0</td>\n",
       "      <td>0</td>\n",
       "      <td>0</td>\n",
       "      <td>2</td>\n",
       "      <td>0</td>\n",
       "      <td>0</td>\n",
       "      <td>0</td>\n",
       "      <td>0</td>\n",
       "      <td>0</td>\n",
       "      <td>...</td>\n",
       "      <td>0</td>\n",
       "      <td>0</td>\n",
       "      <td>0</td>\n",
       "      <td>0</td>\n",
       "      <td>0</td>\n",
       "      <td>0</td>\n",
       "      <td>0</td>\n",
       "      <td>0</td>\n",
       "      <td>0</td>\n",
       "      <td>0</td>\n",
       "    </tr>\n",
       "    <tr>\n",
       "      <th>15:00-15:30</th>\n",
       "      <td>0</td>\n",
       "      <td>2</td>\n",
       "      <td>0</td>\n",
       "      <td>4</td>\n",
       "      <td>2</td>\n",
       "      <td>2</td>\n",
       "      <td>3</td>\n",
       "      <td>0</td>\n",
       "      <td>0</td>\n",
       "      <td>0</td>\n",
       "      <td>...</td>\n",
       "      <td>0</td>\n",
       "      <td>0</td>\n",
       "      <td>0</td>\n",
       "      <td>0</td>\n",
       "      <td>0</td>\n",
       "      <td>0</td>\n",
       "      <td>0</td>\n",
       "      <td>0</td>\n",
       "      <td>0</td>\n",
       "      <td>0</td>\n",
       "    </tr>\n",
       "    <tr>\n",
       "      <th>15:30-16:00</th>\n",
       "      <td>1</td>\n",
       "      <td>0</td>\n",
       "      <td>0</td>\n",
       "      <td>0</td>\n",
       "      <td>0</td>\n",
       "      <td>0</td>\n",
       "      <td>0</td>\n",
       "      <td>0</td>\n",
       "      <td>0</td>\n",
       "      <td>0</td>\n",
       "      <td>...</td>\n",
       "      <td>0</td>\n",
       "      <td>0</td>\n",
       "      <td>0</td>\n",
       "      <td>0</td>\n",
       "      <td>0</td>\n",
       "      <td>0</td>\n",
       "      <td>0</td>\n",
       "      <td>0</td>\n",
       "      <td>0</td>\n",
       "      <td>0</td>\n",
       "    </tr>\n",
       "    <tr>\n",
       "      <th>16:00-16:30</th>\n",
       "      <td>0</td>\n",
       "      <td>0</td>\n",
       "      <td>0</td>\n",
       "      <td>0</td>\n",
       "      <td>0</td>\n",
       "      <td>0</td>\n",
       "      <td>0</td>\n",
       "      <td>0</td>\n",
       "      <td>0</td>\n",
       "      <td>0</td>\n",
       "      <td>...</td>\n",
       "      <td>0</td>\n",
       "      <td>0</td>\n",
       "      <td>0</td>\n",
       "      <td>0</td>\n",
       "      <td>0</td>\n",
       "      <td>0</td>\n",
       "      <td>0</td>\n",
       "      <td>0</td>\n",
       "      <td>0</td>\n",
       "      <td>0</td>\n",
       "    </tr>\n",
       "    <tr>\n",
       "      <th>16:30-17:00</th>\n",
       "      <td>0</td>\n",
       "      <td>0</td>\n",
       "      <td>0</td>\n",
       "      <td>0</td>\n",
       "      <td>0</td>\n",
       "      <td>0</td>\n",
       "      <td>0</td>\n",
       "      <td>0</td>\n",
       "      <td>0</td>\n",
       "      <td>0</td>\n",
       "      <td>...</td>\n",
       "      <td>0</td>\n",
       "      <td>0</td>\n",
       "      <td>0</td>\n",
       "      <td>0</td>\n",
       "      <td>0</td>\n",
       "      <td>0</td>\n",
       "      <td>0</td>\n",
       "      <td>0</td>\n",
       "      <td>0</td>\n",
       "      <td>0</td>\n",
       "    </tr>\n",
       "  </tbody>\n",
       "</table>\n",
       "<p>31 rows × 86 columns</p>\n",
       "</div>"
      ],
      "text/plain": [
       "             2023-09-01  2023-09-02  2023-09-03  2023-09-04  2023-09-05  \\\n",
       "Hour                                                                      \n",
       "6:00-6:20             0           0           0           0           0   \n",
       "6:20-6:40             0           0           0           0           0   \n",
       "6:40-7:00             0           0           0           0           0   \n",
       "7:00-7:20             0           0           0           0           0   \n",
       "7:20-7:40             4           3           6           2           0   \n",
       "7:40-8:00             2           0           2           0           0   \n",
       "8:00-8:20             0           7           0           0           2   \n",
       "8:20-8:40             0           2           8           4           3   \n",
       "8:40-9:00             0           2           0           0           0   \n",
       "9:00-9:20             3           2           8           3           8   \n",
       "9:20-9:40             0           2           0           0           0   \n",
       "9:40-10:00            0           0           0           2           0   \n",
       "10:00-10:20           2           0           0          15           6   \n",
       "10:20-10:40           4           2           2           0           4   \n",
       "10:40-11:00           0           0           0           0           0   \n",
       "11:00-11:20           0           0           0           3           0   \n",
       "11:20-11:40           0           2           0           0           0   \n",
       "11:40-12:00           0           0           0           0           0   \n",
       "12:00-12:20           2           0           6           0           0   \n",
       "12:20-12:40           0           0           0           0           0   \n",
       "12:40-13:00           0           0           0           0           0   \n",
       "13:00-13:20           0           0           0           2           0   \n",
       "13:20-13:40           2           0           0           0           0   \n",
       "13:40-14:00           0           0           0           0           0   \n",
       "14:00-14:20           0           0           0           0           2   \n",
       "14:20-14:40           1           2           0           0           0   \n",
       "14:40-15:00           0           0           0           0           2   \n",
       "15:00-15:30           0           2           0           4           2   \n",
       "15:30-16:00           1           0           0           0           0   \n",
       "16:00-16:30           0           0           0           0           0   \n",
       "16:30-17:00           0           0           0           0           0   \n",
       "\n",
       "             2023-09-06  2023-09-07  2023-09-08  2023-09-09  2023-09-10  ...  \\\n",
       "Hour                                                                     ...   \n",
       "6:00-6:20             0           0           0           3           0  ...   \n",
       "6:20-6:40             0           0           0           0           0  ...   \n",
       "6:40-7:00             0           0           0           0           0  ...   \n",
       "7:00-7:20             0           5           0           0           0  ...   \n",
       "7:20-7:40             6           5           7           1           4  ...   \n",
       "7:40-8:00             0           0           0           0           0  ...   \n",
       "8:00-8:20             5           3           8           6           3  ...   \n",
       "8:20-8:40             9           7           0           9           8  ...   \n",
       "8:40-9:00             0           0           0           0           0  ...   \n",
       "9:00-9:20            11           8           2           6           2  ...   \n",
       "9:20-9:40            10          14          12          10           4  ...   \n",
       "9:40-10:00            0           0           0           0           0  ...   \n",
       "10:00-10:20           3          20          14          10           0  ...   \n",
       "10:20-10:40          11           6           0           0           8  ...   \n",
       "10:40-11:00           0           0           0           0           0  ...   \n",
       "11:00-11:20           2           0           1           2           0  ...   \n",
       "11:20-11:40           0           0           0           2           0  ...   \n",
       "11:40-12:00           0           0           0           0           0  ...   \n",
       "12:00-12:20           2           2           2           0           0  ...   \n",
       "12:20-12:40           4           0           0           0           0  ...   \n",
       "12:40-13:00           0           0           0           0           0  ...   \n",
       "13:00-13:20           2           0           0           0           0  ...   \n",
       "13:20-13:40           2           2           0           0           0  ...   \n",
       "13:40-14:00           0           0           0           0           0  ...   \n",
       "14:00-14:20           0           0           0           0           0  ...   \n",
       "14:20-14:40           0           0           6           2           0  ...   \n",
       "14:40-15:00           0           0           0           0           0  ...   \n",
       "15:00-15:30           2           3           0           0           0  ...   \n",
       "15:30-16:00           0           0           0           0           0  ...   \n",
       "16:00-16:30           0           0           0           0           0  ...   \n",
       "16:30-17:00           0           0           0           0           0  ...   \n",
       "\n",
       "             2023-11-16  2023-11-17  2023-11-18  2023-11-19  2023-11-20  \\\n",
       "Hour                                                                      \n",
       "6:00-6:20             0           2           0           0           0   \n",
       "6:20-6:40             0           0           0           0           0   \n",
       "6:40-7:00             0           0           0           0           0   \n",
       "7:00-7:20             0           0           0           2           1   \n",
       "7:20-7:40             0           6           0           0          15   \n",
       "7:40-8:00             0           0           0           0           1   \n",
       "8:00-8:20             1          20           0           0           0   \n",
       "8:20-8:40            16          21          14           0           0   \n",
       "8:40-9:00            18           0           8           0           0   \n",
       "9:00-9:20             1           8          18          16           0   \n",
       "9:20-9:40             0          12          14           0           0   \n",
       "9:40-10:00            0           6          18           2           0   \n",
       "10:00-10:20          17           2          10           8           0   \n",
       "10:20-10:40           0           2          15           3           0   \n",
       "10:40-11:00           0           0           0           0           0   \n",
       "11:00-11:20           0           0           0           0           0   \n",
       "11:20-11:40           0           6           4           0           0   \n",
       "11:40-12:00           0           0           0           0           0   \n",
       "12:00-12:20           0           0           0           0           0   \n",
       "12:20-12:40           0           0           0           0           0   \n",
       "12:40-13:00           0           0           0           0           0   \n",
       "13:00-13:20           0           0           0           0           0   \n",
       "13:20-13:40           1           4           0           0           0   \n",
       "13:40-14:00           0           0           0           0           0   \n",
       "14:00-14:20           0           0           0           0           0   \n",
       "14:20-14:40           0           0           0           0           0   \n",
       "14:40-15:00           0           0           0           0           0   \n",
       "15:00-15:30           0           0           0           0           0   \n",
       "15:30-16:00           0           0           0           0           0   \n",
       "16:00-16:30           0           0           0           0           0   \n",
       "16:30-17:00           0           0           0           0           0   \n",
       "\n",
       "             2023-11-21  2023-11-22  2023-11-23  2023-11-24  2023-11-25  \n",
       "Hour                                                                     \n",
       "6:00-6:20             0           0           0           0           4  \n",
       "6:20-6:40             0           0           0           0           6  \n",
       "6:40-7:00             0           0           0           0           0  \n",
       "7:00-7:20             0           0           0           0           0  \n",
       "7:20-7:40             0           0           0           0           0  \n",
       "7:40-8:00             0           0           0           0           0  \n",
       "8:00-8:20             0           0           3           7           8  \n",
       "8:20-8:40             0           0           0           7           8  \n",
       "8:40-9:00             0          50           0           0           6  \n",
       "9:00-9:20            12           0           0           0           8  \n",
       "9:20-9:40            18           8           0          14           8  \n",
       "9:40-10:00            0           1           8           0           8  \n",
       "10:00-10:20           0           0          11           0           8  \n",
       "10:20-10:40           0           2           0           0           8  \n",
       "10:40-11:00           0           0           0           6           7  \n",
       "11:00-11:20           1           0           4           3           0  \n",
       "11:20-11:40           2           0           0           8           0  \n",
       "11:40-12:00           0           0           0           3           0  \n",
       "12:00-12:20           1           0           0           4           0  \n",
       "12:20-12:40           0           0           0           0           0  \n",
       "12:40-13:00           0           0           0           0           0  \n",
       "13:00-13:20           2           0           0           0           0  \n",
       "13:20-13:40           0           0           0           0           0  \n",
       "13:40-14:00           0           0           0           2           0  \n",
       "14:00-14:20           0           0           0           0           0  \n",
       "14:20-14:40           0           0           0           0           0  \n",
       "14:40-15:00           0           0           0           0           0  \n",
       "15:00-15:30           0           0           0           0           0  \n",
       "15:30-16:00           0           0           0           0           0  \n",
       "16:00-16:30           0           0           0           0           0  \n",
       "16:30-17:00           0           0           0           0           0  \n",
       "\n",
       "[31 rows x 86 columns]"
      ]
     },
     "execution_count": 80,
     "metadata": {},
     "output_type": "execute_result"
    }
   ],
   "source": [
    "shuttles_hills = pd.read_excel(\n",
    "    r\"C:\\Users\\ioannis.maragkakis\\OneDrive - Accenture\\Desktop\\TEMES-COSTA-NAVARINO\\data\\Golf_Shuttles.xlsx\",\n",
    "    sheet_name = 'Hills'\n",
    ")\n",
    "shuttles_hills = shuttles_hills.set_index('Hour')\n",
    "shuttles_hills"
   ]
  },
  {
   "cell_type": "code",
   "execution_count": 85,
   "id": "fe5d8308",
   "metadata": {},
   "outputs": [],
   "source": [
    "shuttles_hills.columns = [pd.to_datetime(str(c).replace('2023', '2022')) for c in shuttles_hills.columns]"
   ]
  },
  {
   "cell_type": "code",
   "execution_count": 86,
   "id": "b0da5051",
   "metadata": {},
   "outputs": [
    {
     "data": {
      "text/plain": [
       "DatetimeIndex(['2022-09-01', '2022-09-02', '2022-09-03', '2022-09-04',\n",
       "               '2022-09-05', '2022-09-06', '2022-09-07', '2022-09-08',\n",
       "               '2022-09-09', '2022-09-10', '2022-09-11', '2022-09-12',\n",
       "               '2022-09-13', '2022-09-14', '2022-09-15', '2022-09-16',\n",
       "               '2022-09-17', '2022-09-18', '2022-09-19', '2022-09-20',\n",
       "               '2022-09-21', '2022-09-22', '2022-09-23', '2022-09-24',\n",
       "               '2022-09-25', '2022-09-26', '2022-09-27', '2022-09-28',\n",
       "               '2022-09-29', '2022-09-30', '2022-10-01', '2022-10-02',\n",
       "               '2022-10-03', '2022-10-04', '2022-10-05', '2022-10-06',\n",
       "               '2022-10-07', '2022-10-08', '2022-10-09', '2022-10-10',\n",
       "               '2022-10-11', '2022-10-12', '2022-10-13', '2022-10-14',\n",
       "               '2022-10-15', '2022-10-16', '2022-10-17', '2022-10-18',\n",
       "               '2022-10-19', '2022-10-20', '2022-10-21', '2022-10-22',\n",
       "               '2022-10-23', '2022-10-24', '2022-10-25', '2022-10-26',\n",
       "               '2022-10-27', '2022-10-28', '2022-10-29', '2022-10-30',\n",
       "               '2022-10-31', '2022-11-01', '2022-11-02', '2022-11-03',\n",
       "               '2022-11-04', '2022-11-05', '2022-11-06', '2022-11-07',\n",
       "               '2022-11-08', '2022-11-09', '2022-11-10', '2022-11-11',\n",
       "               '2022-11-12', '2022-11-13', '2022-11-14', '2022-11-15',\n",
       "               '2022-11-16', '2022-11-17', '2022-11-18', '2022-11-19',\n",
       "               '2022-11-20', '2022-11-21', '2022-11-22', '2022-11-23',\n",
       "               '2022-11-24', '2022-11-25'],\n",
       "              dtype='datetime64[ns]', freq=None)"
      ]
     },
     "execution_count": 86,
     "metadata": {},
     "output_type": "execute_result"
    }
   ],
   "source": [
    "shuttles_hills.columns"
   ]
  },
  {
   "cell_type": "code",
   "execution_count": 91,
   "id": "a8af2892",
   "metadata": {
    "scrolled": true
   },
   "outputs": [
    {
     "data": {
      "text/html": [
       "<div>\n",
       "<style scoped>\n",
       "    .dataframe tbody tr th:only-of-type {\n",
       "        vertical-align: middle;\n",
       "    }\n",
       "\n",
       "    .dataframe tbody tr th {\n",
       "        vertical-align: top;\n",
       "    }\n",
       "\n",
       "    .dataframe thead th {\n",
       "        text-align: right;\n",
       "    }\n",
       "</style>\n",
       "<table border=\"1\" class=\"dataframe\">\n",
       "  <thead>\n",
       "    <tr style=\"text-align: right;\">\n",
       "      <th></th>\n",
       "      <th>2022-09-01</th>\n",
       "      <th>2022-09-02</th>\n",
       "      <th>2022-09-03</th>\n",
       "      <th>2022-09-04</th>\n",
       "      <th>2022-09-05</th>\n",
       "      <th>2022-09-06</th>\n",
       "      <th>2022-09-07</th>\n",
       "      <th>2022-09-08</th>\n",
       "      <th>2022-09-09</th>\n",
       "      <th>2022-09-10</th>\n",
       "      <th>...</th>\n",
       "      <th>2022-11-16</th>\n",
       "      <th>2022-11-17</th>\n",
       "      <th>2022-11-18</th>\n",
       "      <th>2022-11-19</th>\n",
       "      <th>2022-11-20</th>\n",
       "      <th>2022-11-21</th>\n",
       "      <th>2022-11-22</th>\n",
       "      <th>2022-11-23</th>\n",
       "      <th>2022-11-24</th>\n",
       "      <th>2022-11-25</th>\n",
       "    </tr>\n",
       "    <tr>\n",
       "      <th>Hour</th>\n",
       "      <th></th>\n",
       "      <th></th>\n",
       "      <th></th>\n",
       "      <th></th>\n",
       "      <th></th>\n",
       "      <th></th>\n",
       "      <th></th>\n",
       "      <th></th>\n",
       "      <th></th>\n",
       "      <th></th>\n",
       "      <th></th>\n",
       "      <th></th>\n",
       "      <th></th>\n",
       "      <th></th>\n",
       "      <th></th>\n",
       "      <th></th>\n",
       "      <th></th>\n",
       "      <th></th>\n",
       "      <th></th>\n",
       "      <th></th>\n",
       "      <th></th>\n",
       "    </tr>\n",
       "  </thead>\n",
       "  <tbody>\n",
       "    <tr>\n",
       "      <th>6:00-6:20</th>\n",
       "      <td>0</td>\n",
       "      <td>0</td>\n",
       "      <td>0</td>\n",
       "      <td>0</td>\n",
       "      <td>0</td>\n",
       "      <td>0</td>\n",
       "      <td>0</td>\n",
       "      <td>0</td>\n",
       "      <td>3</td>\n",
       "      <td>0</td>\n",
       "      <td>...</td>\n",
       "      <td>0</td>\n",
       "      <td>2</td>\n",
       "      <td>0</td>\n",
       "      <td>0</td>\n",
       "      <td>0</td>\n",
       "      <td>0</td>\n",
       "      <td>0</td>\n",
       "      <td>0</td>\n",
       "      <td>0</td>\n",
       "      <td>4</td>\n",
       "    </tr>\n",
       "    <tr>\n",
       "      <th>6:20-6:40</th>\n",
       "      <td>0</td>\n",
       "      <td>0</td>\n",
       "      <td>0</td>\n",
       "      <td>0</td>\n",
       "      <td>0</td>\n",
       "      <td>0</td>\n",
       "      <td>0</td>\n",
       "      <td>0</td>\n",
       "      <td>0</td>\n",
       "      <td>0</td>\n",
       "      <td>...</td>\n",
       "      <td>0</td>\n",
       "      <td>0</td>\n",
       "      <td>0</td>\n",
       "      <td>0</td>\n",
       "      <td>0</td>\n",
       "      <td>0</td>\n",
       "      <td>0</td>\n",
       "      <td>0</td>\n",
       "      <td>0</td>\n",
       "      <td>6</td>\n",
       "    </tr>\n",
       "    <tr>\n",
       "      <th>6:40-7:00</th>\n",
       "      <td>0</td>\n",
       "      <td>0</td>\n",
       "      <td>0</td>\n",
       "      <td>0</td>\n",
       "      <td>0</td>\n",
       "      <td>0</td>\n",
       "      <td>0</td>\n",
       "      <td>0</td>\n",
       "      <td>0</td>\n",
       "      <td>0</td>\n",
       "      <td>...</td>\n",
       "      <td>0</td>\n",
       "      <td>0</td>\n",
       "      <td>0</td>\n",
       "      <td>0</td>\n",
       "      <td>0</td>\n",
       "      <td>0</td>\n",
       "      <td>0</td>\n",
       "      <td>0</td>\n",
       "      <td>0</td>\n",
       "      <td>0</td>\n",
       "    </tr>\n",
       "    <tr>\n",
       "      <th>7:00-7:20</th>\n",
       "      <td>0</td>\n",
       "      <td>0</td>\n",
       "      <td>0</td>\n",
       "      <td>0</td>\n",
       "      <td>0</td>\n",
       "      <td>0</td>\n",
       "      <td>5</td>\n",
       "      <td>0</td>\n",
       "      <td>0</td>\n",
       "      <td>0</td>\n",
       "      <td>...</td>\n",
       "      <td>0</td>\n",
       "      <td>0</td>\n",
       "      <td>0</td>\n",
       "      <td>2</td>\n",
       "      <td>1</td>\n",
       "      <td>0</td>\n",
       "      <td>0</td>\n",
       "      <td>0</td>\n",
       "      <td>0</td>\n",
       "      <td>0</td>\n",
       "    </tr>\n",
       "    <tr>\n",
       "      <th>7:20-7:40</th>\n",
       "      <td>4</td>\n",
       "      <td>3</td>\n",
       "      <td>6</td>\n",
       "      <td>2</td>\n",
       "      <td>0</td>\n",
       "      <td>6</td>\n",
       "      <td>5</td>\n",
       "      <td>7</td>\n",
       "      <td>1</td>\n",
       "      <td>4</td>\n",
       "      <td>...</td>\n",
       "      <td>0</td>\n",
       "      <td>6</td>\n",
       "      <td>0</td>\n",
       "      <td>0</td>\n",
       "      <td>15</td>\n",
       "      <td>0</td>\n",
       "      <td>0</td>\n",
       "      <td>0</td>\n",
       "      <td>0</td>\n",
       "      <td>0</td>\n",
       "    </tr>\n",
       "    <tr>\n",
       "      <th>7:40-8:00</th>\n",
       "      <td>2</td>\n",
       "      <td>0</td>\n",
       "      <td>2</td>\n",
       "      <td>0</td>\n",
       "      <td>0</td>\n",
       "      <td>0</td>\n",
       "      <td>0</td>\n",
       "      <td>0</td>\n",
       "      <td>0</td>\n",
       "      <td>0</td>\n",
       "      <td>...</td>\n",
       "      <td>0</td>\n",
       "      <td>0</td>\n",
       "      <td>0</td>\n",
       "      <td>0</td>\n",
       "      <td>1</td>\n",
       "      <td>0</td>\n",
       "      <td>0</td>\n",
       "      <td>0</td>\n",
       "      <td>0</td>\n",
       "      <td>0</td>\n",
       "    </tr>\n",
       "    <tr>\n",
       "      <th>8:00-8:20</th>\n",
       "      <td>0</td>\n",
       "      <td>7</td>\n",
       "      <td>0</td>\n",
       "      <td>0</td>\n",
       "      <td>2</td>\n",
       "      <td>5</td>\n",
       "      <td>3</td>\n",
       "      <td>8</td>\n",
       "      <td>6</td>\n",
       "      <td>3</td>\n",
       "      <td>...</td>\n",
       "      <td>1</td>\n",
       "      <td>20</td>\n",
       "      <td>0</td>\n",
       "      <td>0</td>\n",
       "      <td>0</td>\n",
       "      <td>0</td>\n",
       "      <td>0</td>\n",
       "      <td>3</td>\n",
       "      <td>7</td>\n",
       "      <td>8</td>\n",
       "    </tr>\n",
       "    <tr>\n",
       "      <th>8:20-8:40</th>\n",
       "      <td>0</td>\n",
       "      <td>2</td>\n",
       "      <td>8</td>\n",
       "      <td>4</td>\n",
       "      <td>3</td>\n",
       "      <td>9</td>\n",
       "      <td>7</td>\n",
       "      <td>0</td>\n",
       "      <td>9</td>\n",
       "      <td>8</td>\n",
       "      <td>...</td>\n",
       "      <td>16</td>\n",
       "      <td>21</td>\n",
       "      <td>14</td>\n",
       "      <td>0</td>\n",
       "      <td>0</td>\n",
       "      <td>0</td>\n",
       "      <td>0</td>\n",
       "      <td>0</td>\n",
       "      <td>7</td>\n",
       "      <td>8</td>\n",
       "    </tr>\n",
       "    <tr>\n",
       "      <th>8:40-9:00</th>\n",
       "      <td>0</td>\n",
       "      <td>2</td>\n",
       "      <td>0</td>\n",
       "      <td>0</td>\n",
       "      <td>0</td>\n",
       "      <td>0</td>\n",
       "      <td>0</td>\n",
       "      <td>0</td>\n",
       "      <td>0</td>\n",
       "      <td>0</td>\n",
       "      <td>...</td>\n",
       "      <td>18</td>\n",
       "      <td>0</td>\n",
       "      <td>8</td>\n",
       "      <td>0</td>\n",
       "      <td>0</td>\n",
       "      <td>0</td>\n",
       "      <td>50</td>\n",
       "      <td>0</td>\n",
       "      <td>0</td>\n",
       "      <td>6</td>\n",
       "    </tr>\n",
       "    <tr>\n",
       "      <th>9:00-9:20</th>\n",
       "      <td>3</td>\n",
       "      <td>2</td>\n",
       "      <td>8</td>\n",
       "      <td>3</td>\n",
       "      <td>8</td>\n",
       "      <td>11</td>\n",
       "      <td>8</td>\n",
       "      <td>2</td>\n",
       "      <td>6</td>\n",
       "      <td>2</td>\n",
       "      <td>...</td>\n",
       "      <td>1</td>\n",
       "      <td>8</td>\n",
       "      <td>18</td>\n",
       "      <td>16</td>\n",
       "      <td>0</td>\n",
       "      <td>12</td>\n",
       "      <td>0</td>\n",
       "      <td>0</td>\n",
       "      <td>0</td>\n",
       "      <td>8</td>\n",
       "    </tr>\n",
       "    <tr>\n",
       "      <th>9:20-9:40</th>\n",
       "      <td>0</td>\n",
       "      <td>2</td>\n",
       "      <td>0</td>\n",
       "      <td>0</td>\n",
       "      <td>0</td>\n",
       "      <td>10</td>\n",
       "      <td>14</td>\n",
       "      <td>12</td>\n",
       "      <td>10</td>\n",
       "      <td>4</td>\n",
       "      <td>...</td>\n",
       "      <td>0</td>\n",
       "      <td>12</td>\n",
       "      <td>14</td>\n",
       "      <td>0</td>\n",
       "      <td>0</td>\n",
       "      <td>18</td>\n",
       "      <td>8</td>\n",
       "      <td>0</td>\n",
       "      <td>14</td>\n",
       "      <td>8</td>\n",
       "    </tr>\n",
       "    <tr>\n",
       "      <th>9:40-10:00</th>\n",
       "      <td>0</td>\n",
       "      <td>0</td>\n",
       "      <td>0</td>\n",
       "      <td>2</td>\n",
       "      <td>0</td>\n",
       "      <td>0</td>\n",
       "      <td>0</td>\n",
       "      <td>0</td>\n",
       "      <td>0</td>\n",
       "      <td>0</td>\n",
       "      <td>...</td>\n",
       "      <td>0</td>\n",
       "      <td>6</td>\n",
       "      <td>18</td>\n",
       "      <td>2</td>\n",
       "      <td>0</td>\n",
       "      <td>0</td>\n",
       "      <td>1</td>\n",
       "      <td>8</td>\n",
       "      <td>0</td>\n",
       "      <td>8</td>\n",
       "    </tr>\n",
       "    <tr>\n",
       "      <th>10:00-10:20</th>\n",
       "      <td>2</td>\n",
       "      <td>0</td>\n",
       "      <td>0</td>\n",
       "      <td>15</td>\n",
       "      <td>6</td>\n",
       "      <td>3</td>\n",
       "      <td>20</td>\n",
       "      <td>14</td>\n",
       "      <td>10</td>\n",
       "      <td>0</td>\n",
       "      <td>...</td>\n",
       "      <td>17</td>\n",
       "      <td>2</td>\n",
       "      <td>10</td>\n",
       "      <td>8</td>\n",
       "      <td>0</td>\n",
       "      <td>0</td>\n",
       "      <td>0</td>\n",
       "      <td>11</td>\n",
       "      <td>0</td>\n",
       "      <td>8</td>\n",
       "    </tr>\n",
       "    <tr>\n",
       "      <th>10:20-10:40</th>\n",
       "      <td>4</td>\n",
       "      <td>2</td>\n",
       "      <td>2</td>\n",
       "      <td>0</td>\n",
       "      <td>4</td>\n",
       "      <td>11</td>\n",
       "      <td>6</td>\n",
       "      <td>0</td>\n",
       "      <td>0</td>\n",
       "      <td>8</td>\n",
       "      <td>...</td>\n",
       "      <td>0</td>\n",
       "      <td>2</td>\n",
       "      <td>15</td>\n",
       "      <td>3</td>\n",
       "      <td>0</td>\n",
       "      <td>0</td>\n",
       "      <td>2</td>\n",
       "      <td>0</td>\n",
       "      <td>0</td>\n",
       "      <td>8</td>\n",
       "    </tr>\n",
       "    <tr>\n",
       "      <th>10:40-11:00</th>\n",
       "      <td>0</td>\n",
       "      <td>0</td>\n",
       "      <td>0</td>\n",
       "      <td>0</td>\n",
       "      <td>0</td>\n",
       "      <td>0</td>\n",
       "      <td>0</td>\n",
       "      <td>0</td>\n",
       "      <td>0</td>\n",
       "      <td>0</td>\n",
       "      <td>...</td>\n",
       "      <td>0</td>\n",
       "      <td>0</td>\n",
       "      <td>0</td>\n",
       "      <td>0</td>\n",
       "      <td>0</td>\n",
       "      <td>0</td>\n",
       "      <td>0</td>\n",
       "      <td>0</td>\n",
       "      <td>6</td>\n",
       "      <td>7</td>\n",
       "    </tr>\n",
       "    <tr>\n",
       "      <th>11:00-11:20</th>\n",
       "      <td>0</td>\n",
       "      <td>0</td>\n",
       "      <td>0</td>\n",
       "      <td>3</td>\n",
       "      <td>0</td>\n",
       "      <td>2</td>\n",
       "      <td>0</td>\n",
       "      <td>1</td>\n",
       "      <td>2</td>\n",
       "      <td>0</td>\n",
       "      <td>...</td>\n",
       "      <td>0</td>\n",
       "      <td>0</td>\n",
       "      <td>0</td>\n",
       "      <td>0</td>\n",
       "      <td>0</td>\n",
       "      <td>1</td>\n",
       "      <td>0</td>\n",
       "      <td>4</td>\n",
       "      <td>3</td>\n",
       "      <td>0</td>\n",
       "    </tr>\n",
       "    <tr>\n",
       "      <th>11:20-11:40</th>\n",
       "      <td>0</td>\n",
       "      <td>2</td>\n",
       "      <td>0</td>\n",
       "      <td>0</td>\n",
       "      <td>0</td>\n",
       "      <td>0</td>\n",
       "      <td>0</td>\n",
       "      <td>0</td>\n",
       "      <td>2</td>\n",
       "      <td>0</td>\n",
       "      <td>...</td>\n",
       "      <td>0</td>\n",
       "      <td>6</td>\n",
       "      <td>4</td>\n",
       "      <td>0</td>\n",
       "      <td>0</td>\n",
       "      <td>2</td>\n",
       "      <td>0</td>\n",
       "      <td>0</td>\n",
       "      <td>8</td>\n",
       "      <td>0</td>\n",
       "    </tr>\n",
       "    <tr>\n",
       "      <th>11:40-12:00</th>\n",
       "      <td>0</td>\n",
       "      <td>0</td>\n",
       "      <td>0</td>\n",
       "      <td>0</td>\n",
       "      <td>0</td>\n",
       "      <td>0</td>\n",
       "      <td>0</td>\n",
       "      <td>0</td>\n",
       "      <td>0</td>\n",
       "      <td>0</td>\n",
       "      <td>...</td>\n",
       "      <td>0</td>\n",
       "      <td>0</td>\n",
       "      <td>0</td>\n",
       "      <td>0</td>\n",
       "      <td>0</td>\n",
       "      <td>0</td>\n",
       "      <td>0</td>\n",
       "      <td>0</td>\n",
       "      <td>3</td>\n",
       "      <td>0</td>\n",
       "    </tr>\n",
       "    <tr>\n",
       "      <th>12:00-12:20</th>\n",
       "      <td>2</td>\n",
       "      <td>0</td>\n",
       "      <td>6</td>\n",
       "      <td>0</td>\n",
       "      <td>0</td>\n",
       "      <td>2</td>\n",
       "      <td>2</td>\n",
       "      <td>2</td>\n",
       "      <td>0</td>\n",
       "      <td>0</td>\n",
       "      <td>...</td>\n",
       "      <td>0</td>\n",
       "      <td>0</td>\n",
       "      <td>0</td>\n",
       "      <td>0</td>\n",
       "      <td>0</td>\n",
       "      <td>1</td>\n",
       "      <td>0</td>\n",
       "      <td>0</td>\n",
       "      <td>4</td>\n",
       "      <td>0</td>\n",
       "    </tr>\n",
       "    <tr>\n",
       "      <th>12:20-12:40</th>\n",
       "      <td>0</td>\n",
       "      <td>0</td>\n",
       "      <td>0</td>\n",
       "      <td>0</td>\n",
       "      <td>0</td>\n",
       "      <td>4</td>\n",
       "      <td>0</td>\n",
       "      <td>0</td>\n",
       "      <td>0</td>\n",
       "      <td>0</td>\n",
       "      <td>...</td>\n",
       "      <td>0</td>\n",
       "      <td>0</td>\n",
       "      <td>0</td>\n",
       "      <td>0</td>\n",
       "      <td>0</td>\n",
       "      <td>0</td>\n",
       "      <td>0</td>\n",
       "      <td>0</td>\n",
       "      <td>0</td>\n",
       "      <td>0</td>\n",
       "    </tr>\n",
       "    <tr>\n",
       "      <th>12:40-13:00</th>\n",
       "      <td>0</td>\n",
       "      <td>0</td>\n",
       "      <td>0</td>\n",
       "      <td>0</td>\n",
       "      <td>0</td>\n",
       "      <td>0</td>\n",
       "      <td>0</td>\n",
       "      <td>0</td>\n",
       "      <td>0</td>\n",
       "      <td>0</td>\n",
       "      <td>...</td>\n",
       "      <td>0</td>\n",
       "      <td>0</td>\n",
       "      <td>0</td>\n",
       "      <td>0</td>\n",
       "      <td>0</td>\n",
       "      <td>0</td>\n",
       "      <td>0</td>\n",
       "      <td>0</td>\n",
       "      <td>0</td>\n",
       "      <td>0</td>\n",
       "    </tr>\n",
       "    <tr>\n",
       "      <th>13:00-13:20</th>\n",
       "      <td>0</td>\n",
       "      <td>0</td>\n",
       "      <td>0</td>\n",
       "      <td>2</td>\n",
       "      <td>0</td>\n",
       "      <td>2</td>\n",
       "      <td>0</td>\n",
       "      <td>0</td>\n",
       "      <td>0</td>\n",
       "      <td>0</td>\n",
       "      <td>...</td>\n",
       "      <td>0</td>\n",
       "      <td>0</td>\n",
       "      <td>0</td>\n",
       "      <td>0</td>\n",
       "      <td>0</td>\n",
       "      <td>2</td>\n",
       "      <td>0</td>\n",
       "      <td>0</td>\n",
       "      <td>0</td>\n",
       "      <td>0</td>\n",
       "    </tr>\n",
       "    <tr>\n",
       "      <th>13:20-13:40</th>\n",
       "      <td>2</td>\n",
       "      <td>0</td>\n",
       "      <td>0</td>\n",
       "      <td>0</td>\n",
       "      <td>0</td>\n",
       "      <td>2</td>\n",
       "      <td>2</td>\n",
       "      <td>0</td>\n",
       "      <td>0</td>\n",
       "      <td>0</td>\n",
       "      <td>...</td>\n",
       "      <td>1</td>\n",
       "      <td>4</td>\n",
       "      <td>0</td>\n",
       "      <td>0</td>\n",
       "      <td>0</td>\n",
       "      <td>0</td>\n",
       "      <td>0</td>\n",
       "      <td>0</td>\n",
       "      <td>0</td>\n",
       "      <td>0</td>\n",
       "    </tr>\n",
       "    <tr>\n",
       "      <th>13:40-14:00</th>\n",
       "      <td>0</td>\n",
       "      <td>0</td>\n",
       "      <td>0</td>\n",
       "      <td>0</td>\n",
       "      <td>0</td>\n",
       "      <td>0</td>\n",
       "      <td>0</td>\n",
       "      <td>0</td>\n",
       "      <td>0</td>\n",
       "      <td>0</td>\n",
       "      <td>...</td>\n",
       "      <td>0</td>\n",
       "      <td>0</td>\n",
       "      <td>0</td>\n",
       "      <td>0</td>\n",
       "      <td>0</td>\n",
       "      <td>0</td>\n",
       "      <td>0</td>\n",
       "      <td>0</td>\n",
       "      <td>2</td>\n",
       "      <td>0</td>\n",
       "    </tr>\n",
       "    <tr>\n",
       "      <th>14:00-14:20</th>\n",
       "      <td>0</td>\n",
       "      <td>0</td>\n",
       "      <td>0</td>\n",
       "      <td>0</td>\n",
       "      <td>2</td>\n",
       "      <td>0</td>\n",
       "      <td>0</td>\n",
       "      <td>0</td>\n",
       "      <td>0</td>\n",
       "      <td>0</td>\n",
       "      <td>...</td>\n",
       "      <td>0</td>\n",
       "      <td>0</td>\n",
       "      <td>0</td>\n",
       "      <td>0</td>\n",
       "      <td>0</td>\n",
       "      <td>0</td>\n",
       "      <td>0</td>\n",
       "      <td>0</td>\n",
       "      <td>0</td>\n",
       "      <td>0</td>\n",
       "    </tr>\n",
       "    <tr>\n",
       "      <th>14:20-14:40</th>\n",
       "      <td>1</td>\n",
       "      <td>2</td>\n",
       "      <td>0</td>\n",
       "      <td>0</td>\n",
       "      <td>0</td>\n",
       "      <td>0</td>\n",
       "      <td>0</td>\n",
       "      <td>6</td>\n",
       "      <td>2</td>\n",
       "      <td>0</td>\n",
       "      <td>...</td>\n",
       "      <td>0</td>\n",
       "      <td>0</td>\n",
       "      <td>0</td>\n",
       "      <td>0</td>\n",
       "      <td>0</td>\n",
       "      <td>0</td>\n",
       "      <td>0</td>\n",
       "      <td>0</td>\n",
       "      <td>0</td>\n",
       "      <td>0</td>\n",
       "    </tr>\n",
       "    <tr>\n",
       "      <th>14:40-15:00</th>\n",
       "      <td>0</td>\n",
       "      <td>0</td>\n",
       "      <td>0</td>\n",
       "      <td>0</td>\n",
       "      <td>2</td>\n",
       "      <td>0</td>\n",
       "      <td>0</td>\n",
       "      <td>0</td>\n",
       "      <td>0</td>\n",
       "      <td>0</td>\n",
       "      <td>...</td>\n",
       "      <td>0</td>\n",
       "      <td>0</td>\n",
       "      <td>0</td>\n",
       "      <td>0</td>\n",
       "      <td>0</td>\n",
       "      <td>0</td>\n",
       "      <td>0</td>\n",
       "      <td>0</td>\n",
       "      <td>0</td>\n",
       "      <td>0</td>\n",
       "    </tr>\n",
       "    <tr>\n",
       "      <th>15:00-15:30</th>\n",
       "      <td>0</td>\n",
       "      <td>2</td>\n",
       "      <td>0</td>\n",
       "      <td>4</td>\n",
       "      <td>2</td>\n",
       "      <td>2</td>\n",
       "      <td>3</td>\n",
       "      <td>0</td>\n",
       "      <td>0</td>\n",
       "      <td>0</td>\n",
       "      <td>...</td>\n",
       "      <td>0</td>\n",
       "      <td>0</td>\n",
       "      <td>0</td>\n",
       "      <td>0</td>\n",
       "      <td>0</td>\n",
       "      <td>0</td>\n",
       "      <td>0</td>\n",
       "      <td>0</td>\n",
       "      <td>0</td>\n",
       "      <td>0</td>\n",
       "    </tr>\n",
       "    <tr>\n",
       "      <th>15:30-16:00</th>\n",
       "      <td>1</td>\n",
       "      <td>0</td>\n",
       "      <td>0</td>\n",
       "      <td>0</td>\n",
       "      <td>0</td>\n",
       "      <td>0</td>\n",
       "      <td>0</td>\n",
       "      <td>0</td>\n",
       "      <td>0</td>\n",
       "      <td>0</td>\n",
       "      <td>...</td>\n",
       "      <td>0</td>\n",
       "      <td>0</td>\n",
       "      <td>0</td>\n",
       "      <td>0</td>\n",
       "      <td>0</td>\n",
       "      <td>0</td>\n",
       "      <td>0</td>\n",
       "      <td>0</td>\n",
       "      <td>0</td>\n",
       "      <td>0</td>\n",
       "    </tr>\n",
       "    <tr>\n",
       "      <th>16:00-16:30</th>\n",
       "      <td>0</td>\n",
       "      <td>0</td>\n",
       "      <td>0</td>\n",
       "      <td>0</td>\n",
       "      <td>0</td>\n",
       "      <td>0</td>\n",
       "      <td>0</td>\n",
       "      <td>0</td>\n",
       "      <td>0</td>\n",
       "      <td>0</td>\n",
       "      <td>...</td>\n",
       "      <td>0</td>\n",
       "      <td>0</td>\n",
       "      <td>0</td>\n",
       "      <td>0</td>\n",
       "      <td>0</td>\n",
       "      <td>0</td>\n",
       "      <td>0</td>\n",
       "      <td>0</td>\n",
       "      <td>0</td>\n",
       "      <td>0</td>\n",
       "    </tr>\n",
       "    <tr>\n",
       "      <th>16:30-17:00</th>\n",
       "      <td>0</td>\n",
       "      <td>0</td>\n",
       "      <td>0</td>\n",
       "      <td>0</td>\n",
       "      <td>0</td>\n",
       "      <td>0</td>\n",
       "      <td>0</td>\n",
       "      <td>0</td>\n",
       "      <td>0</td>\n",
       "      <td>0</td>\n",
       "      <td>...</td>\n",
       "      <td>0</td>\n",
       "      <td>0</td>\n",
       "      <td>0</td>\n",
       "      <td>0</td>\n",
       "      <td>0</td>\n",
       "      <td>0</td>\n",
       "      <td>0</td>\n",
       "      <td>0</td>\n",
       "      <td>0</td>\n",
       "      <td>0</td>\n",
       "    </tr>\n",
       "  </tbody>\n",
       "</table>\n",
       "<p>31 rows × 86 columns</p>\n",
       "</div>"
      ],
      "text/plain": [
       "             2022-09-01  2022-09-02  2022-09-03  2022-09-04  2022-09-05  \\\n",
       "Hour                                                                      \n",
       "6:00-6:20             0           0           0           0           0   \n",
       "6:20-6:40             0           0           0           0           0   \n",
       "6:40-7:00             0           0           0           0           0   \n",
       "7:00-7:20             0           0           0           0           0   \n",
       "7:20-7:40             4           3           6           2           0   \n",
       "7:40-8:00             2           0           2           0           0   \n",
       "8:00-8:20             0           7           0           0           2   \n",
       "8:20-8:40             0           2           8           4           3   \n",
       "8:40-9:00             0           2           0           0           0   \n",
       "9:00-9:20             3           2           8           3           8   \n",
       "9:20-9:40             0           2           0           0           0   \n",
       "9:40-10:00            0           0           0           2           0   \n",
       "10:00-10:20           2           0           0          15           6   \n",
       "10:20-10:40           4           2           2           0           4   \n",
       "10:40-11:00           0           0           0           0           0   \n",
       "11:00-11:20           0           0           0           3           0   \n",
       "11:20-11:40           0           2           0           0           0   \n",
       "11:40-12:00           0           0           0           0           0   \n",
       "12:00-12:20           2           0           6           0           0   \n",
       "12:20-12:40           0           0           0           0           0   \n",
       "12:40-13:00           0           0           0           0           0   \n",
       "13:00-13:20           0           0           0           2           0   \n",
       "13:20-13:40           2           0           0           0           0   \n",
       "13:40-14:00           0           0           0           0           0   \n",
       "14:00-14:20           0           0           0           0           2   \n",
       "14:20-14:40           1           2           0           0           0   \n",
       "14:40-15:00           0           0           0           0           2   \n",
       "15:00-15:30           0           2           0           4           2   \n",
       "15:30-16:00           1           0           0           0           0   \n",
       "16:00-16:30           0           0           0           0           0   \n",
       "16:30-17:00           0           0           0           0           0   \n",
       "\n",
       "             2022-09-06  2022-09-07  2022-09-08  2022-09-09  2022-09-10  ...  \\\n",
       "Hour                                                                     ...   \n",
       "6:00-6:20             0           0           0           3           0  ...   \n",
       "6:20-6:40             0           0           0           0           0  ...   \n",
       "6:40-7:00             0           0           0           0           0  ...   \n",
       "7:00-7:20             0           5           0           0           0  ...   \n",
       "7:20-7:40             6           5           7           1           4  ...   \n",
       "7:40-8:00             0           0           0           0           0  ...   \n",
       "8:00-8:20             5           3           8           6           3  ...   \n",
       "8:20-8:40             9           7           0           9           8  ...   \n",
       "8:40-9:00             0           0           0           0           0  ...   \n",
       "9:00-9:20            11           8           2           6           2  ...   \n",
       "9:20-9:40            10          14          12          10           4  ...   \n",
       "9:40-10:00            0           0           0           0           0  ...   \n",
       "10:00-10:20           3          20          14          10           0  ...   \n",
       "10:20-10:40          11           6           0           0           8  ...   \n",
       "10:40-11:00           0           0           0           0           0  ...   \n",
       "11:00-11:20           2           0           1           2           0  ...   \n",
       "11:20-11:40           0           0           0           2           0  ...   \n",
       "11:40-12:00           0           0           0           0           0  ...   \n",
       "12:00-12:20           2           2           2           0           0  ...   \n",
       "12:20-12:40           4           0           0           0           0  ...   \n",
       "12:40-13:00           0           0           0           0           0  ...   \n",
       "13:00-13:20           2           0           0           0           0  ...   \n",
       "13:20-13:40           2           2           0           0           0  ...   \n",
       "13:40-14:00           0           0           0           0           0  ...   \n",
       "14:00-14:20           0           0           0           0           0  ...   \n",
       "14:20-14:40           0           0           6           2           0  ...   \n",
       "14:40-15:00           0           0           0           0           0  ...   \n",
       "15:00-15:30           2           3           0           0           0  ...   \n",
       "15:30-16:00           0           0           0           0           0  ...   \n",
       "16:00-16:30           0           0           0           0           0  ...   \n",
       "16:30-17:00           0           0           0           0           0  ...   \n",
       "\n",
       "             2022-11-16  2022-11-17  2022-11-18  2022-11-19  2022-11-20  \\\n",
       "Hour                                                                      \n",
       "6:00-6:20             0           2           0           0           0   \n",
       "6:20-6:40             0           0           0           0           0   \n",
       "6:40-7:00             0           0           0           0           0   \n",
       "7:00-7:20             0           0           0           2           1   \n",
       "7:20-7:40             0           6           0           0          15   \n",
       "7:40-8:00             0           0           0           0           1   \n",
       "8:00-8:20             1          20           0           0           0   \n",
       "8:20-8:40            16          21          14           0           0   \n",
       "8:40-9:00            18           0           8           0           0   \n",
       "9:00-9:20             1           8          18          16           0   \n",
       "9:20-9:40             0          12          14           0           0   \n",
       "9:40-10:00            0           6          18           2           0   \n",
       "10:00-10:20          17           2          10           8           0   \n",
       "10:20-10:40           0           2          15           3           0   \n",
       "10:40-11:00           0           0           0           0           0   \n",
       "11:00-11:20           0           0           0           0           0   \n",
       "11:20-11:40           0           6           4           0           0   \n",
       "11:40-12:00           0           0           0           0           0   \n",
       "12:00-12:20           0           0           0           0           0   \n",
       "12:20-12:40           0           0           0           0           0   \n",
       "12:40-13:00           0           0           0           0           0   \n",
       "13:00-13:20           0           0           0           0           0   \n",
       "13:20-13:40           1           4           0           0           0   \n",
       "13:40-14:00           0           0           0           0           0   \n",
       "14:00-14:20           0           0           0           0           0   \n",
       "14:20-14:40           0           0           0           0           0   \n",
       "14:40-15:00           0           0           0           0           0   \n",
       "15:00-15:30           0           0           0           0           0   \n",
       "15:30-16:00           0           0           0           0           0   \n",
       "16:00-16:30           0           0           0           0           0   \n",
       "16:30-17:00           0           0           0           0           0   \n",
       "\n",
       "             2022-11-21  2022-11-22  2022-11-23  2022-11-24  2022-11-25  \n",
       "Hour                                                                     \n",
       "6:00-6:20             0           0           0           0           4  \n",
       "6:20-6:40             0           0           0           0           6  \n",
       "6:40-7:00             0           0           0           0           0  \n",
       "7:00-7:20             0           0           0           0           0  \n",
       "7:20-7:40             0           0           0           0           0  \n",
       "7:40-8:00             0           0           0           0           0  \n",
       "8:00-8:20             0           0           3           7           8  \n",
       "8:20-8:40             0           0           0           7           8  \n",
       "8:40-9:00             0          50           0           0           6  \n",
       "9:00-9:20            12           0           0           0           8  \n",
       "9:20-9:40            18           8           0          14           8  \n",
       "9:40-10:00            0           1           8           0           8  \n",
       "10:00-10:20           0           0          11           0           8  \n",
       "10:20-10:40           0           2           0           0           8  \n",
       "10:40-11:00           0           0           0           6           7  \n",
       "11:00-11:20           1           0           4           3           0  \n",
       "11:20-11:40           2           0           0           8           0  \n",
       "11:40-12:00           0           0           0           3           0  \n",
       "12:00-12:20           1           0           0           4           0  \n",
       "12:20-12:40           0           0           0           0           0  \n",
       "12:40-13:00           0           0           0           0           0  \n",
       "13:00-13:20           2           0           0           0           0  \n",
       "13:20-13:40           0           0           0           0           0  \n",
       "13:40-14:00           0           0           0           2           0  \n",
       "14:00-14:20           0           0           0           0           0  \n",
       "14:20-14:40           0           0           0           0           0  \n",
       "14:40-15:00           0           0           0           0           0  \n",
       "15:00-15:30           0           0           0           0           0  \n",
       "15:30-16:00           0           0           0           0           0  \n",
       "16:00-16:30           0           0           0           0           0  \n",
       "16:30-17:00           0           0           0           0           0  \n",
       "\n",
       "[31 rows x 86 columns]"
      ]
     },
     "execution_count": 91,
     "metadata": {},
     "output_type": "execute_result"
    }
   ],
   "source": [
    "shuttles_hills"
   ]
  },
  {
   "cell_type": "code",
   "execution_count": 98,
   "id": "62b47da1",
   "metadata": {},
   "outputs": [
    {
     "data": {
      "text/html": [
       "<div>\n",
       "<style scoped>\n",
       "    .dataframe tbody tr th:only-of-type {\n",
       "        vertical-align: middle;\n",
       "    }\n",
       "\n",
       "    .dataframe tbody tr th {\n",
       "        vertical-align: top;\n",
       "    }\n",
       "\n",
       "    .dataframe thead th {\n",
       "        text-align: right;\n",
       "    }\n",
       "</style>\n",
       "<table border=\"1\" class=\"dataframe\">\n",
       "  <thead>\n",
       "    <tr style=\"text-align: right;\">\n",
       "      <th></th>\n",
       "      <th>Hour</th>\n",
       "      <th>date</th>\n",
       "      <th>number_of_people</th>\n",
       "    </tr>\n",
       "  </thead>\n",
       "  <tbody>\n",
       "    <tr>\n",
       "      <th>0</th>\n",
       "      <td>6:00-6:20</td>\n",
       "      <td>2022-09-01</td>\n",
       "      <td>0</td>\n",
       "    </tr>\n",
       "    <tr>\n",
       "      <th>1</th>\n",
       "      <td>6:00-6:20</td>\n",
       "      <td>2022-09-02</td>\n",
       "      <td>0</td>\n",
       "    </tr>\n",
       "    <tr>\n",
       "      <th>2</th>\n",
       "      <td>6:00-6:20</td>\n",
       "      <td>2022-09-03</td>\n",
       "      <td>0</td>\n",
       "    </tr>\n",
       "    <tr>\n",
       "      <th>3</th>\n",
       "      <td>6:00-6:20</td>\n",
       "      <td>2022-09-04</td>\n",
       "      <td>0</td>\n",
       "    </tr>\n",
       "    <tr>\n",
       "      <th>4</th>\n",
       "      <td>6:00-6:20</td>\n",
       "      <td>2022-09-05</td>\n",
       "      <td>0</td>\n",
       "    </tr>\n",
       "    <tr>\n",
       "      <th>...</th>\n",
       "      <td>...</td>\n",
       "      <td>...</td>\n",
       "      <td>...</td>\n",
       "    </tr>\n",
       "    <tr>\n",
       "      <th>2661</th>\n",
       "      <td>16:30-17:00</td>\n",
       "      <td>2022-11-21</td>\n",
       "      <td>0</td>\n",
       "    </tr>\n",
       "    <tr>\n",
       "      <th>2662</th>\n",
       "      <td>16:30-17:00</td>\n",
       "      <td>2022-11-22</td>\n",
       "      <td>0</td>\n",
       "    </tr>\n",
       "    <tr>\n",
       "      <th>2663</th>\n",
       "      <td>16:30-17:00</td>\n",
       "      <td>2022-11-23</td>\n",
       "      <td>0</td>\n",
       "    </tr>\n",
       "    <tr>\n",
       "      <th>2664</th>\n",
       "      <td>16:30-17:00</td>\n",
       "      <td>2022-11-24</td>\n",
       "      <td>0</td>\n",
       "    </tr>\n",
       "    <tr>\n",
       "      <th>2665</th>\n",
       "      <td>16:30-17:00</td>\n",
       "      <td>2022-11-25</td>\n",
       "      <td>0</td>\n",
       "    </tr>\n",
       "  </tbody>\n",
       "</table>\n",
       "<p>2666 rows × 3 columns</p>\n",
       "</div>"
      ],
      "text/plain": [
       "             Hour       date  number_of_people\n",
       "0       6:00-6:20 2022-09-01                 0\n",
       "1       6:00-6:20 2022-09-02                 0\n",
       "2       6:00-6:20 2022-09-03                 0\n",
       "3       6:00-6:20 2022-09-04                 0\n",
       "4       6:00-6:20 2022-09-05                 0\n",
       "...           ...        ...               ...\n",
       "2661  16:30-17:00 2022-11-21                 0\n",
       "2662  16:30-17:00 2022-11-22                 0\n",
       "2663  16:30-17:00 2022-11-23                 0\n",
       "2664  16:30-17:00 2022-11-24                 0\n",
       "2665  16:30-17:00 2022-11-25                 0\n",
       "\n",
       "[2666 rows x 3 columns]"
      ]
     },
     "execution_count": 98,
     "metadata": {},
     "output_type": "execute_result"
    }
   ],
   "source": [
    "shuttles_hills_stacked = shuttles_hills.stack().reset_index()\n",
    "shuttles_hills_stacked = shuttles_hills_stacked.rename(columns={'level_1': 'date', 0: 'number_of_people'})\n",
    "shuttles_hills_stacked"
   ]
  },
  {
   "cell_type": "code",
   "execution_count": 99,
   "id": "ecac015a",
   "metadata": {},
   "outputs": [
    {
     "data": {
      "text/plain": [
       "Hour\n",
       "10:00-10:20     829\n",
       "10:20-10:40     614\n",
       "10:40-11:00     451\n",
       "11:00-11:20     341\n",
       "11:20-11:40     334\n",
       "11:40-12:00     181\n",
       "12:00-12:20     203\n",
       "12:20-12:40      94\n",
       "12:40-13:00      38\n",
       "13:00-13:20      99\n",
       "13:20-13:40      95\n",
       "13:40-14:00      39\n",
       "14:00-14:20      29\n",
       "14:20-14:40      57\n",
       "14:40-15:00      51\n",
       "15:00-15:30      57\n",
       "15:30-16:00      16\n",
       "16:00-16:30       0\n",
       "16:30-17:00       1\n",
       "6:00-6:20        79\n",
       "6:20-6:40        46\n",
       "6:40-7:00        24\n",
       "7:00-7:20        66\n",
       "7:20-7:40       361\n",
       "7:40-8:00       624\n",
       "8:00-8:20       996\n",
       "8:20-8:40      1028\n",
       "8:40-9:00       956\n",
       "9:00-9:20      1046\n",
       "9:20-9:40       850\n",
       "9:40-10:00      719\n",
       "Name: number_of_people, dtype: int64"
      ]
     },
     "execution_count": 99,
     "metadata": {},
     "output_type": "execute_result"
    }
   ],
   "source": [
    "# sum of people in every hour for all days\n",
    "group_by_hour = shuttles_hills_stacked.groupby('Hour')['number_of_people'].sum()\n",
    "group_by_hour"
   ]
  },
  {
   "cell_type": "code",
   "execution_count": 104,
   "id": "2246a1d5",
   "metadata": {},
   "outputs": [
    {
     "data": {
      "application/vnd.plotly.v1+json": {
       "config": {
        "plotlyServerURL": "https://plot.ly"
       },
       "data": [
        {
         "alignmentgroup": "True",
         "hovertemplate": "variable=number_of_people<br>Hour=%{x}<br>value=%{y}<extra></extra>",
         "legendgroup": "number_of_people",
         "marker": {
          "color": "#636efa",
          "pattern": {
           "shape": ""
          }
         },
         "name": "number_of_people",
         "offsetgroup": "number_of_people",
         "orientation": "v",
         "showlegend": true,
         "textposition": "auto",
         "type": "bar",
         "x": [
          "10:00-10:20",
          "10:20-10:40",
          "10:40-11:00",
          "11:00-11:20",
          "11:20-11:40",
          "11:40-12:00",
          "12:00-12:20",
          "12:20-12:40",
          "12:40-13:00",
          "13:00-13:20",
          "13:20-13:40",
          "13:40-14:00",
          "14:00-14:20",
          "14:20-14:40",
          "14:40-15:00",
          "15:00-15:30",
          "15:30-16:00",
          "16:00-16:30",
          "16:30-17:00",
          "6:00-6:20",
          "6:20-6:40",
          "6:40-7:00",
          "7:00-7:20",
          "7:20-7:40",
          "7:40-8:00",
          "8:00-8:20",
          "8:20-8:40",
          "8:40-9:00",
          "9:00-9:20",
          "9:20-9:40",
          "9:40-10:00"
         ],
         "xaxis": "x",
         "y": [
          829,
          614,
          451,
          341,
          334,
          181,
          203,
          94,
          38,
          99,
          95,
          39,
          29,
          57,
          51,
          57,
          16,
          0,
          1,
          79,
          46,
          24,
          66,
          361,
          624,
          996,
          1028,
          956,
          1046,
          850,
          719
         ],
         "yaxis": "y"
        }
       ],
       "layout": {
        "barmode": "relative",
        "legend": {
         "title": {
          "text": "variable"
         },
         "tracegroupgap": 0
        },
        "template": {
         "data": {
          "bar": [
           {
            "error_x": {
             "color": "#2a3f5f"
            },
            "error_y": {
             "color": "#2a3f5f"
            },
            "marker": {
             "line": {
              "color": "#E5ECF6",
              "width": 0.5
             },
             "pattern": {
              "fillmode": "overlay",
              "size": 10,
              "solidity": 0.2
             }
            },
            "type": "bar"
           }
          ],
          "barpolar": [
           {
            "marker": {
             "line": {
              "color": "#E5ECF6",
              "width": 0.5
             },
             "pattern": {
              "fillmode": "overlay",
              "size": 10,
              "solidity": 0.2
             }
            },
            "type": "barpolar"
           }
          ],
          "carpet": [
           {
            "aaxis": {
             "endlinecolor": "#2a3f5f",
             "gridcolor": "white",
             "linecolor": "white",
             "minorgridcolor": "white",
             "startlinecolor": "#2a3f5f"
            },
            "baxis": {
             "endlinecolor": "#2a3f5f",
             "gridcolor": "white",
             "linecolor": "white",
             "minorgridcolor": "white",
             "startlinecolor": "#2a3f5f"
            },
            "type": "carpet"
           }
          ],
          "choropleth": [
           {
            "colorbar": {
             "outlinewidth": 0,
             "ticks": ""
            },
            "type": "choropleth"
           }
          ],
          "contour": [
           {
            "colorbar": {
             "outlinewidth": 0,
             "ticks": ""
            },
            "colorscale": [
             [
              0,
              "#0d0887"
             ],
             [
              0.1111111111111111,
              "#46039f"
             ],
             [
              0.2222222222222222,
              "#7201a8"
             ],
             [
              0.3333333333333333,
              "#9c179e"
             ],
             [
              0.4444444444444444,
              "#bd3786"
             ],
             [
              0.5555555555555556,
              "#d8576b"
             ],
             [
              0.6666666666666666,
              "#ed7953"
             ],
             [
              0.7777777777777778,
              "#fb9f3a"
             ],
             [
              0.8888888888888888,
              "#fdca26"
             ],
             [
              1,
              "#f0f921"
             ]
            ],
            "type": "contour"
           }
          ],
          "contourcarpet": [
           {
            "colorbar": {
             "outlinewidth": 0,
             "ticks": ""
            },
            "type": "contourcarpet"
           }
          ],
          "heatmap": [
           {
            "colorbar": {
             "outlinewidth": 0,
             "ticks": ""
            },
            "colorscale": [
             [
              0,
              "#0d0887"
             ],
             [
              0.1111111111111111,
              "#46039f"
             ],
             [
              0.2222222222222222,
              "#7201a8"
             ],
             [
              0.3333333333333333,
              "#9c179e"
             ],
             [
              0.4444444444444444,
              "#bd3786"
             ],
             [
              0.5555555555555556,
              "#d8576b"
             ],
             [
              0.6666666666666666,
              "#ed7953"
             ],
             [
              0.7777777777777778,
              "#fb9f3a"
             ],
             [
              0.8888888888888888,
              "#fdca26"
             ],
             [
              1,
              "#f0f921"
             ]
            ],
            "type": "heatmap"
           }
          ],
          "heatmapgl": [
           {
            "colorbar": {
             "outlinewidth": 0,
             "ticks": ""
            },
            "colorscale": [
             [
              0,
              "#0d0887"
             ],
             [
              0.1111111111111111,
              "#46039f"
             ],
             [
              0.2222222222222222,
              "#7201a8"
             ],
             [
              0.3333333333333333,
              "#9c179e"
             ],
             [
              0.4444444444444444,
              "#bd3786"
             ],
             [
              0.5555555555555556,
              "#d8576b"
             ],
             [
              0.6666666666666666,
              "#ed7953"
             ],
             [
              0.7777777777777778,
              "#fb9f3a"
             ],
             [
              0.8888888888888888,
              "#fdca26"
             ],
             [
              1,
              "#f0f921"
             ]
            ],
            "type": "heatmapgl"
           }
          ],
          "histogram": [
           {
            "marker": {
             "pattern": {
              "fillmode": "overlay",
              "size": 10,
              "solidity": 0.2
             }
            },
            "type": "histogram"
           }
          ],
          "histogram2d": [
           {
            "colorbar": {
             "outlinewidth": 0,
             "ticks": ""
            },
            "colorscale": [
             [
              0,
              "#0d0887"
             ],
             [
              0.1111111111111111,
              "#46039f"
             ],
             [
              0.2222222222222222,
              "#7201a8"
             ],
             [
              0.3333333333333333,
              "#9c179e"
             ],
             [
              0.4444444444444444,
              "#bd3786"
             ],
             [
              0.5555555555555556,
              "#d8576b"
             ],
             [
              0.6666666666666666,
              "#ed7953"
             ],
             [
              0.7777777777777778,
              "#fb9f3a"
             ],
             [
              0.8888888888888888,
              "#fdca26"
             ],
             [
              1,
              "#f0f921"
             ]
            ],
            "type": "histogram2d"
           }
          ],
          "histogram2dcontour": [
           {
            "colorbar": {
             "outlinewidth": 0,
             "ticks": ""
            },
            "colorscale": [
             [
              0,
              "#0d0887"
             ],
             [
              0.1111111111111111,
              "#46039f"
             ],
             [
              0.2222222222222222,
              "#7201a8"
             ],
             [
              0.3333333333333333,
              "#9c179e"
             ],
             [
              0.4444444444444444,
              "#bd3786"
             ],
             [
              0.5555555555555556,
              "#d8576b"
             ],
             [
              0.6666666666666666,
              "#ed7953"
             ],
             [
              0.7777777777777778,
              "#fb9f3a"
             ],
             [
              0.8888888888888888,
              "#fdca26"
             ],
             [
              1,
              "#f0f921"
             ]
            ],
            "type": "histogram2dcontour"
           }
          ],
          "mesh3d": [
           {
            "colorbar": {
             "outlinewidth": 0,
             "ticks": ""
            },
            "type": "mesh3d"
           }
          ],
          "parcoords": [
           {
            "line": {
             "colorbar": {
              "outlinewidth": 0,
              "ticks": ""
             }
            },
            "type": "parcoords"
           }
          ],
          "pie": [
           {
            "automargin": true,
            "type": "pie"
           }
          ],
          "scatter": [
           {
            "fillpattern": {
             "fillmode": "overlay",
             "size": 10,
             "solidity": 0.2
            },
            "type": "scatter"
           }
          ],
          "scatter3d": [
           {
            "line": {
             "colorbar": {
              "outlinewidth": 0,
              "ticks": ""
             }
            },
            "marker": {
             "colorbar": {
              "outlinewidth": 0,
              "ticks": ""
             }
            },
            "type": "scatter3d"
           }
          ],
          "scattercarpet": [
           {
            "marker": {
             "colorbar": {
              "outlinewidth": 0,
              "ticks": ""
             }
            },
            "type": "scattercarpet"
           }
          ],
          "scattergeo": [
           {
            "marker": {
             "colorbar": {
              "outlinewidth": 0,
              "ticks": ""
             }
            },
            "type": "scattergeo"
           }
          ],
          "scattergl": [
           {
            "marker": {
             "colorbar": {
              "outlinewidth": 0,
              "ticks": ""
             }
            },
            "type": "scattergl"
           }
          ],
          "scattermapbox": [
           {
            "marker": {
             "colorbar": {
              "outlinewidth": 0,
              "ticks": ""
             }
            },
            "type": "scattermapbox"
           }
          ],
          "scatterpolar": [
           {
            "marker": {
             "colorbar": {
              "outlinewidth": 0,
              "ticks": ""
             }
            },
            "type": "scatterpolar"
           }
          ],
          "scatterpolargl": [
           {
            "marker": {
             "colorbar": {
              "outlinewidth": 0,
              "ticks": ""
             }
            },
            "type": "scatterpolargl"
           }
          ],
          "scatterternary": [
           {
            "marker": {
             "colorbar": {
              "outlinewidth": 0,
              "ticks": ""
             }
            },
            "type": "scatterternary"
           }
          ],
          "surface": [
           {
            "colorbar": {
             "outlinewidth": 0,
             "ticks": ""
            },
            "colorscale": [
             [
              0,
              "#0d0887"
             ],
             [
              0.1111111111111111,
              "#46039f"
             ],
             [
              0.2222222222222222,
              "#7201a8"
             ],
             [
              0.3333333333333333,
              "#9c179e"
             ],
             [
              0.4444444444444444,
              "#bd3786"
             ],
             [
              0.5555555555555556,
              "#d8576b"
             ],
             [
              0.6666666666666666,
              "#ed7953"
             ],
             [
              0.7777777777777778,
              "#fb9f3a"
             ],
             [
              0.8888888888888888,
              "#fdca26"
             ],
             [
              1,
              "#f0f921"
             ]
            ],
            "type": "surface"
           }
          ],
          "table": [
           {
            "cells": {
             "fill": {
              "color": "#EBF0F8"
             },
             "line": {
              "color": "white"
             }
            },
            "header": {
             "fill": {
              "color": "#C8D4E3"
             },
             "line": {
              "color": "white"
             }
            },
            "type": "table"
           }
          ]
         },
         "layout": {
          "annotationdefaults": {
           "arrowcolor": "#2a3f5f",
           "arrowhead": 0,
           "arrowwidth": 1
          },
          "autotypenumbers": "strict",
          "coloraxis": {
           "colorbar": {
            "outlinewidth": 0,
            "ticks": ""
           }
          },
          "colorscale": {
           "diverging": [
            [
             0,
             "#8e0152"
            ],
            [
             0.1,
             "#c51b7d"
            ],
            [
             0.2,
             "#de77ae"
            ],
            [
             0.3,
             "#f1b6da"
            ],
            [
             0.4,
             "#fde0ef"
            ],
            [
             0.5,
             "#f7f7f7"
            ],
            [
             0.6,
             "#e6f5d0"
            ],
            [
             0.7,
             "#b8e186"
            ],
            [
             0.8,
             "#7fbc41"
            ],
            [
             0.9,
             "#4d9221"
            ],
            [
             1,
             "#276419"
            ]
           ],
           "sequential": [
            [
             0,
             "#0d0887"
            ],
            [
             0.1111111111111111,
             "#46039f"
            ],
            [
             0.2222222222222222,
             "#7201a8"
            ],
            [
             0.3333333333333333,
             "#9c179e"
            ],
            [
             0.4444444444444444,
             "#bd3786"
            ],
            [
             0.5555555555555556,
             "#d8576b"
            ],
            [
             0.6666666666666666,
             "#ed7953"
            ],
            [
             0.7777777777777778,
             "#fb9f3a"
            ],
            [
             0.8888888888888888,
             "#fdca26"
            ],
            [
             1,
             "#f0f921"
            ]
           ],
           "sequentialminus": [
            [
             0,
             "#0d0887"
            ],
            [
             0.1111111111111111,
             "#46039f"
            ],
            [
             0.2222222222222222,
             "#7201a8"
            ],
            [
             0.3333333333333333,
             "#9c179e"
            ],
            [
             0.4444444444444444,
             "#bd3786"
            ],
            [
             0.5555555555555556,
             "#d8576b"
            ],
            [
             0.6666666666666666,
             "#ed7953"
            ],
            [
             0.7777777777777778,
             "#fb9f3a"
            ],
            [
             0.8888888888888888,
             "#fdca26"
            ],
            [
             1,
             "#f0f921"
            ]
           ]
          },
          "colorway": [
           "#636efa",
           "#EF553B",
           "#00cc96",
           "#ab63fa",
           "#FFA15A",
           "#19d3f3",
           "#FF6692",
           "#B6E880",
           "#FF97FF",
           "#FECB52"
          ],
          "font": {
           "color": "#2a3f5f"
          },
          "geo": {
           "bgcolor": "white",
           "lakecolor": "white",
           "landcolor": "#E5ECF6",
           "showlakes": true,
           "showland": true,
           "subunitcolor": "white"
          },
          "hoverlabel": {
           "align": "left"
          },
          "hovermode": "closest",
          "mapbox": {
           "style": "light"
          },
          "paper_bgcolor": "white",
          "plot_bgcolor": "#E5ECF6",
          "polar": {
           "angularaxis": {
            "gridcolor": "white",
            "linecolor": "white",
            "ticks": ""
           },
           "bgcolor": "#E5ECF6",
           "radialaxis": {
            "gridcolor": "white",
            "linecolor": "white",
            "ticks": ""
           }
          },
          "scene": {
           "xaxis": {
            "backgroundcolor": "#E5ECF6",
            "gridcolor": "white",
            "gridwidth": 2,
            "linecolor": "white",
            "showbackground": true,
            "ticks": "",
            "zerolinecolor": "white"
           },
           "yaxis": {
            "backgroundcolor": "#E5ECF6",
            "gridcolor": "white",
            "gridwidth": 2,
            "linecolor": "white",
            "showbackground": true,
            "ticks": "",
            "zerolinecolor": "white"
           },
           "zaxis": {
            "backgroundcolor": "#E5ECF6",
            "gridcolor": "white",
            "gridwidth": 2,
            "linecolor": "white",
            "showbackground": true,
            "ticks": "",
            "zerolinecolor": "white"
           }
          },
          "shapedefaults": {
           "line": {
            "color": "#2a3f5f"
           }
          },
          "ternary": {
           "aaxis": {
            "gridcolor": "white",
            "linecolor": "white",
            "ticks": ""
           },
           "baxis": {
            "gridcolor": "white",
            "linecolor": "white",
            "ticks": ""
           },
           "bgcolor": "#E5ECF6",
           "caxis": {
            "gridcolor": "white",
            "linecolor": "white",
            "ticks": ""
           }
          },
          "title": {
           "x": 0.05
          },
          "xaxis": {
           "automargin": true,
           "gridcolor": "white",
           "linecolor": "white",
           "ticks": "",
           "title": {
            "standoff": 15
           },
           "zerolinecolor": "white",
           "zerolinewidth": 2
          },
          "yaxis": {
           "automargin": true,
           "gridcolor": "white",
           "linecolor": "white",
           "ticks": "",
           "title": {
            "standoff": 15
           },
           "zerolinecolor": "white",
           "zerolinewidth": 2
          }
         }
        },
        "title": {
         "text": "total number of people per hour"
        },
        "xaxis": {
         "anchor": "y",
         "domain": [
          0,
          1
         ],
         "title": {
          "text": "Hour"
         }
        },
        "yaxis": {
         "anchor": "x",
         "domain": [
          0,
          1
         ],
         "title": {
          "text": "value"
         }
        }
       }
      },
      "text/html": [
       "<div>                            <div id=\"b01fa316-c79f-4729-9320-4525f9372490\" class=\"plotly-graph-div\" style=\"height:525px; width:100%;\"></div>            <script type=\"text/javascript\">                require([\"plotly\"], function(Plotly) {                    window.PLOTLYENV=window.PLOTLYENV || {};                                    if (document.getElementById(\"b01fa316-c79f-4729-9320-4525f9372490\")) {                    Plotly.newPlot(                        \"b01fa316-c79f-4729-9320-4525f9372490\",                        [{\"alignmentgroup\":\"True\",\"hovertemplate\":\"variable=number_of_people<br>Hour=%{x}<br>value=%{y}<extra></extra>\",\"legendgroup\":\"number_of_people\",\"marker\":{\"color\":\"#636efa\",\"pattern\":{\"shape\":\"\"}},\"name\":\"number_of_people\",\"offsetgroup\":\"number_of_people\",\"orientation\":\"v\",\"showlegend\":true,\"textposition\":\"auto\",\"x\":[\"10:00-10:20\",\"10:20-10:40\",\"10:40-11:00\",\"11:00-11:20\",\"11:20-11:40\",\"11:40-12:00\",\"12:00-12:20\",\"12:20-12:40\",\"12:40-13:00\",\"13:00-13:20\",\"13:20-13:40\",\"13:40-14:00\",\"14:00-14:20\",\"14:20-14:40\",\"14:40-15:00\",\"15:00-15:30\",\"15:30-16:00\",\"16:00-16:30\",\"16:30-17:00\",\"6:00-6:20\",\"6:20-6:40\",\"6:40-7:00\",\"7:00-7:20\",\"7:20-7:40\",\"7:40-8:00\",\"8:00-8:20\",\"8:20-8:40\",\"8:40-9:00\",\"9:00-9:20\",\"9:20-9:40\",\"9:40-10:00\"],\"xaxis\":\"x\",\"y\":[829,614,451,341,334,181,203,94,38,99,95,39,29,57,51,57,16,0,1,79,46,24,66,361,624,996,1028,956,1046,850,719],\"yaxis\":\"y\",\"type\":\"bar\"}],                        {\"template\":{\"data\":{\"histogram2dcontour\":[{\"type\":\"histogram2dcontour\",\"colorbar\":{\"outlinewidth\":0,\"ticks\":\"\"},\"colorscale\":[[0.0,\"#0d0887\"],[0.1111111111111111,\"#46039f\"],[0.2222222222222222,\"#7201a8\"],[0.3333333333333333,\"#9c179e\"],[0.4444444444444444,\"#bd3786\"],[0.5555555555555556,\"#d8576b\"],[0.6666666666666666,\"#ed7953\"],[0.7777777777777778,\"#fb9f3a\"],[0.8888888888888888,\"#fdca26\"],[1.0,\"#f0f921\"]]}],\"choropleth\":[{\"type\":\"choropleth\",\"colorbar\":{\"outlinewidth\":0,\"ticks\":\"\"}}],\"histogram2d\":[{\"type\":\"histogram2d\",\"colorbar\":{\"outlinewidth\":0,\"ticks\":\"\"},\"colorscale\":[[0.0,\"#0d0887\"],[0.1111111111111111,\"#46039f\"],[0.2222222222222222,\"#7201a8\"],[0.3333333333333333,\"#9c179e\"],[0.4444444444444444,\"#bd3786\"],[0.5555555555555556,\"#d8576b\"],[0.6666666666666666,\"#ed7953\"],[0.7777777777777778,\"#fb9f3a\"],[0.8888888888888888,\"#fdca26\"],[1.0,\"#f0f921\"]]}],\"heatmap\":[{\"type\":\"heatmap\",\"colorbar\":{\"outlinewidth\":0,\"ticks\":\"\"},\"colorscale\":[[0.0,\"#0d0887\"],[0.1111111111111111,\"#46039f\"],[0.2222222222222222,\"#7201a8\"],[0.3333333333333333,\"#9c179e\"],[0.4444444444444444,\"#bd3786\"],[0.5555555555555556,\"#d8576b\"],[0.6666666666666666,\"#ed7953\"],[0.7777777777777778,\"#fb9f3a\"],[0.8888888888888888,\"#fdca26\"],[1.0,\"#f0f921\"]]}],\"heatmapgl\":[{\"type\":\"heatmapgl\",\"colorbar\":{\"outlinewidth\":0,\"ticks\":\"\"},\"colorscale\":[[0.0,\"#0d0887\"],[0.1111111111111111,\"#46039f\"],[0.2222222222222222,\"#7201a8\"],[0.3333333333333333,\"#9c179e\"],[0.4444444444444444,\"#bd3786\"],[0.5555555555555556,\"#d8576b\"],[0.6666666666666666,\"#ed7953\"],[0.7777777777777778,\"#fb9f3a\"],[0.8888888888888888,\"#fdca26\"],[1.0,\"#f0f921\"]]}],\"contourcarpet\":[{\"type\":\"contourcarpet\",\"colorbar\":{\"outlinewidth\":0,\"ticks\":\"\"}}],\"contour\":[{\"type\":\"contour\",\"colorbar\":{\"outlinewidth\":0,\"ticks\":\"\"},\"colorscale\":[[0.0,\"#0d0887\"],[0.1111111111111111,\"#46039f\"],[0.2222222222222222,\"#7201a8\"],[0.3333333333333333,\"#9c179e\"],[0.4444444444444444,\"#bd3786\"],[0.5555555555555556,\"#d8576b\"],[0.6666666666666666,\"#ed7953\"],[0.7777777777777778,\"#fb9f3a\"],[0.8888888888888888,\"#fdca26\"],[1.0,\"#f0f921\"]]}],\"surface\":[{\"type\":\"surface\",\"colorbar\":{\"outlinewidth\":0,\"ticks\":\"\"},\"colorscale\":[[0.0,\"#0d0887\"],[0.1111111111111111,\"#46039f\"],[0.2222222222222222,\"#7201a8\"],[0.3333333333333333,\"#9c179e\"],[0.4444444444444444,\"#bd3786\"],[0.5555555555555556,\"#d8576b\"],[0.6666666666666666,\"#ed7953\"],[0.7777777777777778,\"#fb9f3a\"],[0.8888888888888888,\"#fdca26\"],[1.0,\"#f0f921\"]]}],\"mesh3d\":[{\"type\":\"mesh3d\",\"colorbar\":{\"outlinewidth\":0,\"ticks\":\"\"}}],\"scatter\":[{\"fillpattern\":{\"fillmode\":\"overlay\",\"size\":10,\"solidity\":0.2},\"type\":\"scatter\"}],\"parcoords\":[{\"type\":\"parcoords\",\"line\":{\"colorbar\":{\"outlinewidth\":0,\"ticks\":\"\"}}}],\"scatterpolargl\":[{\"type\":\"scatterpolargl\",\"marker\":{\"colorbar\":{\"outlinewidth\":0,\"ticks\":\"\"}}}],\"bar\":[{\"error_x\":{\"color\":\"#2a3f5f\"},\"error_y\":{\"color\":\"#2a3f5f\"},\"marker\":{\"line\":{\"color\":\"#E5ECF6\",\"width\":0.5},\"pattern\":{\"fillmode\":\"overlay\",\"size\":10,\"solidity\":0.2}},\"type\":\"bar\"}],\"scattergeo\":[{\"type\":\"scattergeo\",\"marker\":{\"colorbar\":{\"outlinewidth\":0,\"ticks\":\"\"}}}],\"scatterpolar\":[{\"type\":\"scatterpolar\",\"marker\":{\"colorbar\":{\"outlinewidth\":0,\"ticks\":\"\"}}}],\"histogram\":[{\"marker\":{\"pattern\":{\"fillmode\":\"overlay\",\"size\":10,\"solidity\":0.2}},\"type\":\"histogram\"}],\"scattergl\":[{\"type\":\"scattergl\",\"marker\":{\"colorbar\":{\"outlinewidth\":0,\"ticks\":\"\"}}}],\"scatter3d\":[{\"type\":\"scatter3d\",\"line\":{\"colorbar\":{\"outlinewidth\":0,\"ticks\":\"\"}},\"marker\":{\"colorbar\":{\"outlinewidth\":0,\"ticks\":\"\"}}}],\"scattermapbox\":[{\"type\":\"scattermapbox\",\"marker\":{\"colorbar\":{\"outlinewidth\":0,\"ticks\":\"\"}}}],\"scatterternary\":[{\"type\":\"scatterternary\",\"marker\":{\"colorbar\":{\"outlinewidth\":0,\"ticks\":\"\"}}}],\"scattercarpet\":[{\"type\":\"scattercarpet\",\"marker\":{\"colorbar\":{\"outlinewidth\":0,\"ticks\":\"\"}}}],\"carpet\":[{\"aaxis\":{\"endlinecolor\":\"#2a3f5f\",\"gridcolor\":\"white\",\"linecolor\":\"white\",\"minorgridcolor\":\"white\",\"startlinecolor\":\"#2a3f5f\"},\"baxis\":{\"endlinecolor\":\"#2a3f5f\",\"gridcolor\":\"white\",\"linecolor\":\"white\",\"minorgridcolor\":\"white\",\"startlinecolor\":\"#2a3f5f\"},\"type\":\"carpet\"}],\"table\":[{\"cells\":{\"fill\":{\"color\":\"#EBF0F8\"},\"line\":{\"color\":\"white\"}},\"header\":{\"fill\":{\"color\":\"#C8D4E3\"},\"line\":{\"color\":\"white\"}},\"type\":\"table\"}],\"barpolar\":[{\"marker\":{\"line\":{\"color\":\"#E5ECF6\",\"width\":0.5},\"pattern\":{\"fillmode\":\"overlay\",\"size\":10,\"solidity\":0.2}},\"type\":\"barpolar\"}],\"pie\":[{\"automargin\":true,\"type\":\"pie\"}]},\"layout\":{\"autotypenumbers\":\"strict\",\"colorway\":[\"#636efa\",\"#EF553B\",\"#00cc96\",\"#ab63fa\",\"#FFA15A\",\"#19d3f3\",\"#FF6692\",\"#B6E880\",\"#FF97FF\",\"#FECB52\"],\"font\":{\"color\":\"#2a3f5f\"},\"hovermode\":\"closest\",\"hoverlabel\":{\"align\":\"left\"},\"paper_bgcolor\":\"white\",\"plot_bgcolor\":\"#E5ECF6\",\"polar\":{\"bgcolor\":\"#E5ECF6\",\"angularaxis\":{\"gridcolor\":\"white\",\"linecolor\":\"white\",\"ticks\":\"\"},\"radialaxis\":{\"gridcolor\":\"white\",\"linecolor\":\"white\",\"ticks\":\"\"}},\"ternary\":{\"bgcolor\":\"#E5ECF6\",\"aaxis\":{\"gridcolor\":\"white\",\"linecolor\":\"white\",\"ticks\":\"\"},\"baxis\":{\"gridcolor\":\"white\",\"linecolor\":\"white\",\"ticks\":\"\"},\"caxis\":{\"gridcolor\":\"white\",\"linecolor\":\"white\",\"ticks\":\"\"}},\"coloraxis\":{\"colorbar\":{\"outlinewidth\":0,\"ticks\":\"\"}},\"colorscale\":{\"sequential\":[[0.0,\"#0d0887\"],[0.1111111111111111,\"#46039f\"],[0.2222222222222222,\"#7201a8\"],[0.3333333333333333,\"#9c179e\"],[0.4444444444444444,\"#bd3786\"],[0.5555555555555556,\"#d8576b\"],[0.6666666666666666,\"#ed7953\"],[0.7777777777777778,\"#fb9f3a\"],[0.8888888888888888,\"#fdca26\"],[1.0,\"#f0f921\"]],\"sequentialminus\":[[0.0,\"#0d0887\"],[0.1111111111111111,\"#46039f\"],[0.2222222222222222,\"#7201a8\"],[0.3333333333333333,\"#9c179e\"],[0.4444444444444444,\"#bd3786\"],[0.5555555555555556,\"#d8576b\"],[0.6666666666666666,\"#ed7953\"],[0.7777777777777778,\"#fb9f3a\"],[0.8888888888888888,\"#fdca26\"],[1.0,\"#f0f921\"]],\"diverging\":[[0,\"#8e0152\"],[0.1,\"#c51b7d\"],[0.2,\"#de77ae\"],[0.3,\"#f1b6da\"],[0.4,\"#fde0ef\"],[0.5,\"#f7f7f7\"],[0.6,\"#e6f5d0\"],[0.7,\"#b8e186\"],[0.8,\"#7fbc41\"],[0.9,\"#4d9221\"],[1,\"#276419\"]]},\"xaxis\":{\"gridcolor\":\"white\",\"linecolor\":\"white\",\"ticks\":\"\",\"title\":{\"standoff\":15},\"zerolinecolor\":\"white\",\"automargin\":true,\"zerolinewidth\":2},\"yaxis\":{\"gridcolor\":\"white\",\"linecolor\":\"white\",\"ticks\":\"\",\"title\":{\"standoff\":15},\"zerolinecolor\":\"white\",\"automargin\":true,\"zerolinewidth\":2},\"scene\":{\"xaxis\":{\"backgroundcolor\":\"#E5ECF6\",\"gridcolor\":\"white\",\"linecolor\":\"white\",\"showbackground\":true,\"ticks\":\"\",\"zerolinecolor\":\"white\",\"gridwidth\":2},\"yaxis\":{\"backgroundcolor\":\"#E5ECF6\",\"gridcolor\":\"white\",\"linecolor\":\"white\",\"showbackground\":true,\"ticks\":\"\",\"zerolinecolor\":\"white\",\"gridwidth\":2},\"zaxis\":{\"backgroundcolor\":\"#E5ECF6\",\"gridcolor\":\"white\",\"linecolor\":\"white\",\"showbackground\":true,\"ticks\":\"\",\"zerolinecolor\":\"white\",\"gridwidth\":2}},\"shapedefaults\":{\"line\":{\"color\":\"#2a3f5f\"}},\"annotationdefaults\":{\"arrowcolor\":\"#2a3f5f\",\"arrowhead\":0,\"arrowwidth\":1},\"geo\":{\"bgcolor\":\"white\",\"landcolor\":\"#E5ECF6\",\"subunitcolor\":\"white\",\"showland\":true,\"showlakes\":true,\"lakecolor\":\"white\"},\"title\":{\"x\":0.05},\"mapbox\":{\"style\":\"light\"}}},\"xaxis\":{\"anchor\":\"y\",\"domain\":[0.0,1.0],\"title\":{\"text\":\"Hour\"}},\"yaxis\":{\"anchor\":\"x\",\"domain\":[0.0,1.0],\"title\":{\"text\":\"value\"}},\"legend\":{\"title\":{\"text\":\"variable\"},\"tracegroupgap\":0},\"title\":{\"text\":\"total number of people per hour\"},\"barmode\":\"relative\"},                        {\"responsive\": true}                    ).then(function(){\n",
       "                            \n",
       "var gd = document.getElementById('b01fa316-c79f-4729-9320-4525f9372490');\n",
       "var x = new MutationObserver(function (mutations, observer) {{\n",
       "        var display = window.getComputedStyle(gd).display;\n",
       "        if (!display || display === 'none') {{\n",
       "            console.log([gd, 'removed!']);\n",
       "            Plotly.purge(gd);\n",
       "            observer.disconnect();\n",
       "        }}\n",
       "}});\n",
       "\n",
       "// Listen for the removal of the full notebook cells\n",
       "var notebookContainer = gd.closest('#notebook-container');\n",
       "if (notebookContainer) {{\n",
       "    x.observe(notebookContainer, {childList: true});\n",
       "}}\n",
       "\n",
       "// Listen for the clearing of the current output cell\n",
       "var outputEl = gd.closest('.output');\n",
       "if (outputEl) {{\n",
       "    x.observe(outputEl, {childList: true});\n",
       "}}\n",
       "\n",
       "                        })                };                });            </script>        </div>"
      ]
     },
     "metadata": {},
     "output_type": "display_data"
    }
   ],
   "source": [
    "px.bar(data_frame=group_by_hour, title='total number of people per hour')"
   ]
  },
  {
   "cell_type": "code",
   "execution_count": 100,
   "id": "e29026d1",
   "metadata": {},
   "outputs": [
    {
     "data": {
      "text/plain": [
       "Hour\n",
       "10:00-10:20     9.639535\n",
       "10:20-10:40     7.139535\n",
       "10:40-11:00     5.244186\n",
       "11:00-11:20     3.965116\n",
       "11:20-11:40     3.883721\n",
       "11:40-12:00     2.104651\n",
       "12:00-12:20     2.360465\n",
       "12:20-12:40     1.093023\n",
       "12:40-13:00     0.441860\n",
       "13:00-13:20     1.151163\n",
       "13:20-13:40     1.104651\n",
       "13:40-14:00     0.453488\n",
       "14:00-14:20     0.337209\n",
       "14:20-14:40     0.662791\n",
       "14:40-15:00     0.593023\n",
       "15:00-15:30     0.662791\n",
       "15:30-16:00     0.186047\n",
       "16:00-16:30     0.000000\n",
       "16:30-17:00     0.011628\n",
       "6:00-6:20       0.918605\n",
       "6:20-6:40       0.534884\n",
       "6:40-7:00       0.279070\n",
       "7:00-7:20       0.767442\n",
       "7:20-7:40       4.197674\n",
       "7:40-8:00       7.255814\n",
       "8:00-8:20      11.581395\n",
       "8:20-8:40      11.953488\n",
       "8:40-9:00      11.116279\n",
       "9:00-9:20      12.162791\n",
       "9:20-9:40       9.883721\n",
       "9:40-10:00      8.360465\n",
       "Name: number_of_people, dtype: float64"
      ]
     },
     "execution_count": 100,
     "metadata": {},
     "output_type": "execute_result"
    }
   ],
   "source": [
    "# avg number of people by hour\n",
    "avg_people_by_hour = shuttles_hills_stacked.groupby('Hour')['number_of_people'].mean()\n",
    "avg_people_by_hour"
   ]
  },
  {
   "cell_type": "code",
   "execution_count": 103,
   "id": "86fabbad",
   "metadata": {},
   "outputs": [
    {
     "data": {
      "application/vnd.plotly.v1+json": {
       "config": {
        "plotlyServerURL": "https://plot.ly"
       },
       "data": [
        {
         "alignmentgroup": "True",
         "hovertemplate": "variable=number_of_people<br>Hour=%{x}<br>value=%{y}<extra></extra>",
         "legendgroup": "number_of_people",
         "marker": {
          "color": "#636efa",
          "pattern": {
           "shape": ""
          }
         },
         "name": "number_of_people",
         "offsetgroup": "number_of_people",
         "orientation": "v",
         "showlegend": true,
         "textposition": "auto",
         "type": "bar",
         "x": [
          "10:00-10:20",
          "10:20-10:40",
          "10:40-11:00",
          "11:00-11:20",
          "11:20-11:40",
          "11:40-12:00",
          "12:00-12:20",
          "12:20-12:40",
          "12:40-13:00",
          "13:00-13:20",
          "13:20-13:40",
          "13:40-14:00",
          "14:00-14:20",
          "14:20-14:40",
          "14:40-15:00",
          "15:00-15:30",
          "15:30-16:00",
          "16:00-16:30",
          "16:30-17:00",
          "6:00-6:20",
          "6:20-6:40",
          "6:40-7:00",
          "7:00-7:20",
          "7:20-7:40",
          "7:40-8:00",
          "8:00-8:20",
          "8:20-8:40",
          "8:40-9:00",
          "9:00-9:20",
          "9:20-9:40",
          "9:40-10:00"
         ],
         "xaxis": "x",
         "y": [
          9.63953488372093,
          7.1395348837209305,
          5.244186046511628,
          3.9651162790697674,
          3.883720930232558,
          2.104651162790698,
          2.36046511627907,
          1.0930232558139534,
          0.4418604651162791,
          1.1511627906976745,
          1.1046511627906976,
          0.45348837209302323,
          0.3372093023255814,
          0.6627906976744186,
          0.5930232558139535,
          0.6627906976744186,
          0.18604651162790697,
          0,
          0.011627906976744186,
          0.9186046511627907,
          0.5348837209302325,
          0.27906976744186046,
          0.7674418604651163,
          4.1976744186046515,
          7.255813953488372,
          11.581395348837209,
          11.953488372093023,
          11.116279069767442,
          12.162790697674419,
          9.883720930232558,
          8.36046511627907
         ],
         "yaxis": "y"
        }
       ],
       "layout": {
        "barmode": "relative",
        "legend": {
         "title": {
          "text": "variable"
         },
         "tracegroupgap": 0
        },
        "template": {
         "data": {
          "bar": [
           {
            "error_x": {
             "color": "#2a3f5f"
            },
            "error_y": {
             "color": "#2a3f5f"
            },
            "marker": {
             "line": {
              "color": "#E5ECF6",
              "width": 0.5
             },
             "pattern": {
              "fillmode": "overlay",
              "size": 10,
              "solidity": 0.2
             }
            },
            "type": "bar"
           }
          ],
          "barpolar": [
           {
            "marker": {
             "line": {
              "color": "#E5ECF6",
              "width": 0.5
             },
             "pattern": {
              "fillmode": "overlay",
              "size": 10,
              "solidity": 0.2
             }
            },
            "type": "barpolar"
           }
          ],
          "carpet": [
           {
            "aaxis": {
             "endlinecolor": "#2a3f5f",
             "gridcolor": "white",
             "linecolor": "white",
             "minorgridcolor": "white",
             "startlinecolor": "#2a3f5f"
            },
            "baxis": {
             "endlinecolor": "#2a3f5f",
             "gridcolor": "white",
             "linecolor": "white",
             "minorgridcolor": "white",
             "startlinecolor": "#2a3f5f"
            },
            "type": "carpet"
           }
          ],
          "choropleth": [
           {
            "colorbar": {
             "outlinewidth": 0,
             "ticks": ""
            },
            "type": "choropleth"
           }
          ],
          "contour": [
           {
            "colorbar": {
             "outlinewidth": 0,
             "ticks": ""
            },
            "colorscale": [
             [
              0,
              "#0d0887"
             ],
             [
              0.1111111111111111,
              "#46039f"
             ],
             [
              0.2222222222222222,
              "#7201a8"
             ],
             [
              0.3333333333333333,
              "#9c179e"
             ],
             [
              0.4444444444444444,
              "#bd3786"
             ],
             [
              0.5555555555555556,
              "#d8576b"
             ],
             [
              0.6666666666666666,
              "#ed7953"
             ],
             [
              0.7777777777777778,
              "#fb9f3a"
             ],
             [
              0.8888888888888888,
              "#fdca26"
             ],
             [
              1,
              "#f0f921"
             ]
            ],
            "type": "contour"
           }
          ],
          "contourcarpet": [
           {
            "colorbar": {
             "outlinewidth": 0,
             "ticks": ""
            },
            "type": "contourcarpet"
           }
          ],
          "heatmap": [
           {
            "colorbar": {
             "outlinewidth": 0,
             "ticks": ""
            },
            "colorscale": [
             [
              0,
              "#0d0887"
             ],
             [
              0.1111111111111111,
              "#46039f"
             ],
             [
              0.2222222222222222,
              "#7201a8"
             ],
             [
              0.3333333333333333,
              "#9c179e"
             ],
             [
              0.4444444444444444,
              "#bd3786"
             ],
             [
              0.5555555555555556,
              "#d8576b"
             ],
             [
              0.6666666666666666,
              "#ed7953"
             ],
             [
              0.7777777777777778,
              "#fb9f3a"
             ],
             [
              0.8888888888888888,
              "#fdca26"
             ],
             [
              1,
              "#f0f921"
             ]
            ],
            "type": "heatmap"
           }
          ],
          "heatmapgl": [
           {
            "colorbar": {
             "outlinewidth": 0,
             "ticks": ""
            },
            "colorscale": [
             [
              0,
              "#0d0887"
             ],
             [
              0.1111111111111111,
              "#46039f"
             ],
             [
              0.2222222222222222,
              "#7201a8"
             ],
             [
              0.3333333333333333,
              "#9c179e"
             ],
             [
              0.4444444444444444,
              "#bd3786"
             ],
             [
              0.5555555555555556,
              "#d8576b"
             ],
             [
              0.6666666666666666,
              "#ed7953"
             ],
             [
              0.7777777777777778,
              "#fb9f3a"
             ],
             [
              0.8888888888888888,
              "#fdca26"
             ],
             [
              1,
              "#f0f921"
             ]
            ],
            "type": "heatmapgl"
           }
          ],
          "histogram": [
           {
            "marker": {
             "pattern": {
              "fillmode": "overlay",
              "size": 10,
              "solidity": 0.2
             }
            },
            "type": "histogram"
           }
          ],
          "histogram2d": [
           {
            "colorbar": {
             "outlinewidth": 0,
             "ticks": ""
            },
            "colorscale": [
             [
              0,
              "#0d0887"
             ],
             [
              0.1111111111111111,
              "#46039f"
             ],
             [
              0.2222222222222222,
              "#7201a8"
             ],
             [
              0.3333333333333333,
              "#9c179e"
             ],
             [
              0.4444444444444444,
              "#bd3786"
             ],
             [
              0.5555555555555556,
              "#d8576b"
             ],
             [
              0.6666666666666666,
              "#ed7953"
             ],
             [
              0.7777777777777778,
              "#fb9f3a"
             ],
             [
              0.8888888888888888,
              "#fdca26"
             ],
             [
              1,
              "#f0f921"
             ]
            ],
            "type": "histogram2d"
           }
          ],
          "histogram2dcontour": [
           {
            "colorbar": {
             "outlinewidth": 0,
             "ticks": ""
            },
            "colorscale": [
             [
              0,
              "#0d0887"
             ],
             [
              0.1111111111111111,
              "#46039f"
             ],
             [
              0.2222222222222222,
              "#7201a8"
             ],
             [
              0.3333333333333333,
              "#9c179e"
             ],
             [
              0.4444444444444444,
              "#bd3786"
             ],
             [
              0.5555555555555556,
              "#d8576b"
             ],
             [
              0.6666666666666666,
              "#ed7953"
             ],
             [
              0.7777777777777778,
              "#fb9f3a"
             ],
             [
              0.8888888888888888,
              "#fdca26"
             ],
             [
              1,
              "#f0f921"
             ]
            ],
            "type": "histogram2dcontour"
           }
          ],
          "mesh3d": [
           {
            "colorbar": {
             "outlinewidth": 0,
             "ticks": ""
            },
            "type": "mesh3d"
           }
          ],
          "parcoords": [
           {
            "line": {
             "colorbar": {
              "outlinewidth": 0,
              "ticks": ""
             }
            },
            "type": "parcoords"
           }
          ],
          "pie": [
           {
            "automargin": true,
            "type": "pie"
           }
          ],
          "scatter": [
           {
            "fillpattern": {
             "fillmode": "overlay",
             "size": 10,
             "solidity": 0.2
            },
            "type": "scatter"
           }
          ],
          "scatter3d": [
           {
            "line": {
             "colorbar": {
              "outlinewidth": 0,
              "ticks": ""
             }
            },
            "marker": {
             "colorbar": {
              "outlinewidth": 0,
              "ticks": ""
             }
            },
            "type": "scatter3d"
           }
          ],
          "scattercarpet": [
           {
            "marker": {
             "colorbar": {
              "outlinewidth": 0,
              "ticks": ""
             }
            },
            "type": "scattercarpet"
           }
          ],
          "scattergeo": [
           {
            "marker": {
             "colorbar": {
              "outlinewidth": 0,
              "ticks": ""
             }
            },
            "type": "scattergeo"
           }
          ],
          "scattergl": [
           {
            "marker": {
             "colorbar": {
              "outlinewidth": 0,
              "ticks": ""
             }
            },
            "type": "scattergl"
           }
          ],
          "scattermapbox": [
           {
            "marker": {
             "colorbar": {
              "outlinewidth": 0,
              "ticks": ""
             }
            },
            "type": "scattermapbox"
           }
          ],
          "scatterpolar": [
           {
            "marker": {
             "colorbar": {
              "outlinewidth": 0,
              "ticks": ""
             }
            },
            "type": "scatterpolar"
           }
          ],
          "scatterpolargl": [
           {
            "marker": {
             "colorbar": {
              "outlinewidth": 0,
              "ticks": ""
             }
            },
            "type": "scatterpolargl"
           }
          ],
          "scatterternary": [
           {
            "marker": {
             "colorbar": {
              "outlinewidth": 0,
              "ticks": ""
             }
            },
            "type": "scatterternary"
           }
          ],
          "surface": [
           {
            "colorbar": {
             "outlinewidth": 0,
             "ticks": ""
            },
            "colorscale": [
             [
              0,
              "#0d0887"
             ],
             [
              0.1111111111111111,
              "#46039f"
             ],
             [
              0.2222222222222222,
              "#7201a8"
             ],
             [
              0.3333333333333333,
              "#9c179e"
             ],
             [
              0.4444444444444444,
              "#bd3786"
             ],
             [
              0.5555555555555556,
              "#d8576b"
             ],
             [
              0.6666666666666666,
              "#ed7953"
             ],
             [
              0.7777777777777778,
              "#fb9f3a"
             ],
             [
              0.8888888888888888,
              "#fdca26"
             ],
             [
              1,
              "#f0f921"
             ]
            ],
            "type": "surface"
           }
          ],
          "table": [
           {
            "cells": {
             "fill": {
              "color": "#EBF0F8"
             },
             "line": {
              "color": "white"
             }
            },
            "header": {
             "fill": {
              "color": "#C8D4E3"
             },
             "line": {
              "color": "white"
             }
            },
            "type": "table"
           }
          ]
         },
         "layout": {
          "annotationdefaults": {
           "arrowcolor": "#2a3f5f",
           "arrowhead": 0,
           "arrowwidth": 1
          },
          "autotypenumbers": "strict",
          "coloraxis": {
           "colorbar": {
            "outlinewidth": 0,
            "ticks": ""
           }
          },
          "colorscale": {
           "diverging": [
            [
             0,
             "#8e0152"
            ],
            [
             0.1,
             "#c51b7d"
            ],
            [
             0.2,
             "#de77ae"
            ],
            [
             0.3,
             "#f1b6da"
            ],
            [
             0.4,
             "#fde0ef"
            ],
            [
             0.5,
             "#f7f7f7"
            ],
            [
             0.6,
             "#e6f5d0"
            ],
            [
             0.7,
             "#b8e186"
            ],
            [
             0.8,
             "#7fbc41"
            ],
            [
             0.9,
             "#4d9221"
            ],
            [
             1,
             "#276419"
            ]
           ],
           "sequential": [
            [
             0,
             "#0d0887"
            ],
            [
             0.1111111111111111,
             "#46039f"
            ],
            [
             0.2222222222222222,
             "#7201a8"
            ],
            [
             0.3333333333333333,
             "#9c179e"
            ],
            [
             0.4444444444444444,
             "#bd3786"
            ],
            [
             0.5555555555555556,
             "#d8576b"
            ],
            [
             0.6666666666666666,
             "#ed7953"
            ],
            [
             0.7777777777777778,
             "#fb9f3a"
            ],
            [
             0.8888888888888888,
             "#fdca26"
            ],
            [
             1,
             "#f0f921"
            ]
           ],
           "sequentialminus": [
            [
             0,
             "#0d0887"
            ],
            [
             0.1111111111111111,
             "#46039f"
            ],
            [
             0.2222222222222222,
             "#7201a8"
            ],
            [
             0.3333333333333333,
             "#9c179e"
            ],
            [
             0.4444444444444444,
             "#bd3786"
            ],
            [
             0.5555555555555556,
             "#d8576b"
            ],
            [
             0.6666666666666666,
             "#ed7953"
            ],
            [
             0.7777777777777778,
             "#fb9f3a"
            ],
            [
             0.8888888888888888,
             "#fdca26"
            ],
            [
             1,
             "#f0f921"
            ]
           ]
          },
          "colorway": [
           "#636efa",
           "#EF553B",
           "#00cc96",
           "#ab63fa",
           "#FFA15A",
           "#19d3f3",
           "#FF6692",
           "#B6E880",
           "#FF97FF",
           "#FECB52"
          ],
          "font": {
           "color": "#2a3f5f"
          },
          "geo": {
           "bgcolor": "white",
           "lakecolor": "white",
           "landcolor": "#E5ECF6",
           "showlakes": true,
           "showland": true,
           "subunitcolor": "white"
          },
          "hoverlabel": {
           "align": "left"
          },
          "hovermode": "closest",
          "mapbox": {
           "style": "light"
          },
          "paper_bgcolor": "white",
          "plot_bgcolor": "#E5ECF6",
          "polar": {
           "angularaxis": {
            "gridcolor": "white",
            "linecolor": "white",
            "ticks": ""
           },
           "bgcolor": "#E5ECF6",
           "radialaxis": {
            "gridcolor": "white",
            "linecolor": "white",
            "ticks": ""
           }
          },
          "scene": {
           "xaxis": {
            "backgroundcolor": "#E5ECF6",
            "gridcolor": "white",
            "gridwidth": 2,
            "linecolor": "white",
            "showbackground": true,
            "ticks": "",
            "zerolinecolor": "white"
           },
           "yaxis": {
            "backgroundcolor": "#E5ECF6",
            "gridcolor": "white",
            "gridwidth": 2,
            "linecolor": "white",
            "showbackground": true,
            "ticks": "",
            "zerolinecolor": "white"
           },
           "zaxis": {
            "backgroundcolor": "#E5ECF6",
            "gridcolor": "white",
            "gridwidth": 2,
            "linecolor": "white",
            "showbackground": true,
            "ticks": "",
            "zerolinecolor": "white"
           }
          },
          "shapedefaults": {
           "line": {
            "color": "#2a3f5f"
           }
          },
          "ternary": {
           "aaxis": {
            "gridcolor": "white",
            "linecolor": "white",
            "ticks": ""
           },
           "baxis": {
            "gridcolor": "white",
            "linecolor": "white",
            "ticks": ""
           },
           "bgcolor": "#E5ECF6",
           "caxis": {
            "gridcolor": "white",
            "linecolor": "white",
            "ticks": ""
           }
          },
          "title": {
           "x": 0.05
          },
          "xaxis": {
           "automargin": true,
           "gridcolor": "white",
           "linecolor": "white",
           "ticks": "",
           "title": {
            "standoff": 15
           },
           "zerolinecolor": "white",
           "zerolinewidth": 2
          },
          "yaxis": {
           "automargin": true,
           "gridcolor": "white",
           "linecolor": "white",
           "ticks": "",
           "title": {
            "standoff": 15
           },
           "zerolinecolor": "white",
           "zerolinewidth": 2
          }
         }
        },
        "title": {
         "text": "average number of people per hour"
        },
        "xaxis": {
         "anchor": "y",
         "domain": [
          0,
          1
         ],
         "title": {
          "text": "Hour"
         }
        },
        "yaxis": {
         "anchor": "x",
         "domain": [
          0,
          1
         ],
         "title": {
          "text": "value"
         }
        }
       }
      },
      "text/html": [
       "<div>                            <div id=\"6c443d18-45e9-4cfe-b55e-45adbb06aba7\" class=\"plotly-graph-div\" style=\"height:525px; width:100%;\"></div>            <script type=\"text/javascript\">                require([\"plotly\"], function(Plotly) {                    window.PLOTLYENV=window.PLOTLYENV || {};                                    if (document.getElementById(\"6c443d18-45e9-4cfe-b55e-45adbb06aba7\")) {                    Plotly.newPlot(                        \"6c443d18-45e9-4cfe-b55e-45adbb06aba7\",                        [{\"alignmentgroup\":\"True\",\"hovertemplate\":\"variable=number_of_people<br>Hour=%{x}<br>value=%{y}<extra></extra>\",\"legendgroup\":\"number_of_people\",\"marker\":{\"color\":\"#636efa\",\"pattern\":{\"shape\":\"\"}},\"name\":\"number_of_people\",\"offsetgroup\":\"number_of_people\",\"orientation\":\"v\",\"showlegend\":true,\"textposition\":\"auto\",\"x\":[\"10:00-10:20\",\"10:20-10:40\",\"10:40-11:00\",\"11:00-11:20\",\"11:20-11:40\",\"11:40-12:00\",\"12:00-12:20\",\"12:20-12:40\",\"12:40-13:00\",\"13:00-13:20\",\"13:20-13:40\",\"13:40-14:00\",\"14:00-14:20\",\"14:20-14:40\",\"14:40-15:00\",\"15:00-15:30\",\"15:30-16:00\",\"16:00-16:30\",\"16:30-17:00\",\"6:00-6:20\",\"6:20-6:40\",\"6:40-7:00\",\"7:00-7:20\",\"7:20-7:40\",\"7:40-8:00\",\"8:00-8:20\",\"8:20-8:40\",\"8:40-9:00\",\"9:00-9:20\",\"9:20-9:40\",\"9:40-10:00\"],\"xaxis\":\"x\",\"y\":[9.63953488372093,7.1395348837209305,5.244186046511628,3.9651162790697674,3.883720930232558,2.104651162790698,2.36046511627907,1.0930232558139534,0.4418604651162791,1.1511627906976745,1.1046511627906976,0.45348837209302323,0.3372093023255814,0.6627906976744186,0.5930232558139535,0.6627906976744186,0.18604651162790697,0.0,0.011627906976744186,0.9186046511627907,0.5348837209302325,0.27906976744186046,0.7674418604651163,4.1976744186046515,7.255813953488372,11.581395348837209,11.953488372093023,11.116279069767442,12.162790697674419,9.883720930232558,8.36046511627907],\"yaxis\":\"y\",\"type\":\"bar\"}],                        {\"template\":{\"data\":{\"histogram2dcontour\":[{\"type\":\"histogram2dcontour\",\"colorbar\":{\"outlinewidth\":0,\"ticks\":\"\"},\"colorscale\":[[0.0,\"#0d0887\"],[0.1111111111111111,\"#46039f\"],[0.2222222222222222,\"#7201a8\"],[0.3333333333333333,\"#9c179e\"],[0.4444444444444444,\"#bd3786\"],[0.5555555555555556,\"#d8576b\"],[0.6666666666666666,\"#ed7953\"],[0.7777777777777778,\"#fb9f3a\"],[0.8888888888888888,\"#fdca26\"],[1.0,\"#f0f921\"]]}],\"choropleth\":[{\"type\":\"choropleth\",\"colorbar\":{\"outlinewidth\":0,\"ticks\":\"\"}}],\"histogram2d\":[{\"type\":\"histogram2d\",\"colorbar\":{\"outlinewidth\":0,\"ticks\":\"\"},\"colorscale\":[[0.0,\"#0d0887\"],[0.1111111111111111,\"#46039f\"],[0.2222222222222222,\"#7201a8\"],[0.3333333333333333,\"#9c179e\"],[0.4444444444444444,\"#bd3786\"],[0.5555555555555556,\"#d8576b\"],[0.6666666666666666,\"#ed7953\"],[0.7777777777777778,\"#fb9f3a\"],[0.8888888888888888,\"#fdca26\"],[1.0,\"#f0f921\"]]}],\"heatmap\":[{\"type\":\"heatmap\",\"colorbar\":{\"outlinewidth\":0,\"ticks\":\"\"},\"colorscale\":[[0.0,\"#0d0887\"],[0.1111111111111111,\"#46039f\"],[0.2222222222222222,\"#7201a8\"],[0.3333333333333333,\"#9c179e\"],[0.4444444444444444,\"#bd3786\"],[0.5555555555555556,\"#d8576b\"],[0.6666666666666666,\"#ed7953\"],[0.7777777777777778,\"#fb9f3a\"],[0.8888888888888888,\"#fdca26\"],[1.0,\"#f0f921\"]]}],\"heatmapgl\":[{\"type\":\"heatmapgl\",\"colorbar\":{\"outlinewidth\":0,\"ticks\":\"\"},\"colorscale\":[[0.0,\"#0d0887\"],[0.1111111111111111,\"#46039f\"],[0.2222222222222222,\"#7201a8\"],[0.3333333333333333,\"#9c179e\"],[0.4444444444444444,\"#bd3786\"],[0.5555555555555556,\"#d8576b\"],[0.6666666666666666,\"#ed7953\"],[0.7777777777777778,\"#fb9f3a\"],[0.8888888888888888,\"#fdca26\"],[1.0,\"#f0f921\"]]}],\"contourcarpet\":[{\"type\":\"contourcarpet\",\"colorbar\":{\"outlinewidth\":0,\"ticks\":\"\"}}],\"contour\":[{\"type\":\"contour\",\"colorbar\":{\"outlinewidth\":0,\"ticks\":\"\"},\"colorscale\":[[0.0,\"#0d0887\"],[0.1111111111111111,\"#46039f\"],[0.2222222222222222,\"#7201a8\"],[0.3333333333333333,\"#9c179e\"],[0.4444444444444444,\"#bd3786\"],[0.5555555555555556,\"#d8576b\"],[0.6666666666666666,\"#ed7953\"],[0.7777777777777778,\"#fb9f3a\"],[0.8888888888888888,\"#fdca26\"],[1.0,\"#f0f921\"]]}],\"surface\":[{\"type\":\"surface\",\"colorbar\":{\"outlinewidth\":0,\"ticks\":\"\"},\"colorscale\":[[0.0,\"#0d0887\"],[0.1111111111111111,\"#46039f\"],[0.2222222222222222,\"#7201a8\"],[0.3333333333333333,\"#9c179e\"],[0.4444444444444444,\"#bd3786\"],[0.5555555555555556,\"#d8576b\"],[0.6666666666666666,\"#ed7953\"],[0.7777777777777778,\"#fb9f3a\"],[0.8888888888888888,\"#fdca26\"],[1.0,\"#f0f921\"]]}],\"mesh3d\":[{\"type\":\"mesh3d\",\"colorbar\":{\"outlinewidth\":0,\"ticks\":\"\"}}],\"scatter\":[{\"fillpattern\":{\"fillmode\":\"overlay\",\"size\":10,\"solidity\":0.2},\"type\":\"scatter\"}],\"parcoords\":[{\"type\":\"parcoords\",\"line\":{\"colorbar\":{\"outlinewidth\":0,\"ticks\":\"\"}}}],\"scatterpolargl\":[{\"type\":\"scatterpolargl\",\"marker\":{\"colorbar\":{\"outlinewidth\":0,\"ticks\":\"\"}}}],\"bar\":[{\"error_x\":{\"color\":\"#2a3f5f\"},\"error_y\":{\"color\":\"#2a3f5f\"},\"marker\":{\"line\":{\"color\":\"#E5ECF6\",\"width\":0.5},\"pattern\":{\"fillmode\":\"overlay\",\"size\":10,\"solidity\":0.2}},\"type\":\"bar\"}],\"scattergeo\":[{\"type\":\"scattergeo\",\"marker\":{\"colorbar\":{\"outlinewidth\":0,\"ticks\":\"\"}}}],\"scatterpolar\":[{\"type\":\"scatterpolar\",\"marker\":{\"colorbar\":{\"outlinewidth\":0,\"ticks\":\"\"}}}],\"histogram\":[{\"marker\":{\"pattern\":{\"fillmode\":\"overlay\",\"size\":10,\"solidity\":0.2}},\"type\":\"histogram\"}],\"scattergl\":[{\"type\":\"scattergl\",\"marker\":{\"colorbar\":{\"outlinewidth\":0,\"ticks\":\"\"}}}],\"scatter3d\":[{\"type\":\"scatter3d\",\"line\":{\"colorbar\":{\"outlinewidth\":0,\"ticks\":\"\"}},\"marker\":{\"colorbar\":{\"outlinewidth\":0,\"ticks\":\"\"}}}],\"scattermapbox\":[{\"type\":\"scattermapbox\",\"marker\":{\"colorbar\":{\"outlinewidth\":0,\"ticks\":\"\"}}}],\"scatterternary\":[{\"type\":\"scatterternary\",\"marker\":{\"colorbar\":{\"outlinewidth\":0,\"ticks\":\"\"}}}],\"scattercarpet\":[{\"type\":\"scattercarpet\",\"marker\":{\"colorbar\":{\"outlinewidth\":0,\"ticks\":\"\"}}}],\"carpet\":[{\"aaxis\":{\"endlinecolor\":\"#2a3f5f\",\"gridcolor\":\"white\",\"linecolor\":\"white\",\"minorgridcolor\":\"white\",\"startlinecolor\":\"#2a3f5f\"},\"baxis\":{\"endlinecolor\":\"#2a3f5f\",\"gridcolor\":\"white\",\"linecolor\":\"white\",\"minorgridcolor\":\"white\",\"startlinecolor\":\"#2a3f5f\"},\"type\":\"carpet\"}],\"table\":[{\"cells\":{\"fill\":{\"color\":\"#EBF0F8\"},\"line\":{\"color\":\"white\"}},\"header\":{\"fill\":{\"color\":\"#C8D4E3\"},\"line\":{\"color\":\"white\"}},\"type\":\"table\"}],\"barpolar\":[{\"marker\":{\"line\":{\"color\":\"#E5ECF6\",\"width\":0.5},\"pattern\":{\"fillmode\":\"overlay\",\"size\":10,\"solidity\":0.2}},\"type\":\"barpolar\"}],\"pie\":[{\"automargin\":true,\"type\":\"pie\"}]},\"layout\":{\"autotypenumbers\":\"strict\",\"colorway\":[\"#636efa\",\"#EF553B\",\"#00cc96\",\"#ab63fa\",\"#FFA15A\",\"#19d3f3\",\"#FF6692\",\"#B6E880\",\"#FF97FF\",\"#FECB52\"],\"font\":{\"color\":\"#2a3f5f\"},\"hovermode\":\"closest\",\"hoverlabel\":{\"align\":\"left\"},\"paper_bgcolor\":\"white\",\"plot_bgcolor\":\"#E5ECF6\",\"polar\":{\"bgcolor\":\"#E5ECF6\",\"angularaxis\":{\"gridcolor\":\"white\",\"linecolor\":\"white\",\"ticks\":\"\"},\"radialaxis\":{\"gridcolor\":\"white\",\"linecolor\":\"white\",\"ticks\":\"\"}},\"ternary\":{\"bgcolor\":\"#E5ECF6\",\"aaxis\":{\"gridcolor\":\"white\",\"linecolor\":\"white\",\"ticks\":\"\"},\"baxis\":{\"gridcolor\":\"white\",\"linecolor\":\"white\",\"ticks\":\"\"},\"caxis\":{\"gridcolor\":\"white\",\"linecolor\":\"white\",\"ticks\":\"\"}},\"coloraxis\":{\"colorbar\":{\"outlinewidth\":0,\"ticks\":\"\"}},\"colorscale\":{\"sequential\":[[0.0,\"#0d0887\"],[0.1111111111111111,\"#46039f\"],[0.2222222222222222,\"#7201a8\"],[0.3333333333333333,\"#9c179e\"],[0.4444444444444444,\"#bd3786\"],[0.5555555555555556,\"#d8576b\"],[0.6666666666666666,\"#ed7953\"],[0.7777777777777778,\"#fb9f3a\"],[0.8888888888888888,\"#fdca26\"],[1.0,\"#f0f921\"]],\"sequentialminus\":[[0.0,\"#0d0887\"],[0.1111111111111111,\"#46039f\"],[0.2222222222222222,\"#7201a8\"],[0.3333333333333333,\"#9c179e\"],[0.4444444444444444,\"#bd3786\"],[0.5555555555555556,\"#d8576b\"],[0.6666666666666666,\"#ed7953\"],[0.7777777777777778,\"#fb9f3a\"],[0.8888888888888888,\"#fdca26\"],[1.0,\"#f0f921\"]],\"diverging\":[[0,\"#8e0152\"],[0.1,\"#c51b7d\"],[0.2,\"#de77ae\"],[0.3,\"#f1b6da\"],[0.4,\"#fde0ef\"],[0.5,\"#f7f7f7\"],[0.6,\"#e6f5d0\"],[0.7,\"#b8e186\"],[0.8,\"#7fbc41\"],[0.9,\"#4d9221\"],[1,\"#276419\"]]},\"xaxis\":{\"gridcolor\":\"white\",\"linecolor\":\"white\",\"ticks\":\"\",\"title\":{\"standoff\":15},\"zerolinecolor\":\"white\",\"automargin\":true,\"zerolinewidth\":2},\"yaxis\":{\"gridcolor\":\"white\",\"linecolor\":\"white\",\"ticks\":\"\",\"title\":{\"standoff\":15},\"zerolinecolor\":\"white\",\"automargin\":true,\"zerolinewidth\":2},\"scene\":{\"xaxis\":{\"backgroundcolor\":\"#E5ECF6\",\"gridcolor\":\"white\",\"linecolor\":\"white\",\"showbackground\":true,\"ticks\":\"\",\"zerolinecolor\":\"white\",\"gridwidth\":2},\"yaxis\":{\"backgroundcolor\":\"#E5ECF6\",\"gridcolor\":\"white\",\"linecolor\":\"white\",\"showbackground\":true,\"ticks\":\"\",\"zerolinecolor\":\"white\",\"gridwidth\":2},\"zaxis\":{\"backgroundcolor\":\"#E5ECF6\",\"gridcolor\":\"white\",\"linecolor\":\"white\",\"showbackground\":true,\"ticks\":\"\",\"zerolinecolor\":\"white\",\"gridwidth\":2}},\"shapedefaults\":{\"line\":{\"color\":\"#2a3f5f\"}},\"annotationdefaults\":{\"arrowcolor\":\"#2a3f5f\",\"arrowhead\":0,\"arrowwidth\":1},\"geo\":{\"bgcolor\":\"white\",\"landcolor\":\"#E5ECF6\",\"subunitcolor\":\"white\",\"showland\":true,\"showlakes\":true,\"lakecolor\":\"white\"},\"title\":{\"x\":0.05},\"mapbox\":{\"style\":\"light\"}}},\"xaxis\":{\"anchor\":\"y\",\"domain\":[0.0,1.0],\"title\":{\"text\":\"Hour\"}},\"yaxis\":{\"anchor\":\"x\",\"domain\":[0.0,1.0],\"title\":{\"text\":\"value\"}},\"legend\":{\"title\":{\"text\":\"variable\"},\"tracegroupgap\":0},\"title\":{\"text\":\"average number of people per hour\"},\"barmode\":\"relative\"},                        {\"responsive\": true}                    ).then(function(){\n",
       "                            \n",
       "var gd = document.getElementById('6c443d18-45e9-4cfe-b55e-45adbb06aba7');\n",
       "var x = new MutationObserver(function (mutations, observer) {{\n",
       "        var display = window.getComputedStyle(gd).display;\n",
       "        if (!display || display === 'none') {{\n",
       "            console.log([gd, 'removed!']);\n",
       "            Plotly.purge(gd);\n",
       "            observer.disconnect();\n",
       "        }}\n",
       "}});\n",
       "\n",
       "// Listen for the removal of the full notebook cells\n",
       "var notebookContainer = gd.closest('#notebook-container');\n",
       "if (notebookContainer) {{\n",
       "    x.observe(notebookContainer, {childList: true});\n",
       "}}\n",
       "\n",
       "// Listen for the clearing of the current output cell\n",
       "var outputEl = gd.closest('.output');\n",
       "if (outputEl) {{\n",
       "    x.observe(outputEl, {childList: true});\n",
       "}}\n",
       "\n",
       "                        })                };                });            </script>        </div>"
      ]
     },
     "metadata": {},
     "output_type": "display_data"
    }
   ],
   "source": [
    "px.bar(data_frame=avg_people_by_hour, title='average number of people per hour')"
   ]
  },
  {
   "cell_type": "code",
   "execution_count": 114,
   "id": "4bec03d1",
   "metadata": {},
   "outputs": [
    {
     "data": {
      "text/html": [
       "<div>\n",
       "<style scoped>\n",
       "    .dataframe tbody tr th:only-of-type {\n",
       "        vertical-align: middle;\n",
       "    }\n",
       "\n",
       "    .dataframe tbody tr th {\n",
       "        vertical-align: top;\n",
       "    }\n",
       "\n",
       "    .dataframe thead th {\n",
       "        text-align: right;\n",
       "    }\n",
       "</style>\n",
       "<table border=\"1\" class=\"dataframe\">\n",
       "  <thead>\n",
       "    <tr style=\"text-align: right;\">\n",
       "      <th></th>\n",
       "      <th>Hour</th>\n",
       "      <th>date</th>\n",
       "      <th>number_of_people</th>\n",
       "      <th>month</th>\n",
       "    </tr>\n",
       "  </thead>\n",
       "  <tbody>\n",
       "    <tr>\n",
       "      <th>0</th>\n",
       "      <td>6:00-6:20</td>\n",
       "      <td>2022-09-01</td>\n",
       "      <td>0</td>\n",
       "      <td>September</td>\n",
       "    </tr>\n",
       "    <tr>\n",
       "      <th>1</th>\n",
       "      <td>6:00-6:20</td>\n",
       "      <td>2022-09-02</td>\n",
       "      <td>0</td>\n",
       "      <td>September</td>\n",
       "    </tr>\n",
       "    <tr>\n",
       "      <th>2</th>\n",
       "      <td>6:00-6:20</td>\n",
       "      <td>2022-09-03</td>\n",
       "      <td>0</td>\n",
       "      <td>September</td>\n",
       "    </tr>\n",
       "    <tr>\n",
       "      <th>3</th>\n",
       "      <td>6:00-6:20</td>\n",
       "      <td>2022-09-04</td>\n",
       "      <td>0</td>\n",
       "      <td>September</td>\n",
       "    </tr>\n",
       "    <tr>\n",
       "      <th>4</th>\n",
       "      <td>6:00-6:20</td>\n",
       "      <td>2022-09-05</td>\n",
       "      <td>0</td>\n",
       "      <td>September</td>\n",
       "    </tr>\n",
       "    <tr>\n",
       "      <th>...</th>\n",
       "      <td>...</td>\n",
       "      <td>...</td>\n",
       "      <td>...</td>\n",
       "      <td>...</td>\n",
       "    </tr>\n",
       "    <tr>\n",
       "      <th>2661</th>\n",
       "      <td>16:30-17:00</td>\n",
       "      <td>2022-11-21</td>\n",
       "      <td>0</td>\n",
       "      <td>November</td>\n",
       "    </tr>\n",
       "    <tr>\n",
       "      <th>2662</th>\n",
       "      <td>16:30-17:00</td>\n",
       "      <td>2022-11-22</td>\n",
       "      <td>0</td>\n",
       "      <td>November</td>\n",
       "    </tr>\n",
       "    <tr>\n",
       "      <th>2663</th>\n",
       "      <td>16:30-17:00</td>\n",
       "      <td>2022-11-23</td>\n",
       "      <td>0</td>\n",
       "      <td>November</td>\n",
       "    </tr>\n",
       "    <tr>\n",
       "      <th>2664</th>\n",
       "      <td>16:30-17:00</td>\n",
       "      <td>2022-11-24</td>\n",
       "      <td>0</td>\n",
       "      <td>November</td>\n",
       "    </tr>\n",
       "    <tr>\n",
       "      <th>2665</th>\n",
       "      <td>16:30-17:00</td>\n",
       "      <td>2022-11-25</td>\n",
       "      <td>0</td>\n",
       "      <td>November</td>\n",
       "    </tr>\n",
       "  </tbody>\n",
       "</table>\n",
       "<p>2666 rows × 4 columns</p>\n",
       "</div>"
      ],
      "text/plain": [
       "             Hour       date  number_of_people      month\n",
       "0       6:00-6:20 2022-09-01                 0  September\n",
       "1       6:00-6:20 2022-09-02                 0  September\n",
       "2       6:00-6:20 2022-09-03                 0  September\n",
       "3       6:00-6:20 2022-09-04                 0  September\n",
       "4       6:00-6:20 2022-09-05                 0  September\n",
       "...           ...        ...               ...        ...\n",
       "2661  16:30-17:00 2022-11-21                 0   November\n",
       "2662  16:30-17:00 2022-11-22                 0   November\n",
       "2663  16:30-17:00 2022-11-23                 0   November\n",
       "2664  16:30-17:00 2022-11-24                 0   November\n",
       "2665  16:30-17:00 2022-11-25                 0   November\n",
       "\n",
       "[2666 rows x 4 columns]"
      ]
     },
     "execution_count": 114,
     "metadata": {},
     "output_type": "execute_result"
    }
   ],
   "source": [
    "shuttles_hills_stacked['month'] = shuttles_hills_stacked['date'].dt.month_name()\n",
    "shuttles_hills_stacked"
   ]
  },
  {
   "cell_type": "code",
   "execution_count": 130,
   "id": "793ecfd6",
   "metadata": {},
   "outputs": [
    {
     "data": {
      "text/html": [
       "<div>\n",
       "<style scoped>\n",
       "    .dataframe tbody tr th:only-of-type {\n",
       "        vertical-align: middle;\n",
       "    }\n",
       "\n",
       "    .dataframe tbody tr th {\n",
       "        vertical-align: top;\n",
       "    }\n",
       "\n",
       "    .dataframe thead th {\n",
       "        text-align: right;\n",
       "    }\n",
       "</style>\n",
       "<table border=\"1\" class=\"dataframe\">\n",
       "  <thead>\n",
       "    <tr style=\"text-align: right;\">\n",
       "      <th></th>\n",
       "      <th>month</th>\n",
       "      <th>Hour</th>\n",
       "      <th>number_of_people</th>\n",
       "    </tr>\n",
       "  </thead>\n",
       "  <tbody>\n",
       "    <tr>\n",
       "      <th>19</th>\n",
       "      <td>November</td>\n",
       "      <td>06:00-6:20</td>\n",
       "      <td>0</td>\n",
       "    </tr>\n",
       "    <tr>\n",
       "      <th>20</th>\n",
       "      <td>November</td>\n",
       "      <td>06:20-6:40</td>\n",
       "      <td>0</td>\n",
       "    </tr>\n",
       "    <tr>\n",
       "      <th>21</th>\n",
       "      <td>November</td>\n",
       "      <td>06:40-7:00</td>\n",
       "      <td>0</td>\n",
       "    </tr>\n",
       "    <tr>\n",
       "      <th>22</th>\n",
       "      <td>November</td>\n",
       "      <td>07:00-7:20</td>\n",
       "      <td>0</td>\n",
       "    </tr>\n",
       "    <tr>\n",
       "      <th>23</th>\n",
       "      <td>November</td>\n",
       "      <td>07:20-7:40</td>\n",
       "      <td>2</td>\n",
       "    </tr>\n",
       "    <tr>\n",
       "      <th>24</th>\n",
       "      <td>November</td>\n",
       "      <td>07:40-8:00</td>\n",
       "      <td>6</td>\n",
       "    </tr>\n",
       "    <tr>\n",
       "      <th>25</th>\n",
       "      <td>November</td>\n",
       "      <td>08:00-8:20</td>\n",
       "      <td>9</td>\n",
       "    </tr>\n",
       "    <tr>\n",
       "      <th>26</th>\n",
       "      <td>November</td>\n",
       "      <td>08:20-8:40</td>\n",
       "      <td>12</td>\n",
       "    </tr>\n",
       "    <tr>\n",
       "      <th>27</th>\n",
       "      <td>November</td>\n",
       "      <td>08:40-9:00</td>\n",
       "      <td>12</td>\n",
       "    </tr>\n",
       "    <tr>\n",
       "      <th>28</th>\n",
       "      <td>November</td>\n",
       "      <td>09:00-9:20</td>\n",
       "      <td>11</td>\n",
       "    </tr>\n",
       "    <tr>\n",
       "      <th>29</th>\n",
       "      <td>November</td>\n",
       "      <td>09:20-9:40</td>\n",
       "      <td>9</td>\n",
       "    </tr>\n",
       "    <tr>\n",
       "      <th>30</th>\n",
       "      <td>November</td>\n",
       "      <td>09:40-10:00</td>\n",
       "      <td>7</td>\n",
       "    </tr>\n",
       "    <tr>\n",
       "      <th>0</th>\n",
       "      <td>November</td>\n",
       "      <td>10:00-10:20</td>\n",
       "      <td>7</td>\n",
       "    </tr>\n",
       "    <tr>\n",
       "      <th>1</th>\n",
       "      <td>November</td>\n",
       "      <td>10:20-10:40</td>\n",
       "      <td>4</td>\n",
       "    </tr>\n",
       "    <tr>\n",
       "      <th>2</th>\n",
       "      <td>November</td>\n",
       "      <td>10:40-11:00</td>\n",
       "      <td>2</td>\n",
       "    </tr>\n",
       "    <tr>\n",
       "      <th>3</th>\n",
       "      <td>November</td>\n",
       "      <td>11:00-11:20</td>\n",
       "      <td>3</td>\n",
       "    </tr>\n",
       "    <tr>\n",
       "      <th>4</th>\n",
       "      <td>November</td>\n",
       "      <td>11:20-11:40</td>\n",
       "      <td>1</td>\n",
       "    </tr>\n",
       "    <tr>\n",
       "      <th>5</th>\n",
       "      <td>November</td>\n",
       "      <td>11:40-12:00</td>\n",
       "      <td>0</td>\n",
       "    </tr>\n",
       "    <tr>\n",
       "      <th>6</th>\n",
       "      <td>November</td>\n",
       "      <td>12:00-12:20</td>\n",
       "      <td>0</td>\n",
       "    </tr>\n",
       "    <tr>\n",
       "      <th>7</th>\n",
       "      <td>November</td>\n",
       "      <td>12:20-12:40</td>\n",
       "      <td>0</td>\n",
       "    </tr>\n",
       "    <tr>\n",
       "      <th>8</th>\n",
       "      <td>November</td>\n",
       "      <td>12:40-13:00</td>\n",
       "      <td>0</td>\n",
       "    </tr>\n",
       "    <tr>\n",
       "      <th>9</th>\n",
       "      <td>November</td>\n",
       "      <td>13:00-13:20</td>\n",
       "      <td>0</td>\n",
       "    </tr>\n",
       "    <tr>\n",
       "      <th>10</th>\n",
       "      <td>November</td>\n",
       "      <td>13:20-13:40</td>\n",
       "      <td>0</td>\n",
       "    </tr>\n",
       "    <tr>\n",
       "      <th>11</th>\n",
       "      <td>November</td>\n",
       "      <td>13:40-14:00</td>\n",
       "      <td>0</td>\n",
       "    </tr>\n",
       "    <tr>\n",
       "      <th>12</th>\n",
       "      <td>November</td>\n",
       "      <td>14:00-14:20</td>\n",
       "      <td>0</td>\n",
       "    </tr>\n",
       "    <tr>\n",
       "      <th>13</th>\n",
       "      <td>November</td>\n",
       "      <td>14:20-14:40</td>\n",
       "      <td>0</td>\n",
       "    </tr>\n",
       "    <tr>\n",
       "      <th>14</th>\n",
       "      <td>November</td>\n",
       "      <td>14:40-15:00</td>\n",
       "      <td>0</td>\n",
       "    </tr>\n",
       "    <tr>\n",
       "      <th>15</th>\n",
       "      <td>November</td>\n",
       "      <td>15:00-15:30</td>\n",
       "      <td>0</td>\n",
       "    </tr>\n",
       "    <tr>\n",
       "      <th>16</th>\n",
       "      <td>November</td>\n",
       "      <td>15:30-16:00</td>\n",
       "      <td>0</td>\n",
       "    </tr>\n",
       "    <tr>\n",
       "      <th>17</th>\n",
       "      <td>November</td>\n",
       "      <td>16:00-16:30</td>\n",
       "      <td>0</td>\n",
       "    </tr>\n",
       "  </tbody>\n",
       "</table>\n",
       "</div>"
      ],
      "text/plain": [
       "       month         Hour  number_of_people\n",
       "19  November   06:00-6:20                 0\n",
       "20  November   06:20-6:40                 0\n",
       "21  November   06:40-7:00                 0\n",
       "22  November   07:00-7:20                 0\n",
       "23  November   07:20-7:40                 2\n",
       "24  November   07:40-8:00                 6\n",
       "25  November   08:00-8:20                 9\n",
       "26  November   08:20-8:40                12\n",
       "27  November   08:40-9:00                12\n",
       "28  November   09:00-9:20                11\n",
       "29  November   09:20-9:40                 9\n",
       "30  November  09:40-10:00                 7\n",
       "0   November  10:00-10:20                 7\n",
       "1   November  10:20-10:40                 4\n",
       "2   November  10:40-11:00                 2\n",
       "3   November  11:00-11:20                 3\n",
       "4   November  11:20-11:40                 1\n",
       "5   November  11:40-12:00                 0\n",
       "6   November  12:00-12:20                 0\n",
       "7   November  12:20-12:40                 0\n",
       "8   November  12:40-13:00                 0\n",
       "9   November  13:00-13:20                 0\n",
       "10  November  13:20-13:40                 0\n",
       "11  November  13:40-14:00                 0\n",
       "12  November  14:00-14:20                 0\n",
       "13  November  14:20-14:40                 0\n",
       "14  November  14:40-15:00                 0\n",
       "15  November  15:00-15:30                 0\n",
       "16  November  15:30-16:00                 0\n",
       "17  November  16:00-16:30                 0"
      ]
     },
     "execution_count": 130,
     "metadata": {},
     "output_type": "execute_result"
    }
   ],
   "source": [
    "group_by_month = shuttles_hills_stacked.groupby(['month', 'Hour']).mean().reset_index()\n",
    "group_by_month['Hour'] = [row if len(row) == 11 else '0'+row for row in group_by_month['Hour']]\n",
    "group_by_month = group_by_month.sort_values(by=['month', 'Hour'])\n",
    "group_by_month['number_of_people'] = group_by_month['number_of_people'].astype(int)\n",
    "group_by_month.head(30)"
   ]
  },
  {
   "cell_type": "code",
   "execution_count": 133,
   "id": "6b495e75",
   "metadata": {},
   "outputs": [
    {
     "data": {
      "text/html": [
       "<div>\n",
       "<style scoped>\n",
       "    .dataframe tbody tr th:only-of-type {\n",
       "        vertical-align: middle;\n",
       "    }\n",
       "\n",
       "    .dataframe tbody tr th {\n",
       "        vertical-align: top;\n",
       "    }\n",
       "\n",
       "    .dataframe thead th {\n",
       "        text-align: right;\n",
       "    }\n",
       "</style>\n",
       "<table border=\"1\" class=\"dataframe\">\n",
       "  <thead>\n",
       "    <tr style=\"text-align: right;\">\n",
       "      <th></th>\n",
       "      <th>month</th>\n",
       "      <th>Hour</th>\n",
       "      <th>number_of_people</th>\n",
       "    </tr>\n",
       "  </thead>\n",
       "  <tbody>\n",
       "    <tr>\n",
       "      <th>50</th>\n",
       "      <td>October</td>\n",
       "      <td>06:00-6:20</td>\n",
       "      <td>1</td>\n",
       "    </tr>\n",
       "    <tr>\n",
       "      <th>51</th>\n",
       "      <td>October</td>\n",
       "      <td>06:20-6:40</td>\n",
       "      <td>0</td>\n",
       "    </tr>\n",
       "    <tr>\n",
       "      <th>52</th>\n",
       "      <td>October</td>\n",
       "      <td>06:40-7:00</td>\n",
       "      <td>0</td>\n",
       "    </tr>\n",
       "    <tr>\n",
       "      <th>53</th>\n",
       "      <td>October</td>\n",
       "      <td>07:00-7:20</td>\n",
       "      <td>1</td>\n",
       "    </tr>\n",
       "    <tr>\n",
       "      <th>54</th>\n",
       "      <td>October</td>\n",
       "      <td>07:20-7:40</td>\n",
       "      <td>4</td>\n",
       "    </tr>\n",
       "    <tr>\n",
       "      <th>55</th>\n",
       "      <td>October</td>\n",
       "      <td>07:40-8:00</td>\n",
       "      <td>10</td>\n",
       "    </tr>\n",
       "    <tr>\n",
       "      <th>56</th>\n",
       "      <td>October</td>\n",
       "      <td>08:00-8:20</td>\n",
       "      <td>16</td>\n",
       "    </tr>\n",
       "    <tr>\n",
       "      <th>57</th>\n",
       "      <td>October</td>\n",
       "      <td>08:20-8:40</td>\n",
       "      <td>14</td>\n",
       "    </tr>\n",
       "    <tr>\n",
       "      <th>58</th>\n",
       "      <td>October</td>\n",
       "      <td>08:40-9:00</td>\n",
       "      <td>14</td>\n",
       "    </tr>\n",
       "    <tr>\n",
       "      <th>59</th>\n",
       "      <td>October</td>\n",
       "      <td>09:00-9:20</td>\n",
       "      <td>14</td>\n",
       "    </tr>\n",
       "    <tr>\n",
       "      <th>60</th>\n",
       "      <td>October</td>\n",
       "      <td>09:20-9:40</td>\n",
       "      <td>12</td>\n",
       "    </tr>\n",
       "    <tr>\n",
       "      <th>61</th>\n",
       "      <td>October</td>\n",
       "      <td>09:40-10:00</td>\n",
       "      <td>11</td>\n",
       "    </tr>\n",
       "    <tr>\n",
       "      <th>31</th>\n",
       "      <td>October</td>\n",
       "      <td>10:00-10:20</td>\n",
       "      <td>12</td>\n",
       "    </tr>\n",
       "    <tr>\n",
       "      <th>32</th>\n",
       "      <td>October</td>\n",
       "      <td>10:20-10:40</td>\n",
       "      <td>9</td>\n",
       "    </tr>\n",
       "    <tr>\n",
       "      <th>33</th>\n",
       "      <td>October</td>\n",
       "      <td>10:40-11:00</td>\n",
       "      <td>8</td>\n",
       "    </tr>\n",
       "    <tr>\n",
       "      <th>34</th>\n",
       "      <td>October</td>\n",
       "      <td>11:00-11:20</td>\n",
       "      <td>5</td>\n",
       "    </tr>\n",
       "    <tr>\n",
       "      <th>35</th>\n",
       "      <td>October</td>\n",
       "      <td>11:20-11:40</td>\n",
       "      <td>6</td>\n",
       "    </tr>\n",
       "    <tr>\n",
       "      <th>36</th>\n",
       "      <td>October</td>\n",
       "      <td>11:40-12:00</td>\n",
       "      <td>3</td>\n",
       "    </tr>\n",
       "    <tr>\n",
       "      <th>37</th>\n",
       "      <td>October</td>\n",
       "      <td>12:00-12:20</td>\n",
       "      <td>3</td>\n",
       "    </tr>\n",
       "    <tr>\n",
       "      <th>38</th>\n",
       "      <td>October</td>\n",
       "      <td>12:20-12:40</td>\n",
       "      <td>2</td>\n",
       "    </tr>\n",
       "    <tr>\n",
       "      <th>39</th>\n",
       "      <td>October</td>\n",
       "      <td>12:40-13:00</td>\n",
       "      <td>0</td>\n",
       "    </tr>\n",
       "    <tr>\n",
       "      <th>40</th>\n",
       "      <td>October</td>\n",
       "      <td>13:00-13:20</td>\n",
       "      <td>1</td>\n",
       "    </tr>\n",
       "    <tr>\n",
       "      <th>41</th>\n",
       "      <td>October</td>\n",
       "      <td>13:20-13:40</td>\n",
       "      <td>0</td>\n",
       "    </tr>\n",
       "    <tr>\n",
       "      <th>42</th>\n",
       "      <td>October</td>\n",
       "      <td>13:40-14:00</td>\n",
       "      <td>0</td>\n",
       "    </tr>\n",
       "    <tr>\n",
       "      <th>43</th>\n",
       "      <td>October</td>\n",
       "      <td>14:00-14:20</td>\n",
       "      <td>0</td>\n",
       "    </tr>\n",
       "    <tr>\n",
       "      <th>44</th>\n",
       "      <td>October</td>\n",
       "      <td>14:20-14:40</td>\n",
       "      <td>0</td>\n",
       "    </tr>\n",
       "    <tr>\n",
       "      <th>45</th>\n",
       "      <td>October</td>\n",
       "      <td>14:40-15:00</td>\n",
       "      <td>0</td>\n",
       "    </tr>\n",
       "    <tr>\n",
       "      <th>46</th>\n",
       "      <td>October</td>\n",
       "      <td>15:00-15:30</td>\n",
       "      <td>0</td>\n",
       "    </tr>\n",
       "    <tr>\n",
       "      <th>47</th>\n",
       "      <td>October</td>\n",
       "      <td>15:30-16:00</td>\n",
       "      <td>0</td>\n",
       "    </tr>\n",
       "    <tr>\n",
       "      <th>48</th>\n",
       "      <td>October</td>\n",
       "      <td>16:00-16:30</td>\n",
       "      <td>0</td>\n",
       "    </tr>\n",
       "    <tr>\n",
       "      <th>49</th>\n",
       "      <td>October</td>\n",
       "      <td>16:30-17:00</td>\n",
       "      <td>0</td>\n",
       "    </tr>\n",
       "  </tbody>\n",
       "</table>\n",
       "</div>"
      ],
      "text/plain": [
       "      month         Hour  number_of_people\n",
       "50  October   06:00-6:20                 1\n",
       "51  October   06:20-6:40                 0\n",
       "52  October   06:40-7:00                 0\n",
       "53  October   07:00-7:20                 1\n",
       "54  October   07:20-7:40                 4\n",
       "55  October   07:40-8:00                10\n",
       "56  October   08:00-8:20                16\n",
       "57  October   08:20-8:40                14\n",
       "58  October   08:40-9:00                14\n",
       "59  October   09:00-9:20                14\n",
       "60  October   09:20-9:40                12\n",
       "61  October  09:40-10:00                11\n",
       "31  October  10:00-10:20                12\n",
       "32  October  10:20-10:40                 9\n",
       "33  October  10:40-11:00                 8\n",
       "34  October  11:00-11:20                 5\n",
       "35  October  11:20-11:40                 6\n",
       "36  October  11:40-12:00                 3\n",
       "37  October  12:00-12:20                 3\n",
       "38  October  12:20-12:40                 2\n",
       "39  October  12:40-13:00                 0\n",
       "40  October  13:00-13:20                 1\n",
       "41  October  13:20-13:40                 0\n",
       "42  October  13:40-14:00                 0\n",
       "43  October  14:00-14:20                 0\n",
       "44  October  14:20-14:40                 0\n",
       "45  October  14:40-15:00                 0\n",
       "46  October  15:00-15:30                 0\n",
       "47  October  15:30-16:00                 0\n",
       "48  October  16:00-16:30                 0\n",
       "49  October  16:30-17:00                 0"
      ]
     },
     "execution_count": 133,
     "metadata": {},
     "output_type": "execute_result"
    }
   ],
   "source": [
    "group_by_month.loc[group_by_month.month == 'October']"
   ]
  },
  {
   "cell_type": "code",
   "execution_count": 131,
   "id": "4ce12a8b",
   "metadata": {},
   "outputs": [
    {
     "data": {
      "application/vnd.plotly.v1+json": {
       "config": {
        "plotlyServerURL": "https://plot.ly"
       },
       "data": [
        {
         "alignmentgroup": "True",
         "hovertemplate": "Hour=06:00-6:20<br>month=%{x}<br>number_of_people=%{y}<extra></extra>",
         "legendgroup": "06:00-6:20",
         "marker": {
          "color": "#636efa",
          "pattern": {
           "shape": ""
          }
         },
         "name": "06:00-6:20",
         "offsetgroup": "06:00-6:20",
         "orientation": "v",
         "showlegend": true,
         "textposition": "auto",
         "type": "bar",
         "x": [
          "November",
          "October",
          "September"
         ],
         "xaxis": "x",
         "y": [
          0,
          1,
          0
         ],
         "yaxis": "y"
        },
        {
         "alignmentgroup": "True",
         "hovertemplate": "Hour=06:20-6:40<br>month=%{x}<br>number_of_people=%{y}<extra></extra>",
         "legendgroup": "06:20-6:40",
         "marker": {
          "color": "#EF553B",
          "pattern": {
           "shape": ""
          }
         },
         "name": "06:20-6:40",
         "offsetgroup": "06:20-6:40",
         "orientation": "v",
         "showlegend": true,
         "textposition": "auto",
         "type": "bar",
         "x": [
          "November",
          "October",
          "September"
         ],
         "xaxis": "x",
         "y": [
          0,
          0,
          0
         ],
         "yaxis": "y"
        },
        {
         "alignmentgroup": "True",
         "hovertemplate": "Hour=06:40-7:00<br>month=%{x}<br>number_of_people=%{y}<extra></extra>",
         "legendgroup": "06:40-7:00",
         "marker": {
          "color": "#00cc96",
          "pattern": {
           "shape": ""
          }
         },
         "name": "06:40-7:00",
         "offsetgroup": "06:40-7:00",
         "orientation": "v",
         "showlegend": true,
         "textposition": "auto",
         "type": "bar",
         "x": [
          "November",
          "October",
          "September"
         ],
         "xaxis": "x",
         "y": [
          0,
          0,
          0
         ],
         "yaxis": "y"
        },
        {
         "alignmentgroup": "True",
         "hovertemplate": "Hour=07:00-7:20<br>month=%{x}<br>number_of_people=%{y}<extra></extra>",
         "legendgroup": "07:00-7:20",
         "marker": {
          "color": "#ab63fa",
          "pattern": {
           "shape": ""
          }
         },
         "name": "07:00-7:20",
         "offsetgroup": "07:00-7:20",
         "orientation": "v",
         "showlegend": true,
         "textposition": "auto",
         "type": "bar",
         "x": [
          "November",
          "October",
          "September"
         ],
         "xaxis": "x",
         "y": [
          0,
          1,
          0
         ],
         "yaxis": "y"
        },
        {
         "alignmentgroup": "True",
         "hovertemplate": "Hour=07:20-7:40<br>month=%{x}<br>number_of_people=%{y}<extra></extra>",
         "legendgroup": "07:20-7:40",
         "marker": {
          "color": "#FFA15A",
          "pattern": {
           "shape": ""
          }
         },
         "name": "07:20-7:40",
         "offsetgroup": "07:20-7:40",
         "orientation": "v",
         "showlegend": true,
         "textposition": "auto",
         "type": "bar",
         "x": [
          "November",
          "October",
          "September"
         ],
         "xaxis": "x",
         "y": [
          2,
          4,
          4
         ],
         "yaxis": "y"
        },
        {
         "alignmentgroup": "True",
         "hovertemplate": "Hour=07:40-8:00<br>month=%{x}<br>number_of_people=%{y}<extra></extra>",
         "legendgroup": "07:40-8:00",
         "marker": {
          "color": "#19d3f3",
          "pattern": {
           "shape": ""
          }
         },
         "name": "07:40-8:00",
         "offsetgroup": "07:40-8:00",
         "orientation": "v",
         "showlegend": true,
         "textposition": "auto",
         "type": "bar",
         "x": [
          "November",
          "October",
          "September"
         ],
         "xaxis": "x",
         "y": [
          6,
          10,
          5
         ],
         "yaxis": "y"
        },
        {
         "alignmentgroup": "True",
         "hovertemplate": "Hour=08:00-8:20<br>month=%{x}<br>number_of_people=%{y}<extra></extra>",
         "legendgroup": "08:00-8:20",
         "marker": {
          "color": "#FF6692",
          "pattern": {
           "shape": ""
          }
         },
         "name": "08:00-8:20",
         "offsetgroup": "08:00-8:20",
         "orientation": "v",
         "showlegend": true,
         "textposition": "auto",
         "type": "bar",
         "x": [
          "November",
          "October",
          "September"
         ],
         "xaxis": "x",
         "y": [
          9,
          16,
          9
         ],
         "yaxis": "y"
        },
        {
         "alignmentgroup": "True",
         "hovertemplate": "Hour=08:20-8:40<br>month=%{x}<br>number_of_people=%{y}<extra></extra>",
         "legendgroup": "08:20-8:40",
         "marker": {
          "color": "#B6E880",
          "pattern": {
           "shape": ""
          }
         },
         "name": "08:20-8:40",
         "offsetgroup": "08:20-8:40",
         "orientation": "v",
         "showlegend": true,
         "textposition": "auto",
         "type": "bar",
         "x": [
          "November",
          "October",
          "September"
         ],
         "xaxis": "x",
         "y": [
          12,
          14,
          8
         ],
         "yaxis": "y"
        },
        {
         "alignmentgroup": "True",
         "hovertemplate": "Hour=08:40-9:00<br>month=%{x}<br>number_of_people=%{y}<extra></extra>",
         "legendgroup": "08:40-9:00",
         "marker": {
          "color": "#FF97FF",
          "pattern": {
           "shape": ""
          }
         },
         "name": "08:40-9:00",
         "offsetgroup": "08:40-9:00",
         "orientation": "v",
         "showlegend": true,
         "textposition": "auto",
         "type": "bar",
         "x": [
          "November",
          "October",
          "September"
         ],
         "xaxis": "x",
         "y": [
          12,
          14,
          6
         ],
         "yaxis": "y"
        },
        {
         "alignmentgroup": "True",
         "hovertemplate": "Hour=09:00-9:20<br>month=%{x}<br>number_of_people=%{y}<extra></extra>",
         "legendgroup": "09:00-9:20",
         "marker": {
          "color": "#FECB52",
          "pattern": {
           "shape": ""
          }
         },
         "name": "09:00-9:20",
         "offsetgroup": "09:00-9:20",
         "orientation": "v",
         "showlegend": true,
         "textposition": "auto",
         "type": "bar",
         "x": [
          "November",
          "October",
          "September"
         ],
         "xaxis": "x",
         "y": [
          11,
          14,
          9
         ],
         "yaxis": "y"
        },
        {
         "alignmentgroup": "True",
         "hovertemplate": "Hour=09:20-9:40<br>month=%{x}<br>number_of_people=%{y}<extra></extra>",
         "legendgroup": "09:20-9:40",
         "marker": {
          "color": "#636efa",
          "pattern": {
           "shape": ""
          }
         },
         "name": "09:20-9:40",
         "offsetgroup": "09:20-9:40",
         "orientation": "v",
         "showlegend": true,
         "textposition": "auto",
         "type": "bar",
         "x": [
          "November",
          "October",
          "September"
         ],
         "xaxis": "x",
         "y": [
          9,
          12,
          7
         ],
         "yaxis": "y"
        },
        {
         "alignmentgroup": "True",
         "hovertemplate": "Hour=09:40-10:00<br>month=%{x}<br>number_of_people=%{y}<extra></extra>",
         "legendgroup": "09:40-10:00",
         "marker": {
          "color": "#EF553B",
          "pattern": {
           "shape": ""
          }
         },
         "name": "09:40-10:00",
         "offsetgroup": "09:40-10:00",
         "orientation": "v",
         "showlegend": true,
         "textposition": "auto",
         "type": "bar",
         "x": [
          "November",
          "October",
          "September"
         ],
         "xaxis": "x",
         "y": [
          7,
          11,
          5
         ],
         "yaxis": "y"
        },
        {
         "alignmentgroup": "True",
         "hovertemplate": "Hour=10:00-10:20<br>month=%{x}<br>number_of_people=%{y}<extra></extra>",
         "legendgroup": "10:00-10:20",
         "marker": {
          "color": "#00cc96",
          "pattern": {
           "shape": ""
          }
         },
         "name": "10:00-10:20",
         "offsetgroup": "10:00-10:20",
         "orientation": "v",
         "showlegend": true,
         "textposition": "auto",
         "type": "bar",
         "x": [
          "November",
          "October",
          "September"
         ],
         "xaxis": "x",
         "y": [
          7,
          12,
          8
         ],
         "yaxis": "y"
        },
        {
         "alignmentgroup": "True",
         "hovertemplate": "Hour=10:20-10:40<br>month=%{x}<br>number_of_people=%{y}<extra></extra>",
         "legendgroup": "10:20-10:40",
         "marker": {
          "color": "#ab63fa",
          "pattern": {
           "shape": ""
          }
         },
         "name": "10:20-10:40",
         "offsetgroup": "10:20-10:40",
         "orientation": "v",
         "showlegend": true,
         "textposition": "auto",
         "type": "bar",
         "x": [
          "November",
          "October",
          "September"
         ],
         "xaxis": "x",
         "y": [
          4,
          9,
          6
         ],
         "yaxis": "y"
        },
        {
         "alignmentgroup": "True",
         "hovertemplate": "Hour=10:40-11:00<br>month=%{x}<br>number_of_people=%{y}<extra></extra>",
         "legendgroup": "10:40-11:00",
         "marker": {
          "color": "#FFA15A",
          "pattern": {
           "shape": ""
          }
         },
         "name": "10:40-11:00",
         "offsetgroup": "10:40-11:00",
         "orientation": "v",
         "showlegend": true,
         "textposition": "auto",
         "type": "bar",
         "x": [
          "November",
          "October",
          "September"
         ],
         "xaxis": "x",
         "y": [
          2,
          8,
          4
         ],
         "yaxis": "y"
        },
        {
         "alignmentgroup": "True",
         "hovertemplate": "Hour=11:00-11:20<br>month=%{x}<br>number_of_people=%{y}<extra></extra>",
         "legendgroup": "11:00-11:20",
         "marker": {
          "color": "#19d3f3",
          "pattern": {
           "shape": ""
          }
         },
         "name": "11:00-11:20",
         "offsetgroup": "11:00-11:20",
         "orientation": "v",
         "showlegend": true,
         "textposition": "auto",
         "type": "bar",
         "x": [
          "November",
          "October",
          "September"
         ],
         "xaxis": "x",
         "y": [
          3,
          5,
          2
         ],
         "yaxis": "y"
        },
        {
         "alignmentgroup": "True",
         "hovertemplate": "Hour=11:20-11:40<br>month=%{x}<br>number_of_people=%{y}<extra></extra>",
         "legendgroup": "11:20-11:40",
         "marker": {
          "color": "#FF6692",
          "pattern": {
           "shape": ""
          }
         },
         "name": "11:20-11:40",
         "offsetgroup": "11:20-11:40",
         "orientation": "v",
         "showlegend": true,
         "textposition": "auto",
         "type": "bar",
         "x": [
          "November",
          "October",
          "September"
         ],
         "xaxis": "x",
         "y": [
          1,
          6,
          3
         ],
         "yaxis": "y"
        },
        {
         "alignmentgroup": "True",
         "hovertemplate": "Hour=11:40-12:00<br>month=%{x}<br>number_of_people=%{y}<extra></extra>",
         "legendgroup": "11:40-12:00",
         "marker": {
          "color": "#B6E880",
          "pattern": {
           "shape": ""
          }
         },
         "name": "11:40-12:00",
         "offsetgroup": "11:40-12:00",
         "orientation": "v",
         "showlegend": true,
         "textposition": "auto",
         "type": "bar",
         "x": [
          "November",
          "October",
          "September"
         ],
         "xaxis": "x",
         "y": [
          0,
          3,
          1
         ],
         "yaxis": "y"
        },
        {
         "alignmentgroup": "True",
         "hovertemplate": "Hour=12:00-12:20<br>month=%{x}<br>number_of_people=%{y}<extra></extra>",
         "legendgroup": "12:00-12:20",
         "marker": {
          "color": "#FF97FF",
          "pattern": {
           "shape": ""
          }
         },
         "name": "12:00-12:20",
         "offsetgroup": "12:00-12:20",
         "orientation": "v",
         "showlegend": true,
         "textposition": "auto",
         "type": "bar",
         "x": [
          "November",
          "October",
          "September"
         ],
         "xaxis": "x",
         "y": [
          0,
          3,
          2
         ],
         "yaxis": "y"
        },
        {
         "alignmentgroup": "True",
         "hovertemplate": "Hour=12:20-12:40<br>month=%{x}<br>number_of_people=%{y}<extra></extra>",
         "legendgroup": "12:20-12:40",
         "marker": {
          "color": "#FECB52",
          "pattern": {
           "shape": ""
          }
         },
         "name": "12:20-12:40",
         "offsetgroup": "12:20-12:40",
         "orientation": "v",
         "showlegend": true,
         "textposition": "auto",
         "type": "bar",
         "x": [
          "November",
          "October",
          "September"
         ],
         "xaxis": "x",
         "y": [
          0,
          2,
          0
         ],
         "yaxis": "y"
        },
        {
         "alignmentgroup": "True",
         "hovertemplate": "Hour=12:40-13:00<br>month=%{x}<br>number_of_people=%{y}<extra></extra>",
         "legendgroup": "12:40-13:00",
         "marker": {
          "color": "#636efa",
          "pattern": {
           "shape": ""
          }
         },
         "name": "12:40-13:00",
         "offsetgroup": "12:40-13:00",
         "orientation": "v",
         "showlegend": true,
         "textposition": "auto",
         "type": "bar",
         "x": [
          "November",
          "October",
          "September"
         ],
         "xaxis": "x",
         "y": [
          0,
          0,
          0
         ],
         "yaxis": "y"
        },
        {
         "alignmentgroup": "True",
         "hovertemplate": "Hour=13:00-13:20<br>month=%{x}<br>number_of_people=%{y}<extra></extra>",
         "legendgroup": "13:00-13:20",
         "marker": {
          "color": "#EF553B",
          "pattern": {
           "shape": ""
          }
         },
         "name": "13:00-13:20",
         "offsetgroup": "13:00-13:20",
         "orientation": "v",
         "showlegend": true,
         "textposition": "auto",
         "type": "bar",
         "x": [
          "November",
          "October",
          "September"
         ],
         "xaxis": "x",
         "y": [
          0,
          1,
          1
         ],
         "yaxis": "y"
        },
        {
         "alignmentgroup": "True",
         "hovertemplate": "Hour=13:20-13:40<br>month=%{x}<br>number_of_people=%{y}<extra></extra>",
         "legendgroup": "13:20-13:40",
         "marker": {
          "color": "#00cc96",
          "pattern": {
           "shape": ""
          }
         },
         "name": "13:20-13:40",
         "offsetgroup": "13:20-13:40",
         "orientation": "v",
         "showlegend": true,
         "textposition": "auto",
         "type": "bar",
         "x": [
          "November",
          "October",
          "September"
         ],
         "xaxis": "x",
         "y": [
          0,
          0,
          2
         ],
         "yaxis": "y"
        },
        {
         "alignmentgroup": "True",
         "hovertemplate": "Hour=13:40-14:00<br>month=%{x}<br>number_of_people=%{y}<extra></extra>",
         "legendgroup": "13:40-14:00",
         "marker": {
          "color": "#ab63fa",
          "pattern": {
           "shape": ""
          }
         },
         "name": "13:40-14:00",
         "offsetgroup": "13:40-14:00",
         "orientation": "v",
         "showlegend": true,
         "textposition": "auto",
         "type": "bar",
         "x": [
          "November",
          "October",
          "September"
         ],
         "xaxis": "x",
         "y": [
          0,
          0,
          0
         ],
         "yaxis": "y"
        },
        {
         "alignmentgroup": "True",
         "hovertemplate": "Hour=14:00-14:20<br>month=%{x}<br>number_of_people=%{y}<extra></extra>",
         "legendgroup": "14:00-14:20",
         "marker": {
          "color": "#FFA15A",
          "pattern": {
           "shape": ""
          }
         },
         "name": "14:00-14:20",
         "offsetgroup": "14:00-14:20",
         "orientation": "v",
         "showlegend": true,
         "textposition": "auto",
         "type": "bar",
         "x": [
          "November",
          "October",
          "September"
         ],
         "xaxis": "x",
         "y": [
          0,
          0,
          0
         ],
         "yaxis": "y"
        },
        {
         "alignmentgroup": "True",
         "hovertemplate": "Hour=14:20-14:40<br>month=%{x}<br>number_of_people=%{y}<extra></extra>",
         "legendgroup": "14:20-14:40",
         "marker": {
          "color": "#19d3f3",
          "pattern": {
           "shape": ""
          }
         },
         "name": "14:20-14:40",
         "offsetgroup": "14:20-14:40",
         "orientation": "v",
         "showlegend": true,
         "textposition": "auto",
         "type": "bar",
         "x": [
          "November",
          "October",
          "September"
         ],
         "xaxis": "x",
         "y": [
          0,
          0,
          1
         ],
         "yaxis": "y"
        },
        {
         "alignmentgroup": "True",
         "hovertemplate": "Hour=14:40-15:00<br>month=%{x}<br>number_of_people=%{y}<extra></extra>",
         "legendgroup": "14:40-15:00",
         "marker": {
          "color": "#FF6692",
          "pattern": {
           "shape": ""
          }
         },
         "name": "14:40-15:00",
         "offsetgroup": "14:40-15:00",
         "orientation": "v",
         "showlegend": true,
         "textposition": "auto",
         "type": "bar",
         "x": [
          "November",
          "October",
          "September"
         ],
         "xaxis": "x",
         "y": [
          0,
          0,
          1
         ],
         "yaxis": "y"
        },
        {
         "alignmentgroup": "True",
         "hovertemplate": "Hour=15:00-15:30<br>month=%{x}<br>number_of_people=%{y}<extra></extra>",
         "legendgroup": "15:00-15:30",
         "marker": {
          "color": "#B6E880",
          "pattern": {
           "shape": ""
          }
         },
         "name": "15:00-15:30",
         "offsetgroup": "15:00-15:30",
         "orientation": "v",
         "showlegend": true,
         "textposition": "auto",
         "type": "bar",
         "x": [
          "November",
          "October",
          "September"
         ],
         "xaxis": "x",
         "y": [
          0,
          0,
          1
         ],
         "yaxis": "y"
        },
        {
         "alignmentgroup": "True",
         "hovertemplate": "Hour=15:30-16:00<br>month=%{x}<br>number_of_people=%{y}<extra></extra>",
         "legendgroup": "15:30-16:00",
         "marker": {
          "color": "#FF97FF",
          "pattern": {
           "shape": ""
          }
         },
         "name": "15:30-16:00",
         "offsetgroup": "15:30-16:00",
         "orientation": "v",
         "showlegend": true,
         "textposition": "auto",
         "type": "bar",
         "x": [
          "November",
          "October",
          "September"
         ],
         "xaxis": "x",
         "y": [
          0,
          0,
          0
         ],
         "yaxis": "y"
        },
        {
         "alignmentgroup": "True",
         "hovertemplate": "Hour=16:00-16:30<br>month=%{x}<br>number_of_people=%{y}<extra></extra>",
         "legendgroup": "16:00-16:30",
         "marker": {
          "color": "#FECB52",
          "pattern": {
           "shape": ""
          }
         },
         "name": "16:00-16:30",
         "offsetgroup": "16:00-16:30",
         "orientation": "v",
         "showlegend": true,
         "textposition": "auto",
         "type": "bar",
         "x": [
          "November",
          "October",
          "September"
         ],
         "xaxis": "x",
         "y": [
          0,
          0,
          0
         ],
         "yaxis": "y"
        },
        {
         "alignmentgroup": "True",
         "hovertemplate": "Hour=16:30-17:00<br>month=%{x}<br>number_of_people=%{y}<extra></extra>",
         "legendgroup": "16:30-17:00",
         "marker": {
          "color": "#636efa",
          "pattern": {
           "shape": ""
          }
         },
         "name": "16:30-17:00",
         "offsetgroup": "16:30-17:00",
         "orientation": "v",
         "showlegend": true,
         "textposition": "auto",
         "type": "bar",
         "x": [
          "November",
          "October",
          "September"
         ],
         "xaxis": "x",
         "y": [
          0,
          0,
          0
         ],
         "yaxis": "y"
        }
       ],
       "layout": {
        "barmode": "group",
        "height": 400,
        "legend": {
         "title": {
          "text": "Hour"
         },
         "tracegroupgap": 0
        },
        "margin": {
         "t": 60
        },
        "template": {
         "data": {
          "bar": [
           {
            "error_x": {
             "color": "#2a3f5f"
            },
            "error_y": {
             "color": "#2a3f5f"
            },
            "marker": {
             "line": {
              "color": "#E5ECF6",
              "width": 0.5
             },
             "pattern": {
              "fillmode": "overlay",
              "size": 10,
              "solidity": 0.2
             }
            },
            "type": "bar"
           }
          ],
          "barpolar": [
           {
            "marker": {
             "line": {
              "color": "#E5ECF6",
              "width": 0.5
             },
             "pattern": {
              "fillmode": "overlay",
              "size": 10,
              "solidity": 0.2
             }
            },
            "type": "barpolar"
           }
          ],
          "carpet": [
           {
            "aaxis": {
             "endlinecolor": "#2a3f5f",
             "gridcolor": "white",
             "linecolor": "white",
             "minorgridcolor": "white",
             "startlinecolor": "#2a3f5f"
            },
            "baxis": {
             "endlinecolor": "#2a3f5f",
             "gridcolor": "white",
             "linecolor": "white",
             "minorgridcolor": "white",
             "startlinecolor": "#2a3f5f"
            },
            "type": "carpet"
           }
          ],
          "choropleth": [
           {
            "colorbar": {
             "outlinewidth": 0,
             "ticks": ""
            },
            "type": "choropleth"
           }
          ],
          "contour": [
           {
            "colorbar": {
             "outlinewidth": 0,
             "ticks": ""
            },
            "colorscale": [
             [
              0,
              "#0d0887"
             ],
             [
              0.1111111111111111,
              "#46039f"
             ],
             [
              0.2222222222222222,
              "#7201a8"
             ],
             [
              0.3333333333333333,
              "#9c179e"
             ],
             [
              0.4444444444444444,
              "#bd3786"
             ],
             [
              0.5555555555555556,
              "#d8576b"
             ],
             [
              0.6666666666666666,
              "#ed7953"
             ],
             [
              0.7777777777777778,
              "#fb9f3a"
             ],
             [
              0.8888888888888888,
              "#fdca26"
             ],
             [
              1,
              "#f0f921"
             ]
            ],
            "type": "contour"
           }
          ],
          "contourcarpet": [
           {
            "colorbar": {
             "outlinewidth": 0,
             "ticks": ""
            },
            "type": "contourcarpet"
           }
          ],
          "heatmap": [
           {
            "colorbar": {
             "outlinewidth": 0,
             "ticks": ""
            },
            "colorscale": [
             [
              0,
              "#0d0887"
             ],
             [
              0.1111111111111111,
              "#46039f"
             ],
             [
              0.2222222222222222,
              "#7201a8"
             ],
             [
              0.3333333333333333,
              "#9c179e"
             ],
             [
              0.4444444444444444,
              "#bd3786"
             ],
             [
              0.5555555555555556,
              "#d8576b"
             ],
             [
              0.6666666666666666,
              "#ed7953"
             ],
             [
              0.7777777777777778,
              "#fb9f3a"
             ],
             [
              0.8888888888888888,
              "#fdca26"
             ],
             [
              1,
              "#f0f921"
             ]
            ],
            "type": "heatmap"
           }
          ],
          "heatmapgl": [
           {
            "colorbar": {
             "outlinewidth": 0,
             "ticks": ""
            },
            "colorscale": [
             [
              0,
              "#0d0887"
             ],
             [
              0.1111111111111111,
              "#46039f"
             ],
             [
              0.2222222222222222,
              "#7201a8"
             ],
             [
              0.3333333333333333,
              "#9c179e"
             ],
             [
              0.4444444444444444,
              "#bd3786"
             ],
             [
              0.5555555555555556,
              "#d8576b"
             ],
             [
              0.6666666666666666,
              "#ed7953"
             ],
             [
              0.7777777777777778,
              "#fb9f3a"
             ],
             [
              0.8888888888888888,
              "#fdca26"
             ],
             [
              1,
              "#f0f921"
             ]
            ],
            "type": "heatmapgl"
           }
          ],
          "histogram": [
           {
            "marker": {
             "pattern": {
              "fillmode": "overlay",
              "size": 10,
              "solidity": 0.2
             }
            },
            "type": "histogram"
           }
          ],
          "histogram2d": [
           {
            "colorbar": {
             "outlinewidth": 0,
             "ticks": ""
            },
            "colorscale": [
             [
              0,
              "#0d0887"
             ],
             [
              0.1111111111111111,
              "#46039f"
             ],
             [
              0.2222222222222222,
              "#7201a8"
             ],
             [
              0.3333333333333333,
              "#9c179e"
             ],
             [
              0.4444444444444444,
              "#bd3786"
             ],
             [
              0.5555555555555556,
              "#d8576b"
             ],
             [
              0.6666666666666666,
              "#ed7953"
             ],
             [
              0.7777777777777778,
              "#fb9f3a"
             ],
             [
              0.8888888888888888,
              "#fdca26"
             ],
             [
              1,
              "#f0f921"
             ]
            ],
            "type": "histogram2d"
           }
          ],
          "histogram2dcontour": [
           {
            "colorbar": {
             "outlinewidth": 0,
             "ticks": ""
            },
            "colorscale": [
             [
              0,
              "#0d0887"
             ],
             [
              0.1111111111111111,
              "#46039f"
             ],
             [
              0.2222222222222222,
              "#7201a8"
             ],
             [
              0.3333333333333333,
              "#9c179e"
             ],
             [
              0.4444444444444444,
              "#bd3786"
             ],
             [
              0.5555555555555556,
              "#d8576b"
             ],
             [
              0.6666666666666666,
              "#ed7953"
             ],
             [
              0.7777777777777778,
              "#fb9f3a"
             ],
             [
              0.8888888888888888,
              "#fdca26"
             ],
             [
              1,
              "#f0f921"
             ]
            ],
            "type": "histogram2dcontour"
           }
          ],
          "mesh3d": [
           {
            "colorbar": {
             "outlinewidth": 0,
             "ticks": ""
            },
            "type": "mesh3d"
           }
          ],
          "parcoords": [
           {
            "line": {
             "colorbar": {
              "outlinewidth": 0,
              "ticks": ""
             }
            },
            "type": "parcoords"
           }
          ],
          "pie": [
           {
            "automargin": true,
            "type": "pie"
           }
          ],
          "scatter": [
           {
            "fillpattern": {
             "fillmode": "overlay",
             "size": 10,
             "solidity": 0.2
            },
            "type": "scatter"
           }
          ],
          "scatter3d": [
           {
            "line": {
             "colorbar": {
              "outlinewidth": 0,
              "ticks": ""
             }
            },
            "marker": {
             "colorbar": {
              "outlinewidth": 0,
              "ticks": ""
             }
            },
            "type": "scatter3d"
           }
          ],
          "scattercarpet": [
           {
            "marker": {
             "colorbar": {
              "outlinewidth": 0,
              "ticks": ""
             }
            },
            "type": "scattercarpet"
           }
          ],
          "scattergeo": [
           {
            "marker": {
             "colorbar": {
              "outlinewidth": 0,
              "ticks": ""
             }
            },
            "type": "scattergeo"
           }
          ],
          "scattergl": [
           {
            "marker": {
             "colorbar": {
              "outlinewidth": 0,
              "ticks": ""
             }
            },
            "type": "scattergl"
           }
          ],
          "scattermapbox": [
           {
            "marker": {
             "colorbar": {
              "outlinewidth": 0,
              "ticks": ""
             }
            },
            "type": "scattermapbox"
           }
          ],
          "scatterpolar": [
           {
            "marker": {
             "colorbar": {
              "outlinewidth": 0,
              "ticks": ""
             }
            },
            "type": "scatterpolar"
           }
          ],
          "scatterpolargl": [
           {
            "marker": {
             "colorbar": {
              "outlinewidth": 0,
              "ticks": ""
             }
            },
            "type": "scatterpolargl"
           }
          ],
          "scatterternary": [
           {
            "marker": {
             "colorbar": {
              "outlinewidth": 0,
              "ticks": ""
             }
            },
            "type": "scatterternary"
           }
          ],
          "surface": [
           {
            "colorbar": {
             "outlinewidth": 0,
             "ticks": ""
            },
            "colorscale": [
             [
              0,
              "#0d0887"
             ],
             [
              0.1111111111111111,
              "#46039f"
             ],
             [
              0.2222222222222222,
              "#7201a8"
             ],
             [
              0.3333333333333333,
              "#9c179e"
             ],
             [
              0.4444444444444444,
              "#bd3786"
             ],
             [
              0.5555555555555556,
              "#d8576b"
             ],
             [
              0.6666666666666666,
              "#ed7953"
             ],
             [
              0.7777777777777778,
              "#fb9f3a"
             ],
             [
              0.8888888888888888,
              "#fdca26"
             ],
             [
              1,
              "#f0f921"
             ]
            ],
            "type": "surface"
           }
          ],
          "table": [
           {
            "cells": {
             "fill": {
              "color": "#EBF0F8"
             },
             "line": {
              "color": "white"
             }
            },
            "header": {
             "fill": {
              "color": "#C8D4E3"
             },
             "line": {
              "color": "white"
             }
            },
            "type": "table"
           }
          ]
         },
         "layout": {
          "annotationdefaults": {
           "arrowcolor": "#2a3f5f",
           "arrowhead": 0,
           "arrowwidth": 1
          },
          "autotypenumbers": "strict",
          "coloraxis": {
           "colorbar": {
            "outlinewidth": 0,
            "ticks": ""
           }
          },
          "colorscale": {
           "diverging": [
            [
             0,
             "#8e0152"
            ],
            [
             0.1,
             "#c51b7d"
            ],
            [
             0.2,
             "#de77ae"
            ],
            [
             0.3,
             "#f1b6da"
            ],
            [
             0.4,
             "#fde0ef"
            ],
            [
             0.5,
             "#f7f7f7"
            ],
            [
             0.6,
             "#e6f5d0"
            ],
            [
             0.7,
             "#b8e186"
            ],
            [
             0.8,
             "#7fbc41"
            ],
            [
             0.9,
             "#4d9221"
            ],
            [
             1,
             "#276419"
            ]
           ],
           "sequential": [
            [
             0,
             "#0d0887"
            ],
            [
             0.1111111111111111,
             "#46039f"
            ],
            [
             0.2222222222222222,
             "#7201a8"
            ],
            [
             0.3333333333333333,
             "#9c179e"
            ],
            [
             0.4444444444444444,
             "#bd3786"
            ],
            [
             0.5555555555555556,
             "#d8576b"
            ],
            [
             0.6666666666666666,
             "#ed7953"
            ],
            [
             0.7777777777777778,
             "#fb9f3a"
            ],
            [
             0.8888888888888888,
             "#fdca26"
            ],
            [
             1,
             "#f0f921"
            ]
           ],
           "sequentialminus": [
            [
             0,
             "#0d0887"
            ],
            [
             0.1111111111111111,
             "#46039f"
            ],
            [
             0.2222222222222222,
             "#7201a8"
            ],
            [
             0.3333333333333333,
             "#9c179e"
            ],
            [
             0.4444444444444444,
             "#bd3786"
            ],
            [
             0.5555555555555556,
             "#d8576b"
            ],
            [
             0.6666666666666666,
             "#ed7953"
            ],
            [
             0.7777777777777778,
             "#fb9f3a"
            ],
            [
             0.8888888888888888,
             "#fdca26"
            ],
            [
             1,
             "#f0f921"
            ]
           ]
          },
          "colorway": [
           "#636efa",
           "#EF553B",
           "#00cc96",
           "#ab63fa",
           "#FFA15A",
           "#19d3f3",
           "#FF6692",
           "#B6E880",
           "#FF97FF",
           "#FECB52"
          ],
          "font": {
           "color": "#2a3f5f"
          },
          "geo": {
           "bgcolor": "white",
           "lakecolor": "white",
           "landcolor": "#E5ECF6",
           "showlakes": true,
           "showland": true,
           "subunitcolor": "white"
          },
          "hoverlabel": {
           "align": "left"
          },
          "hovermode": "closest",
          "mapbox": {
           "style": "light"
          },
          "paper_bgcolor": "white",
          "plot_bgcolor": "#E5ECF6",
          "polar": {
           "angularaxis": {
            "gridcolor": "white",
            "linecolor": "white",
            "ticks": ""
           },
           "bgcolor": "#E5ECF6",
           "radialaxis": {
            "gridcolor": "white",
            "linecolor": "white",
            "ticks": ""
           }
          },
          "scene": {
           "xaxis": {
            "backgroundcolor": "#E5ECF6",
            "gridcolor": "white",
            "gridwidth": 2,
            "linecolor": "white",
            "showbackground": true,
            "ticks": "",
            "zerolinecolor": "white"
           },
           "yaxis": {
            "backgroundcolor": "#E5ECF6",
            "gridcolor": "white",
            "gridwidth": 2,
            "linecolor": "white",
            "showbackground": true,
            "ticks": "",
            "zerolinecolor": "white"
           },
           "zaxis": {
            "backgroundcolor": "#E5ECF6",
            "gridcolor": "white",
            "gridwidth": 2,
            "linecolor": "white",
            "showbackground": true,
            "ticks": "",
            "zerolinecolor": "white"
           }
          },
          "shapedefaults": {
           "line": {
            "color": "#2a3f5f"
           }
          },
          "ternary": {
           "aaxis": {
            "gridcolor": "white",
            "linecolor": "white",
            "ticks": ""
           },
           "baxis": {
            "gridcolor": "white",
            "linecolor": "white",
            "ticks": ""
           },
           "bgcolor": "#E5ECF6",
           "caxis": {
            "gridcolor": "white",
            "linecolor": "white",
            "ticks": ""
           }
          },
          "title": {
           "x": 0.05
          },
          "xaxis": {
           "automargin": true,
           "gridcolor": "white",
           "linecolor": "white",
           "ticks": "",
           "title": {
            "standoff": 15
           },
           "zerolinecolor": "white",
           "zerolinewidth": 2
          },
          "yaxis": {
           "automargin": true,
           "gridcolor": "white",
           "linecolor": "white",
           "ticks": "",
           "title": {
            "standoff": 15
           },
           "zerolinecolor": "white",
           "zerolinewidth": 2
          }
         }
        },
        "xaxis": {
         "anchor": "y",
         "domain": [
          0,
          1
         ],
         "title": {
          "text": "month"
         }
        },
        "yaxis": {
         "anchor": "x",
         "domain": [
          0,
          1
         ],
         "title": {
          "text": "number_of_people"
         }
        }
       }
      },
      "text/html": [
       "<div>                            <div id=\"98abf37a-8163-4c6d-af31-5925818f866e\" class=\"plotly-graph-div\" style=\"height:400px; width:100%;\"></div>            <script type=\"text/javascript\">                require([\"plotly\"], function(Plotly) {                    window.PLOTLYENV=window.PLOTLYENV || {};                                    if (document.getElementById(\"98abf37a-8163-4c6d-af31-5925818f866e\")) {                    Plotly.newPlot(                        \"98abf37a-8163-4c6d-af31-5925818f866e\",                        [{\"alignmentgroup\":\"True\",\"hovertemplate\":\"Hour=06:00-6:20<br>month=%{x}<br>number_of_people=%{y}<extra></extra>\",\"legendgroup\":\"06:00-6:20\",\"marker\":{\"color\":\"#636efa\",\"pattern\":{\"shape\":\"\"}},\"name\":\"06:00-6:20\",\"offsetgroup\":\"06:00-6:20\",\"orientation\":\"v\",\"showlegend\":true,\"textposition\":\"auto\",\"x\":[\"November\",\"October\",\"September\"],\"xaxis\":\"x\",\"y\":[0,1,0],\"yaxis\":\"y\",\"type\":\"bar\"},{\"alignmentgroup\":\"True\",\"hovertemplate\":\"Hour=06:20-6:40<br>month=%{x}<br>number_of_people=%{y}<extra></extra>\",\"legendgroup\":\"06:20-6:40\",\"marker\":{\"color\":\"#EF553B\",\"pattern\":{\"shape\":\"\"}},\"name\":\"06:20-6:40\",\"offsetgroup\":\"06:20-6:40\",\"orientation\":\"v\",\"showlegend\":true,\"textposition\":\"auto\",\"x\":[\"November\",\"October\",\"September\"],\"xaxis\":\"x\",\"y\":[0,0,0],\"yaxis\":\"y\",\"type\":\"bar\"},{\"alignmentgroup\":\"True\",\"hovertemplate\":\"Hour=06:40-7:00<br>month=%{x}<br>number_of_people=%{y}<extra></extra>\",\"legendgroup\":\"06:40-7:00\",\"marker\":{\"color\":\"#00cc96\",\"pattern\":{\"shape\":\"\"}},\"name\":\"06:40-7:00\",\"offsetgroup\":\"06:40-7:00\",\"orientation\":\"v\",\"showlegend\":true,\"textposition\":\"auto\",\"x\":[\"November\",\"October\",\"September\"],\"xaxis\":\"x\",\"y\":[0,0,0],\"yaxis\":\"y\",\"type\":\"bar\"},{\"alignmentgroup\":\"True\",\"hovertemplate\":\"Hour=07:00-7:20<br>month=%{x}<br>number_of_people=%{y}<extra></extra>\",\"legendgroup\":\"07:00-7:20\",\"marker\":{\"color\":\"#ab63fa\",\"pattern\":{\"shape\":\"\"}},\"name\":\"07:00-7:20\",\"offsetgroup\":\"07:00-7:20\",\"orientation\":\"v\",\"showlegend\":true,\"textposition\":\"auto\",\"x\":[\"November\",\"October\",\"September\"],\"xaxis\":\"x\",\"y\":[0,1,0],\"yaxis\":\"y\",\"type\":\"bar\"},{\"alignmentgroup\":\"True\",\"hovertemplate\":\"Hour=07:20-7:40<br>month=%{x}<br>number_of_people=%{y}<extra></extra>\",\"legendgroup\":\"07:20-7:40\",\"marker\":{\"color\":\"#FFA15A\",\"pattern\":{\"shape\":\"\"}},\"name\":\"07:20-7:40\",\"offsetgroup\":\"07:20-7:40\",\"orientation\":\"v\",\"showlegend\":true,\"textposition\":\"auto\",\"x\":[\"November\",\"October\",\"September\"],\"xaxis\":\"x\",\"y\":[2,4,4],\"yaxis\":\"y\",\"type\":\"bar\"},{\"alignmentgroup\":\"True\",\"hovertemplate\":\"Hour=07:40-8:00<br>month=%{x}<br>number_of_people=%{y}<extra></extra>\",\"legendgroup\":\"07:40-8:00\",\"marker\":{\"color\":\"#19d3f3\",\"pattern\":{\"shape\":\"\"}},\"name\":\"07:40-8:00\",\"offsetgroup\":\"07:40-8:00\",\"orientation\":\"v\",\"showlegend\":true,\"textposition\":\"auto\",\"x\":[\"November\",\"October\",\"September\"],\"xaxis\":\"x\",\"y\":[6,10,5],\"yaxis\":\"y\",\"type\":\"bar\"},{\"alignmentgroup\":\"True\",\"hovertemplate\":\"Hour=08:00-8:20<br>month=%{x}<br>number_of_people=%{y}<extra></extra>\",\"legendgroup\":\"08:00-8:20\",\"marker\":{\"color\":\"#FF6692\",\"pattern\":{\"shape\":\"\"}},\"name\":\"08:00-8:20\",\"offsetgroup\":\"08:00-8:20\",\"orientation\":\"v\",\"showlegend\":true,\"textposition\":\"auto\",\"x\":[\"November\",\"October\",\"September\"],\"xaxis\":\"x\",\"y\":[9,16,9],\"yaxis\":\"y\",\"type\":\"bar\"},{\"alignmentgroup\":\"True\",\"hovertemplate\":\"Hour=08:20-8:40<br>month=%{x}<br>number_of_people=%{y}<extra></extra>\",\"legendgroup\":\"08:20-8:40\",\"marker\":{\"color\":\"#B6E880\",\"pattern\":{\"shape\":\"\"}},\"name\":\"08:20-8:40\",\"offsetgroup\":\"08:20-8:40\",\"orientation\":\"v\",\"showlegend\":true,\"textposition\":\"auto\",\"x\":[\"November\",\"October\",\"September\"],\"xaxis\":\"x\",\"y\":[12,14,8],\"yaxis\":\"y\",\"type\":\"bar\"},{\"alignmentgroup\":\"True\",\"hovertemplate\":\"Hour=08:40-9:00<br>month=%{x}<br>number_of_people=%{y}<extra></extra>\",\"legendgroup\":\"08:40-9:00\",\"marker\":{\"color\":\"#FF97FF\",\"pattern\":{\"shape\":\"\"}},\"name\":\"08:40-9:00\",\"offsetgroup\":\"08:40-9:00\",\"orientation\":\"v\",\"showlegend\":true,\"textposition\":\"auto\",\"x\":[\"November\",\"October\",\"September\"],\"xaxis\":\"x\",\"y\":[12,14,6],\"yaxis\":\"y\",\"type\":\"bar\"},{\"alignmentgroup\":\"True\",\"hovertemplate\":\"Hour=09:00-9:20<br>month=%{x}<br>number_of_people=%{y}<extra></extra>\",\"legendgroup\":\"09:00-9:20\",\"marker\":{\"color\":\"#FECB52\",\"pattern\":{\"shape\":\"\"}},\"name\":\"09:00-9:20\",\"offsetgroup\":\"09:00-9:20\",\"orientation\":\"v\",\"showlegend\":true,\"textposition\":\"auto\",\"x\":[\"November\",\"October\",\"September\"],\"xaxis\":\"x\",\"y\":[11,14,9],\"yaxis\":\"y\",\"type\":\"bar\"},{\"alignmentgroup\":\"True\",\"hovertemplate\":\"Hour=09:20-9:40<br>month=%{x}<br>number_of_people=%{y}<extra></extra>\",\"legendgroup\":\"09:20-9:40\",\"marker\":{\"color\":\"#636efa\",\"pattern\":{\"shape\":\"\"}},\"name\":\"09:20-9:40\",\"offsetgroup\":\"09:20-9:40\",\"orientation\":\"v\",\"showlegend\":true,\"textposition\":\"auto\",\"x\":[\"November\",\"October\",\"September\"],\"xaxis\":\"x\",\"y\":[9,12,7],\"yaxis\":\"y\",\"type\":\"bar\"},{\"alignmentgroup\":\"True\",\"hovertemplate\":\"Hour=09:40-10:00<br>month=%{x}<br>number_of_people=%{y}<extra></extra>\",\"legendgroup\":\"09:40-10:00\",\"marker\":{\"color\":\"#EF553B\",\"pattern\":{\"shape\":\"\"}},\"name\":\"09:40-10:00\",\"offsetgroup\":\"09:40-10:00\",\"orientation\":\"v\",\"showlegend\":true,\"textposition\":\"auto\",\"x\":[\"November\",\"October\",\"September\"],\"xaxis\":\"x\",\"y\":[7,11,5],\"yaxis\":\"y\",\"type\":\"bar\"},{\"alignmentgroup\":\"True\",\"hovertemplate\":\"Hour=10:00-10:20<br>month=%{x}<br>number_of_people=%{y}<extra></extra>\",\"legendgroup\":\"10:00-10:20\",\"marker\":{\"color\":\"#00cc96\",\"pattern\":{\"shape\":\"\"}},\"name\":\"10:00-10:20\",\"offsetgroup\":\"10:00-10:20\",\"orientation\":\"v\",\"showlegend\":true,\"textposition\":\"auto\",\"x\":[\"November\",\"October\",\"September\"],\"xaxis\":\"x\",\"y\":[7,12,8],\"yaxis\":\"y\",\"type\":\"bar\"},{\"alignmentgroup\":\"True\",\"hovertemplate\":\"Hour=10:20-10:40<br>month=%{x}<br>number_of_people=%{y}<extra></extra>\",\"legendgroup\":\"10:20-10:40\",\"marker\":{\"color\":\"#ab63fa\",\"pattern\":{\"shape\":\"\"}},\"name\":\"10:20-10:40\",\"offsetgroup\":\"10:20-10:40\",\"orientation\":\"v\",\"showlegend\":true,\"textposition\":\"auto\",\"x\":[\"November\",\"October\",\"September\"],\"xaxis\":\"x\",\"y\":[4,9,6],\"yaxis\":\"y\",\"type\":\"bar\"},{\"alignmentgroup\":\"True\",\"hovertemplate\":\"Hour=10:40-11:00<br>month=%{x}<br>number_of_people=%{y}<extra></extra>\",\"legendgroup\":\"10:40-11:00\",\"marker\":{\"color\":\"#FFA15A\",\"pattern\":{\"shape\":\"\"}},\"name\":\"10:40-11:00\",\"offsetgroup\":\"10:40-11:00\",\"orientation\":\"v\",\"showlegend\":true,\"textposition\":\"auto\",\"x\":[\"November\",\"October\",\"September\"],\"xaxis\":\"x\",\"y\":[2,8,4],\"yaxis\":\"y\",\"type\":\"bar\"},{\"alignmentgroup\":\"True\",\"hovertemplate\":\"Hour=11:00-11:20<br>month=%{x}<br>number_of_people=%{y}<extra></extra>\",\"legendgroup\":\"11:00-11:20\",\"marker\":{\"color\":\"#19d3f3\",\"pattern\":{\"shape\":\"\"}},\"name\":\"11:00-11:20\",\"offsetgroup\":\"11:00-11:20\",\"orientation\":\"v\",\"showlegend\":true,\"textposition\":\"auto\",\"x\":[\"November\",\"October\",\"September\"],\"xaxis\":\"x\",\"y\":[3,5,2],\"yaxis\":\"y\",\"type\":\"bar\"},{\"alignmentgroup\":\"True\",\"hovertemplate\":\"Hour=11:20-11:40<br>month=%{x}<br>number_of_people=%{y}<extra></extra>\",\"legendgroup\":\"11:20-11:40\",\"marker\":{\"color\":\"#FF6692\",\"pattern\":{\"shape\":\"\"}},\"name\":\"11:20-11:40\",\"offsetgroup\":\"11:20-11:40\",\"orientation\":\"v\",\"showlegend\":true,\"textposition\":\"auto\",\"x\":[\"November\",\"October\",\"September\"],\"xaxis\":\"x\",\"y\":[1,6,3],\"yaxis\":\"y\",\"type\":\"bar\"},{\"alignmentgroup\":\"True\",\"hovertemplate\":\"Hour=11:40-12:00<br>month=%{x}<br>number_of_people=%{y}<extra></extra>\",\"legendgroup\":\"11:40-12:00\",\"marker\":{\"color\":\"#B6E880\",\"pattern\":{\"shape\":\"\"}},\"name\":\"11:40-12:00\",\"offsetgroup\":\"11:40-12:00\",\"orientation\":\"v\",\"showlegend\":true,\"textposition\":\"auto\",\"x\":[\"November\",\"October\",\"September\"],\"xaxis\":\"x\",\"y\":[0,3,1],\"yaxis\":\"y\",\"type\":\"bar\"},{\"alignmentgroup\":\"True\",\"hovertemplate\":\"Hour=12:00-12:20<br>month=%{x}<br>number_of_people=%{y}<extra></extra>\",\"legendgroup\":\"12:00-12:20\",\"marker\":{\"color\":\"#FF97FF\",\"pattern\":{\"shape\":\"\"}},\"name\":\"12:00-12:20\",\"offsetgroup\":\"12:00-12:20\",\"orientation\":\"v\",\"showlegend\":true,\"textposition\":\"auto\",\"x\":[\"November\",\"October\",\"September\"],\"xaxis\":\"x\",\"y\":[0,3,2],\"yaxis\":\"y\",\"type\":\"bar\"},{\"alignmentgroup\":\"True\",\"hovertemplate\":\"Hour=12:20-12:40<br>month=%{x}<br>number_of_people=%{y}<extra></extra>\",\"legendgroup\":\"12:20-12:40\",\"marker\":{\"color\":\"#FECB52\",\"pattern\":{\"shape\":\"\"}},\"name\":\"12:20-12:40\",\"offsetgroup\":\"12:20-12:40\",\"orientation\":\"v\",\"showlegend\":true,\"textposition\":\"auto\",\"x\":[\"November\",\"October\",\"September\"],\"xaxis\":\"x\",\"y\":[0,2,0],\"yaxis\":\"y\",\"type\":\"bar\"},{\"alignmentgroup\":\"True\",\"hovertemplate\":\"Hour=12:40-13:00<br>month=%{x}<br>number_of_people=%{y}<extra></extra>\",\"legendgroup\":\"12:40-13:00\",\"marker\":{\"color\":\"#636efa\",\"pattern\":{\"shape\":\"\"}},\"name\":\"12:40-13:00\",\"offsetgroup\":\"12:40-13:00\",\"orientation\":\"v\",\"showlegend\":true,\"textposition\":\"auto\",\"x\":[\"November\",\"October\",\"September\"],\"xaxis\":\"x\",\"y\":[0,0,0],\"yaxis\":\"y\",\"type\":\"bar\"},{\"alignmentgroup\":\"True\",\"hovertemplate\":\"Hour=13:00-13:20<br>month=%{x}<br>number_of_people=%{y}<extra></extra>\",\"legendgroup\":\"13:00-13:20\",\"marker\":{\"color\":\"#EF553B\",\"pattern\":{\"shape\":\"\"}},\"name\":\"13:00-13:20\",\"offsetgroup\":\"13:00-13:20\",\"orientation\":\"v\",\"showlegend\":true,\"textposition\":\"auto\",\"x\":[\"November\",\"October\",\"September\"],\"xaxis\":\"x\",\"y\":[0,1,1],\"yaxis\":\"y\",\"type\":\"bar\"},{\"alignmentgroup\":\"True\",\"hovertemplate\":\"Hour=13:20-13:40<br>month=%{x}<br>number_of_people=%{y}<extra></extra>\",\"legendgroup\":\"13:20-13:40\",\"marker\":{\"color\":\"#00cc96\",\"pattern\":{\"shape\":\"\"}},\"name\":\"13:20-13:40\",\"offsetgroup\":\"13:20-13:40\",\"orientation\":\"v\",\"showlegend\":true,\"textposition\":\"auto\",\"x\":[\"November\",\"October\",\"September\"],\"xaxis\":\"x\",\"y\":[0,0,2],\"yaxis\":\"y\",\"type\":\"bar\"},{\"alignmentgroup\":\"True\",\"hovertemplate\":\"Hour=13:40-14:00<br>month=%{x}<br>number_of_people=%{y}<extra></extra>\",\"legendgroup\":\"13:40-14:00\",\"marker\":{\"color\":\"#ab63fa\",\"pattern\":{\"shape\":\"\"}},\"name\":\"13:40-14:00\",\"offsetgroup\":\"13:40-14:00\",\"orientation\":\"v\",\"showlegend\":true,\"textposition\":\"auto\",\"x\":[\"November\",\"October\",\"September\"],\"xaxis\":\"x\",\"y\":[0,0,0],\"yaxis\":\"y\",\"type\":\"bar\"},{\"alignmentgroup\":\"True\",\"hovertemplate\":\"Hour=14:00-14:20<br>month=%{x}<br>number_of_people=%{y}<extra></extra>\",\"legendgroup\":\"14:00-14:20\",\"marker\":{\"color\":\"#FFA15A\",\"pattern\":{\"shape\":\"\"}},\"name\":\"14:00-14:20\",\"offsetgroup\":\"14:00-14:20\",\"orientation\":\"v\",\"showlegend\":true,\"textposition\":\"auto\",\"x\":[\"November\",\"October\",\"September\"],\"xaxis\":\"x\",\"y\":[0,0,0],\"yaxis\":\"y\",\"type\":\"bar\"},{\"alignmentgroup\":\"True\",\"hovertemplate\":\"Hour=14:20-14:40<br>month=%{x}<br>number_of_people=%{y}<extra></extra>\",\"legendgroup\":\"14:20-14:40\",\"marker\":{\"color\":\"#19d3f3\",\"pattern\":{\"shape\":\"\"}},\"name\":\"14:20-14:40\",\"offsetgroup\":\"14:20-14:40\",\"orientation\":\"v\",\"showlegend\":true,\"textposition\":\"auto\",\"x\":[\"November\",\"October\",\"September\"],\"xaxis\":\"x\",\"y\":[0,0,1],\"yaxis\":\"y\",\"type\":\"bar\"},{\"alignmentgroup\":\"True\",\"hovertemplate\":\"Hour=14:40-15:00<br>month=%{x}<br>number_of_people=%{y}<extra></extra>\",\"legendgroup\":\"14:40-15:00\",\"marker\":{\"color\":\"#FF6692\",\"pattern\":{\"shape\":\"\"}},\"name\":\"14:40-15:00\",\"offsetgroup\":\"14:40-15:00\",\"orientation\":\"v\",\"showlegend\":true,\"textposition\":\"auto\",\"x\":[\"November\",\"October\",\"September\"],\"xaxis\":\"x\",\"y\":[0,0,1],\"yaxis\":\"y\",\"type\":\"bar\"},{\"alignmentgroup\":\"True\",\"hovertemplate\":\"Hour=15:00-15:30<br>month=%{x}<br>number_of_people=%{y}<extra></extra>\",\"legendgroup\":\"15:00-15:30\",\"marker\":{\"color\":\"#B6E880\",\"pattern\":{\"shape\":\"\"}},\"name\":\"15:00-15:30\",\"offsetgroup\":\"15:00-15:30\",\"orientation\":\"v\",\"showlegend\":true,\"textposition\":\"auto\",\"x\":[\"November\",\"October\",\"September\"],\"xaxis\":\"x\",\"y\":[0,0,1],\"yaxis\":\"y\",\"type\":\"bar\"},{\"alignmentgroup\":\"True\",\"hovertemplate\":\"Hour=15:30-16:00<br>month=%{x}<br>number_of_people=%{y}<extra></extra>\",\"legendgroup\":\"15:30-16:00\",\"marker\":{\"color\":\"#FF97FF\",\"pattern\":{\"shape\":\"\"}},\"name\":\"15:30-16:00\",\"offsetgroup\":\"15:30-16:00\",\"orientation\":\"v\",\"showlegend\":true,\"textposition\":\"auto\",\"x\":[\"November\",\"October\",\"September\"],\"xaxis\":\"x\",\"y\":[0,0,0],\"yaxis\":\"y\",\"type\":\"bar\"},{\"alignmentgroup\":\"True\",\"hovertemplate\":\"Hour=16:00-16:30<br>month=%{x}<br>number_of_people=%{y}<extra></extra>\",\"legendgroup\":\"16:00-16:30\",\"marker\":{\"color\":\"#FECB52\",\"pattern\":{\"shape\":\"\"}},\"name\":\"16:00-16:30\",\"offsetgroup\":\"16:00-16:30\",\"orientation\":\"v\",\"showlegend\":true,\"textposition\":\"auto\",\"x\":[\"November\",\"October\",\"September\"],\"xaxis\":\"x\",\"y\":[0,0,0],\"yaxis\":\"y\",\"type\":\"bar\"},{\"alignmentgroup\":\"True\",\"hovertemplate\":\"Hour=16:30-17:00<br>month=%{x}<br>number_of_people=%{y}<extra></extra>\",\"legendgroup\":\"16:30-17:00\",\"marker\":{\"color\":\"#636efa\",\"pattern\":{\"shape\":\"\"}},\"name\":\"16:30-17:00\",\"offsetgroup\":\"16:30-17:00\",\"orientation\":\"v\",\"showlegend\":true,\"textposition\":\"auto\",\"x\":[\"November\",\"October\",\"September\"],\"xaxis\":\"x\",\"y\":[0,0,0],\"yaxis\":\"y\",\"type\":\"bar\"}],                        {\"template\":{\"data\":{\"histogram2dcontour\":[{\"type\":\"histogram2dcontour\",\"colorbar\":{\"outlinewidth\":0,\"ticks\":\"\"},\"colorscale\":[[0.0,\"#0d0887\"],[0.1111111111111111,\"#46039f\"],[0.2222222222222222,\"#7201a8\"],[0.3333333333333333,\"#9c179e\"],[0.4444444444444444,\"#bd3786\"],[0.5555555555555556,\"#d8576b\"],[0.6666666666666666,\"#ed7953\"],[0.7777777777777778,\"#fb9f3a\"],[0.8888888888888888,\"#fdca26\"],[1.0,\"#f0f921\"]]}],\"choropleth\":[{\"type\":\"choropleth\",\"colorbar\":{\"outlinewidth\":0,\"ticks\":\"\"}}],\"histogram2d\":[{\"type\":\"histogram2d\",\"colorbar\":{\"outlinewidth\":0,\"ticks\":\"\"},\"colorscale\":[[0.0,\"#0d0887\"],[0.1111111111111111,\"#46039f\"],[0.2222222222222222,\"#7201a8\"],[0.3333333333333333,\"#9c179e\"],[0.4444444444444444,\"#bd3786\"],[0.5555555555555556,\"#d8576b\"],[0.6666666666666666,\"#ed7953\"],[0.7777777777777778,\"#fb9f3a\"],[0.8888888888888888,\"#fdca26\"],[1.0,\"#f0f921\"]]}],\"heatmap\":[{\"type\":\"heatmap\",\"colorbar\":{\"outlinewidth\":0,\"ticks\":\"\"},\"colorscale\":[[0.0,\"#0d0887\"],[0.1111111111111111,\"#46039f\"],[0.2222222222222222,\"#7201a8\"],[0.3333333333333333,\"#9c179e\"],[0.4444444444444444,\"#bd3786\"],[0.5555555555555556,\"#d8576b\"],[0.6666666666666666,\"#ed7953\"],[0.7777777777777778,\"#fb9f3a\"],[0.8888888888888888,\"#fdca26\"],[1.0,\"#f0f921\"]]}],\"heatmapgl\":[{\"type\":\"heatmapgl\",\"colorbar\":{\"outlinewidth\":0,\"ticks\":\"\"},\"colorscale\":[[0.0,\"#0d0887\"],[0.1111111111111111,\"#46039f\"],[0.2222222222222222,\"#7201a8\"],[0.3333333333333333,\"#9c179e\"],[0.4444444444444444,\"#bd3786\"],[0.5555555555555556,\"#d8576b\"],[0.6666666666666666,\"#ed7953\"],[0.7777777777777778,\"#fb9f3a\"],[0.8888888888888888,\"#fdca26\"],[1.0,\"#f0f921\"]]}],\"contourcarpet\":[{\"type\":\"contourcarpet\",\"colorbar\":{\"outlinewidth\":0,\"ticks\":\"\"}}],\"contour\":[{\"type\":\"contour\",\"colorbar\":{\"outlinewidth\":0,\"ticks\":\"\"},\"colorscale\":[[0.0,\"#0d0887\"],[0.1111111111111111,\"#46039f\"],[0.2222222222222222,\"#7201a8\"],[0.3333333333333333,\"#9c179e\"],[0.4444444444444444,\"#bd3786\"],[0.5555555555555556,\"#d8576b\"],[0.6666666666666666,\"#ed7953\"],[0.7777777777777778,\"#fb9f3a\"],[0.8888888888888888,\"#fdca26\"],[1.0,\"#f0f921\"]]}],\"surface\":[{\"type\":\"surface\",\"colorbar\":{\"outlinewidth\":0,\"ticks\":\"\"},\"colorscale\":[[0.0,\"#0d0887\"],[0.1111111111111111,\"#46039f\"],[0.2222222222222222,\"#7201a8\"],[0.3333333333333333,\"#9c179e\"],[0.4444444444444444,\"#bd3786\"],[0.5555555555555556,\"#d8576b\"],[0.6666666666666666,\"#ed7953\"],[0.7777777777777778,\"#fb9f3a\"],[0.8888888888888888,\"#fdca26\"],[1.0,\"#f0f921\"]]}],\"mesh3d\":[{\"type\":\"mesh3d\",\"colorbar\":{\"outlinewidth\":0,\"ticks\":\"\"}}],\"scatter\":[{\"fillpattern\":{\"fillmode\":\"overlay\",\"size\":10,\"solidity\":0.2},\"type\":\"scatter\"}],\"parcoords\":[{\"type\":\"parcoords\",\"line\":{\"colorbar\":{\"outlinewidth\":0,\"ticks\":\"\"}}}],\"scatterpolargl\":[{\"type\":\"scatterpolargl\",\"marker\":{\"colorbar\":{\"outlinewidth\":0,\"ticks\":\"\"}}}],\"bar\":[{\"error_x\":{\"color\":\"#2a3f5f\"},\"error_y\":{\"color\":\"#2a3f5f\"},\"marker\":{\"line\":{\"color\":\"#E5ECF6\",\"width\":0.5},\"pattern\":{\"fillmode\":\"overlay\",\"size\":10,\"solidity\":0.2}},\"type\":\"bar\"}],\"scattergeo\":[{\"type\":\"scattergeo\",\"marker\":{\"colorbar\":{\"outlinewidth\":0,\"ticks\":\"\"}}}],\"scatterpolar\":[{\"type\":\"scatterpolar\",\"marker\":{\"colorbar\":{\"outlinewidth\":0,\"ticks\":\"\"}}}],\"histogram\":[{\"marker\":{\"pattern\":{\"fillmode\":\"overlay\",\"size\":10,\"solidity\":0.2}},\"type\":\"histogram\"}],\"scattergl\":[{\"type\":\"scattergl\",\"marker\":{\"colorbar\":{\"outlinewidth\":0,\"ticks\":\"\"}}}],\"scatter3d\":[{\"type\":\"scatter3d\",\"line\":{\"colorbar\":{\"outlinewidth\":0,\"ticks\":\"\"}},\"marker\":{\"colorbar\":{\"outlinewidth\":0,\"ticks\":\"\"}}}],\"scattermapbox\":[{\"type\":\"scattermapbox\",\"marker\":{\"colorbar\":{\"outlinewidth\":0,\"ticks\":\"\"}}}],\"scatterternary\":[{\"type\":\"scatterternary\",\"marker\":{\"colorbar\":{\"outlinewidth\":0,\"ticks\":\"\"}}}],\"scattercarpet\":[{\"type\":\"scattercarpet\",\"marker\":{\"colorbar\":{\"outlinewidth\":0,\"ticks\":\"\"}}}],\"carpet\":[{\"aaxis\":{\"endlinecolor\":\"#2a3f5f\",\"gridcolor\":\"white\",\"linecolor\":\"white\",\"minorgridcolor\":\"white\",\"startlinecolor\":\"#2a3f5f\"},\"baxis\":{\"endlinecolor\":\"#2a3f5f\",\"gridcolor\":\"white\",\"linecolor\":\"white\",\"minorgridcolor\":\"white\",\"startlinecolor\":\"#2a3f5f\"},\"type\":\"carpet\"}],\"table\":[{\"cells\":{\"fill\":{\"color\":\"#EBF0F8\"},\"line\":{\"color\":\"white\"}},\"header\":{\"fill\":{\"color\":\"#C8D4E3\"},\"line\":{\"color\":\"white\"}},\"type\":\"table\"}],\"barpolar\":[{\"marker\":{\"line\":{\"color\":\"#E5ECF6\",\"width\":0.5},\"pattern\":{\"fillmode\":\"overlay\",\"size\":10,\"solidity\":0.2}},\"type\":\"barpolar\"}],\"pie\":[{\"automargin\":true,\"type\":\"pie\"}]},\"layout\":{\"autotypenumbers\":\"strict\",\"colorway\":[\"#636efa\",\"#EF553B\",\"#00cc96\",\"#ab63fa\",\"#FFA15A\",\"#19d3f3\",\"#FF6692\",\"#B6E880\",\"#FF97FF\",\"#FECB52\"],\"font\":{\"color\":\"#2a3f5f\"},\"hovermode\":\"closest\",\"hoverlabel\":{\"align\":\"left\"},\"paper_bgcolor\":\"white\",\"plot_bgcolor\":\"#E5ECF6\",\"polar\":{\"bgcolor\":\"#E5ECF6\",\"angularaxis\":{\"gridcolor\":\"white\",\"linecolor\":\"white\",\"ticks\":\"\"},\"radialaxis\":{\"gridcolor\":\"white\",\"linecolor\":\"white\",\"ticks\":\"\"}},\"ternary\":{\"bgcolor\":\"#E5ECF6\",\"aaxis\":{\"gridcolor\":\"white\",\"linecolor\":\"white\",\"ticks\":\"\"},\"baxis\":{\"gridcolor\":\"white\",\"linecolor\":\"white\",\"ticks\":\"\"},\"caxis\":{\"gridcolor\":\"white\",\"linecolor\":\"white\",\"ticks\":\"\"}},\"coloraxis\":{\"colorbar\":{\"outlinewidth\":0,\"ticks\":\"\"}},\"colorscale\":{\"sequential\":[[0.0,\"#0d0887\"],[0.1111111111111111,\"#46039f\"],[0.2222222222222222,\"#7201a8\"],[0.3333333333333333,\"#9c179e\"],[0.4444444444444444,\"#bd3786\"],[0.5555555555555556,\"#d8576b\"],[0.6666666666666666,\"#ed7953\"],[0.7777777777777778,\"#fb9f3a\"],[0.8888888888888888,\"#fdca26\"],[1.0,\"#f0f921\"]],\"sequentialminus\":[[0.0,\"#0d0887\"],[0.1111111111111111,\"#46039f\"],[0.2222222222222222,\"#7201a8\"],[0.3333333333333333,\"#9c179e\"],[0.4444444444444444,\"#bd3786\"],[0.5555555555555556,\"#d8576b\"],[0.6666666666666666,\"#ed7953\"],[0.7777777777777778,\"#fb9f3a\"],[0.8888888888888888,\"#fdca26\"],[1.0,\"#f0f921\"]],\"diverging\":[[0,\"#8e0152\"],[0.1,\"#c51b7d\"],[0.2,\"#de77ae\"],[0.3,\"#f1b6da\"],[0.4,\"#fde0ef\"],[0.5,\"#f7f7f7\"],[0.6,\"#e6f5d0\"],[0.7,\"#b8e186\"],[0.8,\"#7fbc41\"],[0.9,\"#4d9221\"],[1,\"#276419\"]]},\"xaxis\":{\"gridcolor\":\"white\",\"linecolor\":\"white\",\"ticks\":\"\",\"title\":{\"standoff\":15},\"zerolinecolor\":\"white\",\"automargin\":true,\"zerolinewidth\":2},\"yaxis\":{\"gridcolor\":\"white\",\"linecolor\":\"white\",\"ticks\":\"\",\"title\":{\"standoff\":15},\"zerolinecolor\":\"white\",\"automargin\":true,\"zerolinewidth\":2},\"scene\":{\"xaxis\":{\"backgroundcolor\":\"#E5ECF6\",\"gridcolor\":\"white\",\"linecolor\":\"white\",\"showbackground\":true,\"ticks\":\"\",\"zerolinecolor\":\"white\",\"gridwidth\":2},\"yaxis\":{\"backgroundcolor\":\"#E5ECF6\",\"gridcolor\":\"white\",\"linecolor\":\"white\",\"showbackground\":true,\"ticks\":\"\",\"zerolinecolor\":\"white\",\"gridwidth\":2},\"zaxis\":{\"backgroundcolor\":\"#E5ECF6\",\"gridcolor\":\"white\",\"linecolor\":\"white\",\"showbackground\":true,\"ticks\":\"\",\"zerolinecolor\":\"white\",\"gridwidth\":2}},\"shapedefaults\":{\"line\":{\"color\":\"#2a3f5f\"}},\"annotationdefaults\":{\"arrowcolor\":\"#2a3f5f\",\"arrowhead\":0,\"arrowwidth\":1},\"geo\":{\"bgcolor\":\"white\",\"landcolor\":\"#E5ECF6\",\"subunitcolor\":\"white\",\"showland\":true,\"showlakes\":true,\"lakecolor\":\"white\"},\"title\":{\"x\":0.05},\"mapbox\":{\"style\":\"light\"}}},\"xaxis\":{\"anchor\":\"y\",\"domain\":[0.0,1.0],\"title\":{\"text\":\"month\"}},\"yaxis\":{\"anchor\":\"x\",\"domain\":[0.0,1.0],\"title\":{\"text\":\"number_of_people\"}},\"legend\":{\"title\":{\"text\":\"Hour\"},\"tracegroupgap\":0},\"margin\":{\"t\":60},\"barmode\":\"group\",\"height\":400},                        {\"responsive\": true}                    ).then(function(){\n",
       "                            \n",
       "var gd = document.getElementById('98abf37a-8163-4c6d-af31-5925818f866e');\n",
       "var x = new MutationObserver(function (mutations, observer) {{\n",
       "        var display = window.getComputedStyle(gd).display;\n",
       "        if (!display || display === 'none') {{\n",
       "            console.log([gd, 'removed!']);\n",
       "            Plotly.purge(gd);\n",
       "            observer.disconnect();\n",
       "        }}\n",
       "}});\n",
       "\n",
       "// Listen for the removal of the full notebook cells\n",
       "var notebookContainer = gd.closest('#notebook-container');\n",
       "if (notebookContainer) {{\n",
       "    x.observe(notebookContainer, {childList: true});\n",
       "}}\n",
       "\n",
       "// Listen for the clearing of the current output cell\n",
       "var outputEl = gd.closest('.output');\n",
       "if (outputEl) {{\n",
       "    x.observe(outputEl, {childList: true});\n",
       "}}\n",
       "\n",
       "                        })                };                });            </script>        </div>"
      ]
     },
     "metadata": {},
     "output_type": "display_data"
    }
   ],
   "source": [
    "px.bar(group_by_month, x=\"month\", y=\"number_of_people\",\n",
    "             color='Hour', barmode='group',\n",
    "             height=400)"
   ]
  },
  {
   "cell_type": "code",
   "execution_count": null,
   "id": "c7b84f0d",
   "metadata": {},
   "outputs": [],
   "source": []
  }
 ],
 "metadata": {
  "kernelspec": {
   "display_name": "Python 3 (ipykernel)",
   "language": "python",
   "name": "python3"
  },
  "language_info": {
   "codemirror_mode": {
    "name": "ipython",
    "version": 3
   },
   "file_extension": ".py",
   "mimetype": "text/x-python",
   "name": "python",
   "nbconvert_exporter": "python",
   "pygments_lexer": "ipython3",
   "version": "3.9.13"
  }
 },
 "nbformat": 4,
 "nbformat_minor": 5
}
