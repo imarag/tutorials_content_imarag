{
 "cells": [
  {
   "cell_type": "markdown",
   "id": "13ce02f4",
   "metadata": {},
   "source": [
    "# Python OS library"
   ]
  },
  {
   "cell_type": "markdown",
   "id": "d8aa03c4",
   "metadata": {},
   "source": [
    "The OS module in Python provides functions for creating and removing a directory, changing and identifying the current directory, interacting with the paths, listing the contents of folders and in general interact with the underlying operating system."
   ]
  },
  {
   "cell_type": "code",
   "execution_count": 2,
   "id": "740b4c3a",
   "metadata": {},
   "outputs": [],
   "source": [
    "# import the library\n",
    "import os"
   ]
  },
  {
   "cell_type": "code",
   "execution_count": 3,
   "id": "3b45838f",
   "metadata": {},
   "outputs": [],
   "source": [
    "# let's create a global path variable to edit later\n",
    "mypath = 'C:/Users/User/Desktop/myfile.txt'"
   ]
  },
  {
   "cell_type": "markdown",
   "id": "34ee03d7",
   "metadata": {},
   "source": [
    "Here i am going to present, the most useful commands that someone needs to know in order to work with files, folders and the operating system paths"
   ]
  },
  {
   "cell_type": "code",
   "execution_count": 6,
   "id": "3deb583d",
   "metadata": {},
   "outputs": [
    {
     "name": "stdout",
     "output_type": "stream",
     "text": [
      "\n"
     ]
    }
   ],
   "source": [
    "# get the current working directory\n",
    "os.getcwd() #straightforward"
   ]
  },
  {
   "cell_type": "code",
   "execution_count": null,
   "id": "575be5da",
   "metadata": {},
   "outputs": [],
   "source": [
    "# change the current working directory\n",
    "os.chdir('path/to/change/the/working/directory')\n",
    "# you can use an absolute path or a relative one. You can allo use the '..' to specify the parent directory"
   ]
  },
  {
   "cell_type": "code",
   "execution_count": 7,
   "id": "06a4d1dd",
   "metadata": {},
   "outputs": [],
   "source": [
    "# create a folder. If the directory already exists, FileExistsError is raised\n",
    "os.mkdir('myfolder')"
   ]
  },
  {
   "cell_type": "code",
   "execution_count": null,
   "id": "09b23164",
   "metadata": {},
   "outputs": [],
   "source": [
    "# Recursive directory creation function\n",
    "os.mkdirs('folder1/folder2/another_folder')\n",
    "\n",
    "# If a parent directory in the path does not exist, FileNotFoundError is raised."
   ]
  },
  {
   "cell_type": "code",
   "execution_count": 9,
   "id": "fefa5ed6",
   "metadata": {},
   "outputs": [
    {
     "data": {
      "text/plain": [
       "('C:/Users/User/Desktop/myfile', '.txt')"
      ]
     },
     "execution_count": 9,
     "metadata": {},
     "output_type": "execute_result"
    }
   ],
   "source": [
    "# split the path into the file path WITHOUT the extension and the extension\n",
    "os.path.splitext(mypath)"
   ]
  },
  {
   "cell_type": "code",
   "execution_count": 15,
   "id": "72045d6c",
   "metadata": {},
   "outputs": [
    {
     "data": {
      "text/plain": [
       "('C:/Users/User/Desktop', 'myfile.txt')"
      ]
     },
     "execution_count": 15,
     "metadata": {},
     "output_type": "execute_result"
    }
   ],
   "source": [
    "# split the path into the parent directory path and the file name with its extension\n",
    "os.path.split(mypath)"
   ]
  },
  {
   "cell_type": "code",
   "execution_count": 10,
   "id": "b491128a",
   "metadata": {},
   "outputs": [
    {
     "data": {
      "text/plain": [
       "'myfile.txt'"
      ]
     },
     "execution_count": 10,
     "metadata": {},
     "output_type": "execute_result"
    }
   ],
   "source": [
    "# get the file with its extension removing the parent directory path\n",
    "os.path.basename(mypath)"
   ]
  },
  {
   "cell_type": "code",
   "execution_count": 12,
   "id": "c1e63a76",
   "metadata": {},
   "outputs": [
    {
     "data": {
      "text/plain": [
       "'C:/Users/User/Desktop'"
      ]
     },
     "execution_count": 12,
     "metadata": {},
     "output_type": "execute_result"
    }
   ],
   "source": [
    "# get just the parent directory path without the file name and its extension\n",
    "os.path.dirname(mypath)"
   ]
  },
  {
   "cell_type": "markdown",
   "id": "f68b68eb",
   "metadata": {},
   "source": [
    "As you can see the `os.path.split()` consists of the `os.path.basename()` and the `os.path.dirname()`"
   ]
  },
  {
   "cell_type": "code",
   "execution_count": 19,
   "id": "116f209a",
   "metadata": {},
   "outputs": [
    {
     "name": "stdout",
     "output_type": "stream",
     "text": [
      "\n"
     ]
    }
   ],
   "source": [
    "# check if the object you pass (input) is a file or a directory\n",
    "# both return True/False\n",
    "os.path.isdir(mypath)\n",
    "os.path.isfile(mypath)\n",
    "print()"
   ]
  },
  {
   "cell_type": "code",
   "execution_count": 21,
   "id": "cfc28330",
   "metadata": {},
   "outputs": [
    {
     "name": "stdout",
     "output_type": "stream",
     "text": [
      "\n"
     ]
    }
   ],
   "source": [
    "# check if the specified path exists in your OS\n",
    "os.path.exists(mypath) # return True/False\n",
    "print()"
   ]
  },
  {
   "cell_type": "code",
   "execution_count": 23,
   "id": "75580408",
   "metadata": {},
   "outputs": [
    {
     "name": "stdout",
     "output_type": "stream",
     "text": [
      "\n"
     ]
    }
   ],
   "source": [
    "# get the absolute path of the specified path. You usually use this function to get the absolute path from\n",
    "# a relative path\n",
    "os.path.abspath('.') # get the absolute path of the '.' that is the current directory\n",
    "print()"
   ]
  },
  {
   "cell_type": "code",
   "execution_count": 31,
   "id": "ff1b8068",
   "metadata": {},
   "outputs": [
    {
     "name": "stdout",
     "output_type": "stream",
     "text": [
      "parent path:  git_tutorials/folder1\n",
      "--------------------------------------\n",
      "total folders in git_tutorials/folder1:  ['folder2', 'folder3']\n",
      "total files in git_tutorials/folder1:  ['file1.txt', 'file2.txt']\n",
      "\n",
      "parent path:  git_tutorials/folder1\\folder2\n",
      "--------------------------------------\n",
      "total folders in git_tutorials/folder1\\folder2:  []\n",
      "total files in git_tutorials/folder1\\folder2:  ['dog_image.png', 'main.py', 'project1.py', 'readme.md']\n",
      "\n",
      "parent path:  git_tutorials/folder1\\folder3\n",
      "--------------------------------------\n",
      "total folders in git_tutorials/folder1\\folder3:  ['folder4']\n",
      "total files in git_tutorials/folder1\\folder3:  []\n",
      "\n",
      "parent path:  git_tutorials/folder1\\folder3\\folder4\n",
      "--------------------------------------\n",
      "total folders in git_tutorials/folder1\\folder3\\folder4:  []\n",
      "total files in git_tutorials/folder1\\folder3\\folder4:  ['index.html', 'style.css']\n",
      "\n"
     ]
    }
   ],
   "source": [
    "# recursively loop through the structure of the folder path\n",
    "# it will return a generator object. Loop throught the generator to get every time  the parent path, the\n",
    "# total folders in the parent path and the total files in the parent path. The parent path changes every time as the code \n",
    "# goes into each of the subfolder recursively:\n",
    "\n",
    "for parent_path, all_folders, all_files in os.walk('git_tutorials/folder1'):\n",
    "    print('parent path: ', parent_path)\n",
    "    print('--------------------------------------')\n",
    "    print(f'total folders in {parent_path}: ', all_folders)\n",
    "    print(f'total files in {parent_path}: ', all_files)\n",
    "    print()"
   ]
  },
  {
   "cell_type": "code",
   "execution_count": null,
   "id": "b9fb1a76",
   "metadata": {},
   "outputs": [],
   "source": []
  }
 ],
 "metadata": {
  "kernelspec": {
   "display_name": "Python 3 (ipykernel)",
   "language": "python",
   "name": "python3"
  },
  "language_info": {
   "codemirror_mode": {
    "name": "ipython",
    "version": 3
   },
   "file_extension": ".py",
   "mimetype": "text/x-python",
   "name": "python",
   "nbconvert_exporter": "python",
   "pygments_lexer": "ipython3",
   "version": "3.9.13"
  }
 },
 "nbformat": 4,
 "nbformat_minor": 5
}
